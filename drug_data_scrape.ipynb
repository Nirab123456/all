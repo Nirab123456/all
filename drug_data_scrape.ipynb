{
 "cells": [
  {
   "cell_type": "code",
   "execution_count": null,
   "metadata": {},
   "outputs": [],
   "source": [
    "import requests\n",
    "from bs4 import BeautifulSoup\n"
   ]
  },
  {
   "cell_type": "code",
   "execution_count": null,
   "metadata": {},
   "outputs": [],
   "source": [
    "url = \"https://medex.com.bd/generics/2043/abemaciclib\"\n",
    "html_content = requests.get(url).text\n"
   ]
  },
  {
   "cell_type": "code",
   "execution_count": null,
   "metadata": {},
   "outputs": [],
   "source": [
    "soup = BeautifulSoup(html_content, \"html.parser\")\n",
    "\n",
    "# Extract drug name\n",
    "drug_name = soup.find(\"h2\", class_=\"drug-header-title\").text.strip()\n",
    "\n",
    "# Extract drug price\n",
    "drug_price = soup.find(\"span\", class_=\"drug-price__price\").text.strip()\n",
    "\n",
    "# Extract drug strength\n",
    "drug_strength = soup.find(\"div\", class_=\"drug-info__detail\").find_all(\"div\", class_=\"drug-info__detail__item\")[0].text.strip()\n",
    "\n",
    "# Extract drug dosage form\n",
    "drug_dosage_form = soup.find(\"div\", class_=\"drug-info__detail\").find_all(\"div\", class_=\"drug-info__detail__item\")[1].text.strip()\n",
    "\n",
    "# Extract drug manufacturer\n",
    "drug_manufacturer = soup.find(\"div\", class_=\"drug-info__detail\").find_all(\"div\", class_=\"drug-info__detail__item\")[2].text.strip()\n",
    "\n",
    "# Extract drug country of origin\n",
    "drug_country = soup.find(\"div\", class_=\"drug-info__detail\").find_all(\"div\", class_=\"drug-info__detail__item\")[3].text.strip()\n",
    "\n",
    "# Extract drug package size\n",
    "drug_package_size = soup.find(\"div\", class_=\"drug-info__detail\").find_all(\"div\", class_=\"drug-info__detail__item\")[4].text.strip()\n"
   ]
  },
  {
   "cell_type": "code",
   "execution_count": null,
   "metadata": {},
   "outputs": [],
   "source": [
    "print(\"Drug Name: \", drug_name)\n",
    "print(\"Drug Price: \", drug_price)\n",
    "print(\"Drug Strength: \", drug_strength)\n",
    "print(\"Drug Dosage Form: \", drug_dosage_form)\n",
    "print(\"Drug Manufacturer: \", drug_manufacturer)\n",
    "print(\"Drug Country of Origin: \", drug_country)\n",
    "print(\"Drug Package Size: \", drug_package_size)\n",
    "\n"
   ]
  },
  {
   "cell_type": "code",
   "execution_count": null,
   "metadata": {},
   "outputs": [],
   "source": [
    "\n",
    "from selenium import webdriver\n",
    "from selenium.webdriver.chrome.service import Service\n",
    "from selenium.webdriver.common.by import By"
   ]
  },
  {
   "cell_type": "code",
   "execution_count": null,
   "metadata": {},
   "outputs": [],
   "source": [
    "# Set up the Chrome driver\n",
    "service = Service('C:/langchain2/chromedriver.exe')\n",
    "driver = webdriver.Chrome(service=service)"
   ]
  },
  {
   "cell_type": "code",
   "execution_count": null,
   "metadata": {},
   "outputs": [],
   "source": [
    "# Navigate to the website\n",
    "url = \"https://medex.com.bd/generics/2043/abemaciclib\"\n",
    "driver.get(url)\n"
   ]
  },
  {
   "cell_type": "code",
   "execution_count": null,
   "metadata": {},
   "outputs": [],
   "source": [
    "# Wait for the page to load\n",
    "driver.implicitly_wait(10)"
   ]
  },
  {
   "cell_type": "code",
   "execution_count": null,
   "metadata": {},
   "outputs": [],
   "source": [
    "driver"
   ]
  },
  {
   "cell_type": "code",
   "execution_count": null,
   "metadata": {},
   "outputs": [],
   "source": [
    "# Find the drug name element\n",
    "drug_name_element = driver.find_element(By.CLASS_NAME, \"drug-header-title\")\n"
   ]
  },
  {
   "cell_type": "code",
   "execution_count": null,
   "metadata": {},
   "outputs": [],
   "source": [
    "\n",
    "\n",
    "\n",
    "\n",
    "\n",
    "\n",
    "\n",
    "\n",
    "# Extract the drug name\n",
    "drug_name = drug_name_element.text.strip()\n",
    "\n",
    "# Print the result\n",
    "print(\"Drug Name: \", drug_name)\n",
    "\n",
    "# Close the driver\n",
    "driver.quit()\n"
   ]
  },
  {
   "cell_type": "code",
   "execution_count": null,
   "metadata": {},
   "outputs": [],
   "source": [
    "from selenium.webdriver.common.by import By\n",
    "from selenium.webdriver.support.ui import WebDriverWait\n",
    "from selenium.webdriver.support import expected_conditions as EC\n",
    "\n",
    "# Wait for the drug name element to be visible\n",
    "wait = WebDriverWait(driver, 10)\n",
    "drug_name_element = wait.until(EC.visibility_of_element_located((By.CLASS_NAME, \"drug-header-title\")))\n",
    "\n",
    "# Extract the drug name\n",
    "drug_name = drug_name_element.text.strip()\n",
    "\n",
    "# Print the result\n",
    "print(\"Drug Name: \", drug_name)\n"
   ]
  },
  {
   "cell_type": "code",
   "execution_count": 14,
   "metadata": {},
   "outputs": [],
   "source": [
    "import requests\n",
    "\n",
    "# Make a request to the URL\n",
    "url = 'https://en.wikipedia.org/wiki/Dengue_fever'\n",
    "response = requests.get(url)\n",
    "\n",
    "# Save the HTML content as text\n",
    "with open('dengue.txt', 'w', encoding='utf-8') as file:\n",
    "    file.write(response.text)\n"
   ]
  },
  {
   "cell_type": "code",
   "execution_count": 20,
   "metadata": {},
   "outputs": [],
   "source": [
    "import requests\n",
    "from bs4 import BeautifulSoup\n",
    "\n",
    "# Replace this with the Wikipedia URL of your choice\n",
    "url = \"https://en.wikipedia.org/wiki/Typhoid_fever\"\n",
    "\n",
    "# Send a GET request to the URL and store the HTML content\n",
    "response = requests.get(url)\n",
    "html_content = response.content\n",
    "\n",
    "# Parse the HTML content using BeautifulSoup\n",
    "soup = BeautifulSoup(html_content, 'html.parser')\n",
    "\n",
    "# Extract the main text content of the Wikipedia page\n",
    "main_text = \"\"\n",
    "for paragraph in soup.find_all('p'):\n",
    "    main_text += paragraph.get_text()\n",
    "\n",
    "# Save the text content to a file\n",
    "with open('Typhoid_fever.txt', 'w', encoding='utf-8') as file:\n",
    "    file.write(main_text)\n"
   ]
  }
 ],
 "metadata": {
  "kernelspec": {
   "display_name": "Python 3",
   "language": "python",
   "name": "python3"
  },
  "language_info": {
   "codemirror_mode": {
    "name": "ipython",
    "version": 3
   },
   "file_extension": ".py",
   "mimetype": "text/x-python",
   "name": "python",
   "nbconvert_exporter": "python",
   "pygments_lexer": "ipython3",
   "version": "3.10.0"
  },
  "orig_nbformat": 4
 },
 "nbformat": 4,
 "nbformat_minor": 2
}

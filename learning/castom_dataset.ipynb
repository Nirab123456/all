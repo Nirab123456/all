{
 "cells": [
  {
   "cell_type": "code",
   "execution_count": 1,
   "metadata": {},
   "outputs": [],
   "source": [
    "import os\n",
    "import pathlib\n",
    "import torch\n",
    "from PIL import Image\n",
    "from torch.utils.data import Dataset, DataLoader\n",
    "from torchvision import transforms\n",
    "from typing import Tuple,Dict,List\n",
    "from helperfunctions import find_classes,show_random_image,show_batch_images"
   ]
  },
  {
   "cell_type": "code",
   "execution_count": 2,
   "metadata": {},
   "outputs": [
    {
     "data": {
      "text/plain": [
       "['pizza', 'steak', 'sushi']"
      ]
     },
     "execution_count": 2,
     "metadata": {},
     "output_type": "execute_result"
    }
   ],
   "source": [
    "target_dir = pathlib.Path('data/pizza_steak_sushi/train/')\n",
    "class_names_found = sorted([item.name for item in target_dir.glob('*')])\n",
    "class_names_found"
   ]
  },
  {
   "cell_type": "code",
   "execution_count": 3,
   "metadata": {},
   "outputs": [
    {
     "data": {
      "text/plain": [
       "(['pizza', 'steak', 'sushi'], {'pizza': 0, 'steak': 1, 'sushi': 2})"
      ]
     },
     "execution_count": 3,
     "metadata": {},
     "output_type": "execute_result"
    }
   ],
   "source": [
    "find_classes('data/pizza_steak_sushi/train/')"
   ]
  },
  {
   "cell_type": "code",
   "execution_count": 4,
   "metadata": {},
   "outputs": [],
   "source": [
    "class ImageFolderCustom(Dataset):\n",
    "    \"\"\"castom dataset\"\"\"\n",
    "    def __init__(self, targ_dir:str, transform=None):\n",
    "        \"\"\"inetialize the dataset\"\"\"\n",
    "        self.paths = list(pathlib.Path(targ_dir).glob('*/*'))\n",
    "        self.transform = transform\n",
    "        self.classes, self.class_to_idx = find_classes(targ_dir)\n",
    "\n",
    "    def load_image(self, index:int)->Image.Image:\n",
    "        \"\"\"load image\"\"\"\n",
    "        img_path = self.paths[index]\n",
    "        return Image.open(img_path)\n",
    "    \n",
    "    def __len__(self):\n",
    "        \"\"\"return len of dataset\"\"\"\n",
    "        return len(self.paths)\n",
    "    \n",
    "    def __getitem__(self, index:int)->Tuple[torch.Tensor, int]:\n",
    "        \"\"\"return tensor and label\"\"\"\n",
    "        img = self.load_image(index)\n",
    "        class_name = self.paths[index].parent.name\n",
    "        class_idx = self.class_to_idx[class_name]\n",
    "        if self.transform:\n",
    "            return self.transform(img), class_idx\n",
    "        else:\n",
    "            return img, class_idx\n"
   ]
  },
  {
   "cell_type": "code",
   "execution_count": 5,
   "metadata": {},
   "outputs": [],
   "source": [
    "#create a transform\n",
    "train_transform = transforms.Compose([\n",
    "\n",
    "    transforms.Resize((64,64)),\n",
    "    transforms.RandomHorizontalFlip(p=0.5),\n",
    "    transforms.RandomVerticalFlip(p=0.5),\n",
    "    transforms.RandomRotation(30),\n",
    "    transforms.TrivialAugmentWide(num_magnitude_bins=3),\n",
    "    transforms.ToTensor()\n",
    "])\n",
    "test_transform = transforms.Compose([\n",
    "\n",
    "    transforms.Resize((64,64)),\n",
    "    transforms.ToTensor()\n",
    "])"
   ]
  },
  {
   "cell_type": "code",
   "execution_count": 6,
   "metadata": {},
   "outputs": [],
   "source": [
    "train_dir = 'data/pizza_steak_sushi/train/'\n",
    "test_dir = 'data/pizza_steak_sushi/test/'"
   ]
  },
  {
   "cell_type": "code",
   "execution_count": 7,
   "metadata": {},
   "outputs": [
    {
     "data": {
      "text/plain": [
       "(Dataset ImageFolder\n",
       "     Number of datapoints: 225\n",
       "     Root location: data/pizza_steak_sushi/train/\n",
       "     StandardTransform\n",
       " Transform: Compose(\n",
       "                Resize(size=(64, 64), interpolation=bilinear, max_size=None, antialias=warn)\n",
       "                RandomHorizontalFlip(p=0.5)\n",
       "                RandomVerticalFlip(p=0.5)\n",
       "                RandomRotation(degrees=[-30.0, 30.0], interpolation=nearest, expand=False, fill=0)\n",
       "                TrivialAugmentWide(num_magnitude_bins=3, interpolation=InterpolationMode.NEAREST, fill=None)\n",
       "                ToTensor()\n",
       "            ),\n",
       " Dataset ImageFolder\n",
       "     Number of datapoints: 75\n",
       "     Root location: data/pizza_steak_sushi/test/\n",
       "     StandardTransform\n",
       " Transform: Compose(\n",
       "                Resize(size=(64, 64), interpolation=bilinear, max_size=None, antialias=warn)\n",
       "                ToTensor()\n",
       "            ))"
      ]
     },
     "execution_count": 7,
     "metadata": {},
     "output_type": "execute_result"
    }
   ],
   "source": [
    "from torchvision.datasets import ImageFolder\n",
    "train_data = ImageFolder(train_dir,transform=train_transform)\n",
    "test_data = ImageFolder(test_dir,transform=test_transform)\n",
    "train_data,test_data"
   ]
  },
  {
   "cell_type": "code",
   "execution_count": 8,
   "metadata": {},
   "outputs": [
    {
     "data": {
      "text/plain": [
       "(['pizza', 'steak', 'sushi'],\n",
       " {'pizza': 0, 'steak': 1, 'sushi': 2},\n",
       " ['pizza', 'steak', 'sushi'],\n",
       " {'pizza': 0, 'steak': 1, 'sushi': 2})"
      ]
     },
     "execution_count": 8,
     "metadata": {},
     "output_type": "execute_result"
    }
   ],
   "source": [
    "train_data.classes, train_data.class_to_idx, test_data.classes, test_data.class_to_idx"
   ]
  },
  {
   "cell_type": "code",
   "execution_count": 9,
   "metadata": {},
   "outputs": [
    {
     "data": {
      "text/plain": [
       "(225, 75)"
      ]
     },
     "execution_count": 9,
     "metadata": {},
     "output_type": "execute_result"
    }
   ],
   "source": [
    "len(train_data), len(test_data)"
   ]
  },
  {
   "cell_type": "code",
   "execution_count": 10,
   "metadata": {},
   "outputs": [
    {
     "data": {
      "text/plain": [
       "Dataset ImageFolder\n",
       "    Number of datapoints: 225\n",
       "    Root location: data/pizza_steak_sushi/train/\n",
       "    StandardTransform\n",
       "Transform: Compose(\n",
       "               Resize(size=(64, 64), interpolation=bilinear, max_size=None, antialias=warn)\n",
       "               RandomHorizontalFlip(p=0.5)\n",
       "               RandomVerticalFlip(p=0.5)\n",
       "               RandomRotation(degrees=[-30.0, 30.0], interpolation=nearest, expand=False, fill=0)\n",
       "               TrivialAugmentWide(num_magnitude_bins=3, interpolation=InterpolationMode.NEAREST, fill=None)\n",
       "               ToTensor()\n",
       "           )"
      ]
     },
     "execution_count": 10,
     "metadata": {},
     "output_type": "execute_result"
    }
   ],
   "source": [
    "train_data"
   ]
  },
  {
   "cell_type": "code",
   "execution_count": 11,
   "metadata": {},
   "outputs": [
    {
     "data": {
      "text/plain": [
       "Dataset ImageFolder\n",
       "    Number of datapoints: 75\n",
       "    Root location: data/pizza_steak_sushi/test/\n",
       "    StandardTransform\n",
       "Transform: Compose(\n",
       "               Resize(size=(64, 64), interpolation=bilinear, max_size=None, antialias=warn)\n",
       "               ToTensor()\n",
       "           )"
      ]
     },
     "execution_count": 11,
     "metadata": {},
     "output_type": "execute_result"
    }
   ],
   "source": [
    "test_data"
   ]
  },
  {
   "cell_type": "code",
   "execution_count": 12,
   "metadata": {},
   "outputs": [
    {
     "name": "stdout",
     "output_type": "stream",
     "text": [
      "img shape: torch.Size([3, 64, 64])\n",
      "label: sushi\n"
     ]
    },
    {
     "data": {
      "image/png": "[encoded data removed]",
      "text/plain": [
       "<Figure size 640x480 with 1 Axes>"
      ]
     },
     "metadata": {},
     "output_type": "display_data"
    },
    {
     "name": "stdout",
     "output_type": "stream",
     "text": [
      "img shape: torch.Size([3, 64, 64])\n",
      "label: sushi\n"
     ]
    },
    {
     "data": {
      "image/png": "[encoded data removed]",
      "text/plain": [
       "<Figure size 640x480 with 1 Axes>"
      ]
     },
     "metadata": {},
     "output_type": "display_data"
    },
    {
     "name": "stdout",
     "output_type": "stream",
     "text": [
      "img shape: torch.Size([3, 64, 64])\n",
      "label: sushi\n"
     ]
    },
    {
     "data": {
      "image/png": "[encoded data removed]",
      "text/plain": [
       "<Figure size 640x480 with 1 Axes>"
      ]
     },
     "metadata": {},
     "output_type": "display_data"
    },
    {
     "name": "stdout",
     "output_type": "stream",
     "text": [
      "img shape: torch.Size([3, 64, 64])\n",
      "label: pizza\n"
     ]
    },
    {
     "data": {
      "image/png": "[encoded data removed]",
      "text/plain": [
       "<Figure size 640x480 with 1 Axes>"
      ]
     },
     "metadata": {},
     "output_type": "display_data"
    },
    {
     "name": "stdout",
     "output_type": "stream",
     "text": [
      "img shape: torch.Size([3, 64, 64])\n",
      "label: sushi\n"
     ]
    },
    {
     "data": {
      "image/png": "[encoded data removed]",
      "text/plain": [
       "<Figure size 640x480 with 1 Axes>"
      ]
     },
     "metadata": {},
     "output_type": "display_data"
    }
   ],
   "source": [
    "show_batch_images(test_data, classes=test_data.classes, n=5, display_shape=True)"
   ]
  },
  {
   "cell_type": "code",
   "execution_count": 13,
   "metadata": {},
   "outputs": [
    {
     "data": {
      "text/plain": [
       "(<torch.utils.data.dataloader.DataLoader at 0x1e57f6efbe0>,\n",
       " <torch.utils.data.dataloader.DataLoader at 0x1e57f50f400>)"
      ]
     },
     "execution_count": 13,
     "metadata": {},
     "output_type": "execute_result"
    }
   ],
   "source": [
    "#setup data loaders\n",
    "BATCH_SIZE = 32\n",
    "NUM_WORKERS = 16\n",
    "train_dataloader_castom = DataLoader(train_data,batch_size=BATCH_SIZE,shuffle=True,num_workers=NUM_WORKERS)\n",
    "test_dataloader_castom = DataLoader(test_data,batch_size=BATCH_SIZE,num_workers=NUM_WORKERS)\n",
    "train_dataloader_castom, test_dataloader_castom"
   ]
  },
  {
   "cell_type": "code",
   "execution_count": 14,
   "metadata": {},
   "outputs": [
    {
     "data": {
      "text/plain": [
       "(8, 3)"
      ]
     },
     "execution_count": 14,
     "metadata": {},
     "output_type": "execute_result"
    }
   ],
   "source": [
    "len(train_dataloader_castom), len(test_dataloader_castom)"
   ]
  },
  {
   "cell_type": "code",
   "execution_count": 15,
   "metadata": {},
   "outputs": [],
   "source": [
    "#get imge and label from dataloader\n",
    "images, labels = next(iter(train_dataloader_castom))"
   ]
  },
  {
   "cell_type": "code",
   "execution_count": 16,
   "metadata": {},
   "outputs": [
    {
     "data": {
      "text/plain": [
       "(torch.Size([32, 3, 64, 64]), torch.Size([32]))"
      ]
     },
     "execution_count": 16,
     "metadata": {},
     "output_type": "execute_result"
    }
   ],
   "source": [
    "images.shape, labels.shape"
   ]
  },
  {
   "cell_type": "code",
   "execution_count": 17,
   "metadata": {},
   "outputs": [
    {
     "name": "stdout",
     "output_type": "stream",
     "text": [
      "img shape: torch.Size([3, 64, 64])\n",
      "label: pizza\n"
     ]
    },
    {
     "data": {
      "image/png": "[encoded data removed]",
      "text/plain": [
       "<Figure size 640x480 with 1 Axes>"
      ]
     },
     "metadata": {},
     "output_type": "display_data"
    },
    {
     "name": "stdout",
     "output_type": "stream",
     "text": [
      "img shape: torch.Size([3, 64, 64])\n",
      "label: sushi\n"
     ]
    },
    {
     "data": {
      "image/png": "[encoded data removed]",
      "text/plain": [
       "<Figure size 640x480 with 1 Axes>"
      ]
     },
     "metadata": {},
     "output_type": "display_data"
    },
    {
     "name": "stdout",
     "output_type": "stream",
     "text": [
      "img shape: torch.Size([3, 64, 64])\n",
      "label: pizza\n"
     ]
    },
    {
     "data": {
      "image/png": "[encoded data removed]",
      "text/plain": [
       "<Figure size 640x480 with 1 Axes>"
      ]
     },
     "metadata": {},
     "output_type": "display_data"
    },
    {
     "name": "stdout",
     "output_type": "stream",
     "text": [
      "img shape: torch.Size([3, 64, 64])\n",
      "label: sushi\n"
     ]
    },
    {
     "data": {
      "image/png": "[encoded data removed]",
      "text/plain": [
       "<Figure size 640x480 with 1 Axes>"
      ]
     },
     "metadata": {},
     "output_type": "display_data"
    },
    {
     "name": "stdout",
     "output_type": "stream",
     "text": [
      "img shape: torch.Size([3, 64, 64])\n",
      "label: steak\n"
     ]
    },
    {
     "data": {
      "image/png": "[encoded data removed]",
      "text/plain": [
       "<Figure size 640x480 with 1 Axes>"
      ]
     },
     "metadata": {},
     "output_type": "display_data"
    }
   ],
   "source": [
    "#data argmentation\n",
    "show_batch_images(train_data, classes=train_data.classes, n=5, display_shape=True)"
   ]
  },
  {
   "cell_type": "code",
   "execution_count": 18,
   "metadata": {},
   "outputs": [],
   "source": [
    "import torch as nn\n",
    "from torch import nn"
   ]
  },
  {
   "cell_type": "code",
   "execution_count": 19,
   "metadata": {},
   "outputs": [],
   "source": [
    "device = torch.device('cuda')\n"
   ]
  },
  {
   "cell_type": "code",
   "execution_count": 24,
   "metadata": {},
   "outputs": [],
   "source": [
    "#create tiny vgg\n",
    "class TinyVgg(nn.Module):\n",
    "    def __init__(self,input_shape:int,hidden_units:int,output_shape:int):\n",
    "        super().__init__()\n",
    "        self.conv_block_1 = nn.Sequential(\n",
    "            nn.Conv2d(in_channels=input_shape,\n",
    "                      out_channels=hidden_units,\n",
    "                      kernel_size=3,\n",
    "                      stride=1,\n",
    "                      padding=0\n",
    "                      ),\n",
    "            nn.ReLU(),\n",
    "            nn.Conv2d(in_channels=hidden_units,\n",
    "                      out_channels=hidden_units,\n",
    "                      kernel_size=3,\n",
    "                      stride=1,\n",
    "                      padding=0\n",
    "                      ),\n",
    "            nn.ReLU(),\n",
    "            nn.MaxPool2d(kernel_size=2)\n",
    "        )\n",
    "        self.conv_block_2 = nn.Sequential(\n",
    "            nn.Conv2d(in_channels=hidden_units,\n",
    "                        out_channels=hidden_units*2,\n",
    "                        kernel_size=3,\n",
    "                        stride=1,\n",
    "                        padding=0\n",
    "                        ),\n",
    "            nn.ReLU(),\n",
    "            nn.Conv2d(in_channels=hidden_units*2,\n",
    "                        out_channels=hidden_units*2,\n",
    "                        kernel_size=3,\n",
    "                        stride=1,\n",
    "                        padding=0\n",
    "                        ),\n",
    "            nn.ReLU(),\n",
    "            nn.MaxPool2d(kernel_size=2)\n",
    "        )\n",
    "        self.classifier = nn.Sequential(\n",
    "            nn.Flatten(),\n",
    "            nn.Linear(in_features=hidden_units*2*13*13,\n",
    "                        out_features=output_shape)\n",
    "        )\n",
    "    def forward(self,x):    \n",
    "        x= x.to(device)\n",
    "        x = self.conv_block_1(x)\n",
    "        # print(x.shape)\n",
    "        x = self.conv_block_2(x)\n",
    "        # print(x.shape)\n",
    "        x = self.classifier(x)\n",
    "        # print(x.shape)\n",
    "        return x\n",
    "\n",
    "        return self.classifier(self.conv_block_2(self.conv_block_1(x)))\n"
   ]
  },
  {
   "cell_type": "code",
   "execution_count": 21,
   "metadata": {},
   "outputs": [],
   "source": [
    "# class TinyVgg(nn.Module):\n",
    "#     def __init__(self, input_shape: int, hidden_units: int, output_shape: int):\n",
    "#         super().__init__()\n",
    "#         self.conv_block_1 = nn.Sequential(\n",
    "#             nn.Conv2d(in_channels=input_shape,\n",
    "#                       out_channels=hidden_units,\n",
    "#                       kernel_size=3,\n",
    "#                       stride=1,\n",
    "#                       padding=1\n",
    "#                      ),\n",
    "#             nn.ReLU(),\n",
    "#             nn.Conv2d(in_channels=hidden_units,\n",
    "#                       out_channels=hidden_units,\n",
    "#                       kernel_size=3,\n",
    "#                       stride=1,\n",
    "#                       padding=1\n",
    "#                      ),\n",
    "#             nn.ReLU(),\n",
    "#             nn.MaxPool2d(kernel_size=2)\n",
    "#         )\n",
    "#         self.conv_block_2 = nn.Sequential(\n",
    "#             nn.Conv2d(in_channels=hidden_units,\n",
    "#                       out_channels=hidden_units*2,\n",
    "#                       kernel_size=3,\n",
    "#                       stride=1,\n",
    "#                       padding=1\n",
    "#                      ),\n",
    "#             nn.ReLU(),\n",
    "#             nn.Conv2d(in_channels=hidden_units*2,\n",
    "#                       out_channels=hidden_units*2,\n",
    "#                       kernel_size=3,\n",
    "#                       stride=1,\n",
    "#                       padding=1\n",
    "#                      ),\n",
    "#             nn.ReLU(),\n",
    "#             nn.MaxPool2d(kernel_size=2)\n",
    "#         )\n",
    "#         self.classifier = nn.Sequential(\n",
    "#             nn.Flatten(),\n",
    "#             nn.Linear(64 * 8 * 8, 256),\n",
    "#             nn.BatchNorm1d(256),\n",
    "#             nn.ReLU(),\n",
    "#             nn.Dropout(0.5),\n",
    "#             nn.Linear(256, output_shape)\n",
    "#         )\n",
    "\n",
    "#     def forward(self, x):    \n",
    "#         x = self.conv_block_1(x)\n",
    "#         print(x.shape)\n",
    "#         x = self.conv_block_2(x)\n",
    "#         print(x.shape)\n",
    "#         x = self.classifier(x)\n",
    "#         print(x.shape)\n",
    "#         return x\n",
    "    \n",
    "#         return self.classifier(self.conv_block_2(self.conv_block_1(x)))\n",
    "\n"
   ]
  },
  {
   "cell_type": "code",
   "execution_count": 21,
   "metadata": {},
   "outputs": [],
   "source": [
    "device = 'cuda' "
   ]
  },
  {
   "cell_type": "code",
   "execution_count": 22,
   "metadata": {},
   "outputs": [
    {
     "data": {
      "text/plain": [
       "'cuda'"
      ]
     },
     "execution_count": 22,
     "metadata": {},
     "output_type": "execute_result"
    }
   ],
   "source": [
    "device"
   ]
  },
  {
   "cell_type": "code",
   "execution_count": 23,
   "metadata": {},
   "outputs": [
    {
     "data": {
      "text/plain": [
       "3"
      ]
     },
     "execution_count": 23,
     "metadata": {},
     "output_type": "execute_result"
    }
   ],
   "source": [
    "output_shape=len(class_names_found)\n",
    "output_shape"
   ]
  },
  {
   "cell_type": "code",
   "execution_count": 25,
   "metadata": {},
   "outputs": [
    {
     "name": "stdout",
     "output_type": "stream",
     "text": [
      "Sun May 14 06:25:40 2023       \n",
      "+---------------------------------------------------------------------------------------+\n",
      "| NVIDIA-SMI 531.68                 Driver Version: 531.68       CUDA Version: 12.1     |\n",
      "|-----------------------------------------+----------------------+----------------------+\n",
      "| GPU  Name                      TCC/WDDM | Bus-Id        Disp.A | Volatile Uncorr. ECC |\n",
      "| Fan  Temp  Perf            Pwr:Usage/Cap|         Memory-Usage | GPU-Util  Compute M. |\n",
      "|                                         |                      |               MIG M. |\n",
      "|=========================================+======================+======================|\n",
      "|   0  NVIDIA GeForce RTX 3060 L...  WDDM | 00000000:01:00.0 Off |                  N/A |\n",
      "| N/A   50C    P8                9W /  N/A|   4458MiB /  6144MiB |      0%      Default |\n",
      "|                                         |                      |                  N/A |\n",
      "+-----------------------------------------+----------------------+----------------------+\n",
      "                                                                                         \n",
      "+---------------------------------------------------------------------------------------+\n",
      "| Processes:                                                                            |\n",
      "|  GPU   GI   CI        PID   Type   Process name                            GPU Memory |\n",
      "|        ID   ID                                                             Usage      |\n",
      "|=======================================================================================|\n",
      "|    0   N/A  N/A     18016      C   ...rograms\\Python\\Python310\\python.exe    N/A      |\n",
      "+---------------------------------------------------------------------------------------+\n"
     ]
    }
   ],
   "source": [
    "!nvidia-smi"
   ]
  },
  {
   "cell_type": "code",
   "execution_count": 25,
   "metadata": {},
   "outputs": [],
   "source": [
    "model_0 = TinyVgg(\n",
    "input_shape=3,\n",
    "output_shape=len(class_names_found)\n",
    ")"
   ]
  },
  {
   "cell_type": "code",
   "execution_count": 33,
   "metadata": {},
   "outputs": [
    {
     "data": {
      "text/plain": [
       "TinyVgg(\n",
       "  (conv_block_1): Sequential(\n",
       "    (0): Conv2d(3, 64, kernel_size=(3, 3), stride=(1, 1))\n",
       "    (1): ReLU()\n",
       "    (2): Conv2d(64, 64, kernel_size=(3, 3), stride=(1, 1))\n",
       "    (3): ReLU()\n",
       "    (4): MaxPool2d(kernel_size=2, stride=2, padding=0, dilation=1, ceil_mode=False)\n",
       "  )\n",
       "  (conv_block_2): Sequential(\n",
       "    (0): Conv2d(64, 128, kernel_size=(3, 3), stride=(1, 1))\n",
       "    (1): ReLU()\n",
       "    (2): Conv2d(128, 128, kernel_size=(3, 3), stride=(1, 1))\n",
       "    (3): ReLU()\n",
       "    (4): MaxPool2d(kernel_size=2, stride=2, padding=0, dilation=1, ceil_mode=False)\n",
       "  )\n",
       "  (classifier): Sequential(\n",
       "    (0): Flatten(start_dim=1, end_dim=-1)\n",
       "    (1): Linear(in_features=21632, out_features=3, bias=True)\n",
       "  )\n",
       ")"
      ]
     },
     "execution_count": 33,
     "metadata": {},
     "output_type": "execute_result"
    }
   ],
   "source": [
    "model_0"
   ]
  },
  {
   "cell_type": "code",
   "execution_count": 34,
   "metadata": {},
   "outputs": [
    {
     "data": {
      "text/plain": [
       "TinyVgg(\n",
       "  (conv_block_1): Sequential(\n",
       "    (0): Conv2d(3, 64, kernel_size=(3, 3), stride=(1, 1))\n",
       "    (1): ReLU()\n",
       "    (2): Conv2d(64, 64, kernel_size=(3, 3), stride=(1, 1))\n",
       "    (3): ReLU()\n",
       "    (4): MaxPool2d(kernel_size=2, stride=2, padding=0, dilation=1, ceil_mode=False)\n",
       "  )\n",
       "  (conv_block_2): Sequential(\n",
       "    (0): Conv2d(64, 128, kernel_size=(3, 3), stride=(1, 1))\n",
       "    (1): ReLU()\n",
       "    (2): Conv2d(128, 128, kernel_size=(3, 3), stride=(1, 1))\n",
       "    (3): ReLU()\n",
       "    (4): MaxPool2d(kernel_size=2, stride=2, padding=0, dilation=1, ceil_mode=False)\n",
       "  )\n",
       "  (classifier): Sequential(\n",
       "    (0): Flatten(start_dim=1, end_dim=-1)\n",
       "    (1): Linear(in_features=21632, out_features=3, bias=True)\n",
       "  )\n",
       ")"
      ]
     },
     "execution_count": 34,
     "metadata": {},
     "output_type": "execute_result"
    }
   ],
   "source": [
    "model_0.to(device)"
   ]
  },
  {
   "cell_type": "code",
   "execution_count": 36,
   "metadata": {},
   "outputs": [],
   "source": [
    "from torchinfo import summary"
   ]
  },
  {
   "cell_type": "code",
   "execution_count": 38,
   "metadata": {},
   "outputs": [
    {
     "name": "stderr",
     "output_type": "stream",
     "text": [
      "c:\\Users\\rifat\\AppData\\Local\\Programs\\Python\\Python310\\lib\\site-packages\\torchinfo\\torchinfo.py:477: UserWarning: TypedStorage is deprecated. It will be removed in the future and UntypedStorage will be the only storage class. This should only matter to you if you are using storages directly.  To access UntypedStorage directly, use tensor.untyped_storage() instead of tensor.storage()\n",
      "  action_fn=lambda data: sys.getsizeof(data.storage()),\n"
     ]
    },
    {
     "data": {
      "text/plain": [
       "==========================================================================================\n",
       "Layer (type:depth-idx)                   Output Shape              Param #\n",
       "==========================================================================================\n",
       "TinyVgg                                  [1, 3]                    --\n",
       "├─Sequential: 1-1                        [1, 64, 30, 30]           --\n",
       "│    └─Conv2d: 2-1                       [1, 64, 62, 62]           1,792\n",
       "│    └─ReLU: 2-2                         [1, 64, 62, 62]           --\n",
       "│    └─Conv2d: 2-3                       [1, 64, 60, 60]           36,928\n",
       "│    └─ReLU: 2-4                         [1, 64, 60, 60]           --\n",
       "│    └─MaxPool2d: 2-5                    [1, 64, 30, 30]           --\n",
       "├─Sequential: 1-2                        [1, 128, 13, 13]          --\n",
       "│    └─Conv2d: 2-6                       [1, 128, 28, 28]          73,856\n",
       "│    └─ReLU: 2-7                         [1, 128, 28, 28]          --\n",
       "│    └─Conv2d: 2-8                       [1, 128, 26, 26]          147,584\n",
       "│    └─ReLU: 2-9                         [1, 128, 26, 26]          --\n",
       "│    └─MaxPool2d: 2-10                   [1, 128, 13, 13]          --\n",
       "├─Sequential: 1-3                        [1, 3]                    --\n",
       "│    └─Flatten: 2-11                     [1, 21632]                --\n",
       "│    └─Linear: 2-12                      [1, 3]                    64,899\n",
       "==========================================================================================\n",
       "Total params: 325,059\n",
       "Trainable params: 325,059\n",
       "Non-trainable params: 0\n",
       "Total mult-adds (M): 297.56\n",
       "==========================================================================================\n",
       "Input size (MB): 0.05\n",
       "Forward/backward pass size (MB): 5.31\n",
       "Params size (MB): 1.30\n",
       "Estimated Total Size (MB): 6.66\n",
       "=========================================================================================="
      ]
     },
     "execution_count": 38,
     "metadata": {},
     "output_type": "execute_result"
    }
   ],
   "source": [
    "\n",
    "summary(model_0, input_size=(1,3, 64, 64), device=device)"
   ]
  },
  {
   "cell_type": "code",
   "execution_count": 28,
   "metadata": {},
   "outputs": [],
   "source": [
    "import torch"
   ]
  },
  {
   "cell_type": "code",
   "execution_count": 29,
   "metadata": {},
   "outputs": [],
   "source": [
    "dummy=torch.randn(1,3,64,64)"
   ]
  },
  {
   "cell_type": "code",
   "execution_count": 30,
   "metadata": {},
   "outputs": [
    {
     "data": {
      "text/plain": [
       "tensor([[[[ 1.3257e+00,  1.6167e+00, -1.0724e+00,  ..., -9.4603e-01,\n",
       "            8.0191e-02,  2.5830e-01],\n",
       "          [-5.2977e-01,  9.5075e-01, -2.3607e+00,  ...,  6.6545e-01,\n",
       "            1.1491e+00, -9.5414e-01],\n",
       "          [-3.5994e-02,  3.4144e-01,  4.9727e-02,  ...,  9.8570e-01,\n",
       "            5.0022e-01,  2.7167e-01],\n",
       "          ...,\n",
       "          [ 6.7012e-01, -9.0459e-01,  1.2902e+00,  ...,  9.4819e-01,\n",
       "           -2.9295e-02,  4.8049e-01],\n",
       "          [ 8.5814e-01,  3.2332e-01, -3.6906e-01,  ...,  9.0164e-01,\n",
       "            1.1020e+00,  1.9871e+00],\n",
       "          [ 9.2430e-01,  1.2112e+00,  6.1156e-01,  ...,  7.6543e-01,\n",
       "            3.4749e-02, -8.6647e-01]],\n",
       "\n",
       "         [[-1.2086e+00,  1.9293e+00, -1.4353e+00,  ...,  1.4856e-01,\n",
       "            5.3941e-01, -1.2088e+00],\n",
       "          [-2.8900e-02, -5.2085e-01, -1.1380e+00,  ...,  4.9901e-01,\n",
       "           -5.1619e-01,  2.0560e-01],\n",
       "          [ 2.9543e+00,  2.8571e-01,  8.6477e-01,  ..., -1.6884e-01,\n",
       "            3.4172e-01,  2.8294e-01],\n",
       "          ...,\n",
       "          [ 1.0748e+00, -1.3404e+00,  1.0072e+00,  ..., -9.2356e-01,\n",
       "           -6.2531e-01,  1.4789e+00],\n",
       "          [-8.9405e-01, -4.1146e-01,  4.6133e-01,  ...,  4.2365e-01,\n",
       "            1.0423e+00, -8.2865e-01],\n",
       "          [-1.6581e+00,  1.4597e+00, -2.9982e-01,  ...,  1.0803e+00,\n",
       "           -9.3982e-01,  9.2997e-02]],\n",
       "\n",
       "         [[ 1.7121e+00,  1.5873e+00, -9.8970e-01,  ...,  3.7991e-01,\n",
       "           -1.0387e+00,  8.2805e-01],\n",
       "          [ 5.5499e-01, -1.1600e+00, -9.3412e-01,  ...,  5.5659e-01,\n",
       "            8.9210e-01,  5.8485e-01],\n",
       "          [-2.8462e-01, -4.4399e-04,  5.0787e-01,  ..., -1.1380e+00,\n",
       "            1.9853e+00,  1.0799e+00],\n",
       "          ...,\n",
       "          [ 8.5493e-01, -7.9837e-01, -4.8667e-01,  ..., -8.2606e-01,\n",
       "           -2.4227e+00,  1.2152e+00],\n",
       "          [-1.0634e+00, -2.4989e-01, -3.4834e-01,  ...,  6.3586e-01,\n",
       "           -1.6461e+00, -3.9079e-01],\n",
       "          [ 7.4438e-01, -5.5821e-01,  1.1468e+00,  ...,  5.3920e-01,\n",
       "           -3.8457e-01, -4.3197e-01]]]], device='cuda:0')"
      ]
     },
     "execution_count": 30,
     "metadata": {},
     "output_type": "execute_result"
    }
   ],
   "source": [
    "dummy.to(device)"
   ]
  },
  {
   "cell_type": "code",
   "execution_count": 31,
   "metadata": {},
   "outputs": [
    {
     "data": {
      "text/plain": [
       "tensor([[-0.0050, -0.0018, -0.0281]], device='cuda:0',\n",
       "       grad_fn=<AddmmBackward0>)"
      ]
     },
     "execution_count": 31,
     "metadata": {},
     "output_type": "execute_result"
    }
   ],
   "source": [
    "model_0(dummy)"
   ]
  },
  {
   "cell_type": "code",
   "execution_count": 32,
   "metadata": {},
   "outputs": [],
   "source": [
    "import torchinfo"
   ]
  },
  {
   "cell_type": "code",
   "execution_count": 33,
   "metadata": {},
   "outputs": [
    {
     "name": "stderr",
     "output_type": "stream",
     "text": [
      "c:\\Users\\rifat\\AppData\\Local\\Programs\\Python\\Python310\\lib\\site-packages\\torchinfo\\torchinfo.py:477: UserWarning: TypedStorage is deprecated. It will be removed in the future and UntypedStorage will be the only storage class. This should only matter to you if you are using storages directly.  To access UntypedStorage directly, use tensor.untyped_storage() instead of tensor.storage()\n",
      "  action_fn=lambda data: sys.getsizeof(data.storage()),\n"
     ]
    },
    {
     "data": {
      "text/plain": [
       "==========================================================================================\n",
       "Layer (type:depth-idx)                   Output Shape              Param #\n",
       "==========================================================================================\n",
       "TinyVgg                                  [32, 3]                   --\n",
       "├─Sequential: 1-1                        [32, 64, 30, 30]          --\n",
       "│    └─Conv2d: 2-1                       [32, 64, 62, 62]          1,792\n",
       "│    └─ReLU: 2-2                         [32, 64, 62, 62]          --\n",
       "│    └─Conv2d: 2-3                       [32, 64, 60, 60]          36,928\n",
       "│    └─ReLU: 2-4                         [32, 64, 60, 60]          --\n",
       "│    └─MaxPool2d: 2-5                    [32, 64, 30, 30]          --\n",
       "├─Sequential: 1-2                        [32, 128, 13, 13]         --\n",
       "│    └─Conv2d: 2-6                       [32, 128, 28, 28]         73,856\n",
       "│    └─ReLU: 2-7                         [32, 128, 28, 28]         --\n",
       "│    └─Conv2d: 2-8                       [32, 128, 26, 26]         147,584\n",
       "│    └─ReLU: 2-9                         [32, 128, 26, 26]         --\n",
       "│    └─MaxPool2d: 2-10                   [32, 128, 13, 13]         --\n",
       "├─Sequential: 1-3                        [32, 3]                   --\n",
       "│    └─Flatten: 2-11                     [32, 21632]               --\n",
       "│    └─Linear: 2-12                      [32, 3]                   64,899\n",
       "==========================================================================================\n",
       "Total params: 325,059\n",
       "Trainable params: 325,059\n",
       "Non-trainable params: 0\n",
       "Total mult-adds (G): 9.52\n",
       "==========================================================================================\n",
       "Input size (MB): 1.57\n",
       "Forward/backward pass size (MB): 169.80\n",
       "Params size (MB): 1.30\n",
       "Estimated Total Size (MB): 172.68\n",
       "=========================================================================================="
      ]
     },
     "execution_count": 33,
     "metadata": {},
     "output_type": "execute_result"
    }
   ],
   "source": [
    "from torchinfo import summary\n",
    "summary(model=model_0,input_size=(32,3,64,64))"
   ]
  },
  {
   "cell_type": "code",
   "execution_count": 34,
   "metadata": {},
   "outputs": [],
   "source": [
    "device = 'cuda' if torch.cuda.is_available() else 'cpu'"
   ]
  },
  {
   "cell_type": "code",
   "execution_count": 35,
   "metadata": {},
   "outputs": [
    {
     "data": {
      "text/plain": [
       "'cuda'"
      ]
     },
     "execution_count": 35,
     "metadata": {},
     "output_type": "execute_result"
    }
   ],
   "source": [
    "device"
   ]
  },
  {
   "cell_type": "code",
   "execution_count": 36,
   "metadata": {},
   "outputs": [],
   "source": [
    "#create a  simple transform \n",
    "simple_transform = transforms.Compose([\n",
    "\n",
    "    transforms.Resize(size=(64,64)),\n",
    "    transforms.ToTensor()\n",
    "])"
   ]
  },
  {
   "cell_type": "code",
   "execution_count": 37,
   "metadata": {},
   "outputs": [],
   "source": [
    "from torchvision import datasets\n",
    "train_data_sample = datasets.ImageFolder(root=train_dir,\n",
    "                                         transform=simple_transform)\n",
    "test_data_sample = datasets.ImageFolder(root=test_dir,\n",
    "                                         transform=simple_transform)\n",
    "\n",
    "#turn dtaset into dataloader\n",
    "import os\n",
    "from torch.utils.data import DataLoader\n",
    "#setup hyper-prameter\n",
    "\n",
    "BATCH_SIZE=32\n",
    "NUM_WORKERS=os.cpu_count()\n",
    "train_dataloader_simple = DataLoader(dataset=train_data_sample,batch_size=BATCH_SIZE,num_workers=NUM_WORKERS,shuffle=True)\n",
    "test_dataloader_simple = DataLoader(dataset=test_data_sample,batch_size=BATCH_SIZE,num_workers=NUM_WORKERS,shuffle=False)"
   ]
  },
  {
   "cell_type": "code",
   "execution_count": 38,
   "metadata": {},
   "outputs": [],
   "source": [
    "#create a train step \n",
    "def train_step (model:torch.nn.Module,\n",
    "                dataloader:torch.utils.data.DataLoader,\n",
    "                loss_fn:torch.nn.Module,\n",
    "                optimizer):\n",
    "    #put the model in train mode\n",
    "    train_loss ,train_acc =0,0\n",
    "    for batch ,(x,y) in enumerate (dataloader):\n",
    "        #send data to targate device\n",
    "        x,y =x.to(device),y.to(device)\n",
    "        y_pred = model_0(x)\n",
    "        loss = loss_fn(y_pred,y)\n",
    "        train_loss += loss.item()\n",
    "        optimizer.zero_grad()\n",
    "        loss.backward()\n",
    "        optimizer.step()\n",
    "\n",
    "        #calculate the acuracy\n",
    "\n",
    "        y_pred_class = torch.argmax(torch.softmax(y_pred,dim=1),dim=1)\n",
    "\n",
    "        train_acc = (y_pred_class==y).sum().item()/len(y_pred)\n",
    "\n",
    "#adjust matrics \n",
    "\n",
    "    train_loss = train_loss/len(dataloader)\n",
    "    train_acc = train_acc / len(dataloader)\n",
    "\n",
    "    return train_loss ,train_acc\n",
    "\n",
    "\n",
    "\n",
    "\n",
    "\n"
   ]
  },
  {
   "cell_type": "code",
   "execution_count": 39,
   "metadata": {},
   "outputs": [],
   "source": [
    "#crete a test step \n",
    "def test_step (model:torch.nn.Module,\n",
    "                dataloader:torch.utils.data.DataLoader,\n",
    "                loss_fn:torch.nn.Module):\n",
    "    #put mdel in eval() mode\n",
    "\n",
    "    model.eval()\n",
    "\n",
    "    #test loss and test acc\n",
    "\n",
    "    with torch.inference_mode():\n",
    "        #loop throgh dataloader\n",
    "        for batch ,(x,y) in enumerate (dataloader):\n",
    "            #send data to targate device\n",
    "            x,y =x.to(device),y.to(device)\n",
    "\n",
    "            test_pred_logits = model(x)\n",
    "            loss = loss_fn(test_pred_logits,y)\n",
    "            test_loss += loss.item()\n",
    "            test_pred_labels = torch.argmax(torch.softmax(test_pred_logits,dim=1),dim=1)\n",
    "            test_acc += (test_pred_labels==y).sum().item()/len(test_pred_labels)\n",
    "\n",
    "    #adjust metric\n",
    "    test_loss = test_loss/len(dataloader)\n",
    "    test_acc = test_acc / len(dataloader)\n",
    "\n",
    "    return test_loss ,test_acc    \n",
    "\n",
    "        "
   ]
  },
  {
   "cell_type": "code",
   "execution_count": 43,
   "metadata": {},
   "outputs": [],
   "source": [
    "def test_step(model, dataloader, loss_fn):\n",
    "    model.eval()\n",
    "    test_loss, test_acc = 0, 0\n",
    "    with torch.inference_mode():\n",
    "        for x, y in dataloader:\n",
    "            x, y = x.to(device), y.to(device)\n",
    "            test_pred_logits = model(x)\n",
    "            loss = loss_fn(test_pred_logits, y)\n",
    "            test_loss += loss.item()\n",
    "            test_pred_labels = torch.argmax(torch.softmax(test_pred_logits, dim=1), dim=1)\n",
    "            test_acc += (test_pred_labels == y).sum().item() / len(test_pred_labels)\n",
    "    test_loss /= len(dataloader)\n",
    "    test_acc /= len(dataloader)\n",
    "    return test_loss, test_acc\n"
   ]
  },
  {
   "cell_type": "code",
   "execution_count": 40,
   "metadata": {},
   "outputs": [],
   "source": [
    "#create a train function\n",
    "from tqdm.auto import tqdm\n",
    "from torch.utils.tensorboard import SummaryWriter\n",
    "#crete \n",
    "\n",
    "def train(model:torch.nn.Module,\n",
    "                train_dataloader:DataLoader,\n",
    "                test_dataloader:DataLoader,\n",
    "                optimizer,\n",
    "                loss_fn:torch.nn.Module=nn.CrossEntropyLoss(),\n",
    "                epochs:int =5,\n",
    "                device=device,\n",
    "                log_dir:str = 'logs'):\n",
    "    \n",
    "\n",
    "    # create a SummaryWriter object for logging\n",
    "    writer = SummaryWriter(log_dir=log_dir)    \n",
    "\n",
    "    results = {\n",
    "\n",
    "\n",
    "        'train_loss':[],\n",
    "        'train_acc':[],\n",
    "        'test_loss': [],\n",
    "        'test_acc':[]\n",
    "    }\n",
    "\n",
    "\n",
    "\n",
    "    #loop\n",
    "    for epoch in tqdm(range(epochs)):\n",
    "        train_loss ,train_acc =train_step(model=model,dataloader=train_dataloader_simple,loss_fn=loss_fn,optimizer=optimizer)\n",
    "        test_loss ,test_acc =test_step(model=model,dataloader=train_dataloader_simple,loss_fn=loss_fn)\n",
    "        results['train_loss'].append(train_loss)\n",
    "        results['train_acc'].append(train_acc)\n",
    "        results['test_loss'].append(test_loss)\n",
    "        results['test_acc'].append(test_acc)\n",
    "\n",
    "        print(f'Epoch:{epoch+1}/{epochs},train_loss:{train_loss:.4f},train_acc:{train_acc:.4f},test_loss:{test_loss:.4f},test_acc:{test_acc:.4f}')\n",
    "\n",
    "\n",
    "        #update the model\n",
    "\n",
    "        results['train_loss'].append(train_loss)\n",
    "        results['train_acc'].append(train_acc)\n",
    "        results['test_loss'].append(test_loss)\n",
    "        results['test_acc'].append(test_acc)\n",
    "\n",
    "    # close the SummaryWriter object to flush the data to disk\n",
    "    writer.close()\n",
    "        \n",
    "    #return the model and results\n",
    "    return results\n"
   ]
  },
  {
   "cell_type": "code",
   "execution_count": 41,
   "metadata": {},
   "outputs": [],
   "source": [
    "from timeit import default_timer as timer"
   ]
  },
  {
   "cell_type": "code",
   "execution_count": 44,
   "metadata": {},
   "outputs": [
    {
     "data": {
      "application/vnd.jupyter.widget-view+json": {
       "model_id": "201dddb064ef45bbac87fbfc9f277ba2",
       "version_major": 2,
       "version_minor": 0
      },
      "text/plain": [
       "  0%|          | 0/2 [00:00<?, ?it/s]"
      ]
     },
     "metadata": {},
     "output_type": "display_data"
    },
    {
     "name": "stdout",
     "output_type": "stream",
     "text": [
      "Epoch:1/2,train_loss:1.1141,train_acc:0.0000,test_loss:1.0947,test_acc:0.5898\n",
      "Epoch:2/2,train_loss:1.0878,train_acc:0.0000,test_loss:1.1068,test_acc:0.3047\n",
      "Time taken to train the model:0.45 minutes\n"
     ]
    }
   ],
   "source": [
    "NUM_EPOCH=2\n",
    "#setup the model\n",
    "model_0 = TinyVgg(\n",
    "input_shape=3,\n",
    "hidden_units=64,\n",
    "output_shape=len(class_names_found)\n",
    ").to(device)\n",
    "\n",
    "#setup loss and optimizer\n",
    "loss_fn = nn.CrossEntropyLoss() \n",
    "optimizer = torch.optim.Adam(model_0.parameters(),lr=0.001)\n",
    "\n",
    "\n",
    "start = timer()\n",
    "#train_model\n",
    "results = train(model=model_0,\n",
    "                train_dataloader=train_dataloader_simple,\n",
    "                test_dataloader=test_dataloader_simple,\n",
    "                optimizer=optimizer,\n",
    "                loss_fn=loss_fn,\n",
    "                epochs=NUM_EPOCH,\n",
    "                device=device)\n",
    "end = timer()\n",
    "print(f'Time taken to train the model:{(end-start)/60:.2f} minutes')\n"
   ]
  },
  {
   "cell_type": "code",
   "execution_count": 102,
   "metadata": {},
   "outputs": [],
   "source": [
    "torch.save(model_0.state_dict(), 'model_0.pt')"
   ]
  },
  {
   "cell_type": "code",
   "execution_count": 105,
   "metadata": {},
   "outputs": [],
   "source": [
    "#create a transform with data augmentation\n",
    "train_transforms_trivial = transforms.Compose([\n",
    "\n",
    "    transforms.Resize((64,64)),\n",
    "    transforms.TrivialAugmentWide(num_magnitude_bins=31),\n",
    "    transforms.ToTensor()])\n",
    "test_transforms_trivial = transforms.Compose([\n",
    "    transforms.Resize((64,64)),\n",
    "    transforms.ToTensor()\n",
    "])"
   ]
  },
  {
   "cell_type": "code",
   "execution_count": 106,
   "metadata": {},
   "outputs": [],
   "source": [
    "#create a dataset\n",
    "train_dataset_trivial = datasets.ImageFolder(root=train_dir,transform=train_transforms_trivial)\n",
    "test_dataset_trivial = datasets.ImageFolder(root=test_dir,transform=test_transforms_trivial)"
   ]
  },
  {
   "cell_type": "code",
   "execution_count": 107,
   "metadata": {},
   "outputs": [
    {
     "data": {
      "application/vnd.jupyter.widget-view+json": {
       "model_id": "5ba9a329991b4e7fbebc4f2ad90fc70f",
       "version_major": 2,
       "version_minor": 0
      },
      "text/plain": [
       "  0%|          | 0/15 [00:00<?, ?it/s]"
      ]
     },
     "metadata": {},
     "output_type": "display_data"
    },
    {
     "name": "stdout",
     "output_type": "stream",
     "text": [
      "Epoch:1/15,train_loss:1.1068,train_acc:0.1250,test_loss:1.0620,test_acc:0.4336\n",
      "Epoch:2/15,train_loss:1.0520,train_acc:0.1250,test_loss:1.0745,test_acc:0.4141\n",
      "Epoch:3/15,train_loss:1.0763,train_acc:0.1250,test_loss:0.9973,test_acc:0.4141\n",
      "Epoch:4/15,train_loss:0.9918,train_acc:0.0000,test_loss:0.9157,test_acc:0.5430\n",
      "Epoch:5/15,train_loss:0.8713,train_acc:0.1250,test_loss:0.9826,test_acc:0.6133\n",
      "Epoch:6/15,train_loss:0.9039,train_acc:0.1250,test_loss:1.0292,test_acc:0.4766\n",
      "Epoch:7/15,train_loss:1.0238,train_acc:0.0000,test_loss:0.8422,test_acc:0.6484\n",
      "Epoch:8/15,train_loss:0.9149,train_acc:0.1250,test_loss:1.0472,test_acc:0.5312\n",
      "Epoch:9/15,train_loss:0.8767,train_acc:0.1250,test_loss:0.8375,test_acc:0.5586\n",
      "Epoch:10/15,train_loss:0.8016,train_acc:0.1250,test_loss:0.8658,test_acc:0.6055\n",
      "Epoch:11/15,train_loss:0.7091,train_acc:0.1250,test_loss:0.8223,test_acc:0.5703\n",
      "Epoch:12/15,train_loss:0.6949,train_acc:0.1250,test_loss:0.8350,test_acc:0.6797\n",
      "Epoch:13/15,train_loss:0.6715,train_acc:0.1250,test_loss:0.6543,test_acc:0.7383\n",
      "Epoch:14/15,train_loss:0.7117,train_acc:0.1250,test_loss:0.6534,test_acc:0.7930\n",
      "Epoch:15/15,train_loss:0.6727,train_acc:0.1250,test_loss:0.7010,test_acc:0.6406\n",
      "Time taken to train the model:3.46 minutes\n"
     ]
    }
   ],
   "source": [
    "NUM_EPOCH=15\n",
    "#setup the model\n",
    "model_0 = TinyVgg(\n",
    "input_shape=3,\n",
    "hidden_units=64,\n",
    "output_shape=len(class_names_found)\n",
    ").to(device)\n",
    "\n",
    "#setup loss and optimizer\n",
    "loss_fn = nn.CrossEntropyLoss() \n",
    "optimizer = torch.optim.Adam(model_0.parameters(),lr=0.001)\n",
    "\n",
    "\n",
    "start = timer()\n",
    "#train_model\n",
    "results = train(model=model_0,\n",
    "                train_dataloader=train_dataset_trivial,\n",
    "                test_dataloader=test_dataset_trivial,\n",
    "                optimizer=optimizer,\n",
    "                loss_fn=loss_fn,\n",
    "                epochs=NUM_EPOCH,\n",
    "                device=device)\n",
    "end = timer()\n",
    "print(f'Time taken to train the model:{(end-start)/60:.2f} minutes')\n"
   ]
  },
  {
   "cell_type": "code",
   "execution_count": 110,
   "metadata": {},
   "outputs": [],
   "source": [
    "import torchvision"
   ]
  },
  {
   "cell_type": "code",
   "execution_count": 142,
   "metadata": {},
   "outputs": [],
   "source": [
    "from torchvision import transforms\n",
    "from PIL import Image\n",
    "\n",
    "# Load the input image\n",
    "c_i = Image.open(\"C:/learning/is_sushi_healthy_732x549_thumb-732x549.jpg\")"
   ]
  },
  {
   "cell_type": "code",
   "execution_count": 143,
   "metadata": {},
   "outputs": [],
   "source": [
    "# Define the transformation pipeline\n",
    "c_i_transformed = transforms.Compose([\n",
    "    transforms.Resize((64,64)),\n",
    "    transforms.ToTensor()\n",
    "])\n"
   ]
  },
  {
   "cell_type": "code",
   "execution_count": 144,
   "metadata": {},
   "outputs": [],
   "source": [
    "c_i = c_i_transformed(c_i)\n"
   ]
  },
  {
   "cell_type": "code",
   "execution_count": 145,
   "metadata": {},
   "outputs": [
    {
     "data": {
      "text/plain": [
       "tensor([[[0.2980, 0.3294, 0.2510,  ..., 0.1922, 0.2431, 0.2235],\n",
       "         [0.2667, 0.3176, 0.2627,  ..., 0.1882, 0.2000, 0.2000],\n",
       "         [0.2353, 0.3059, 0.2549,  ..., 0.1765, 0.1608, 0.1647],\n",
       "         ...,\n",
       "         [0.7490, 0.6706, 0.3333,  ..., 0.4392, 0.5765, 0.7843],\n",
       "         [0.6980, 0.5020, 0.4275,  ..., 0.4784, 0.4706, 0.7804],\n",
       "         [0.6275, 0.5294, 0.6353,  ..., 0.6784, 0.3451, 0.6745]],\n",
       "\n",
       "        [[0.2980, 0.3294, 0.2588,  ..., 0.2078, 0.2627, 0.2392],\n",
       "         [0.2824, 0.3255, 0.2706,  ..., 0.2000, 0.2196, 0.2196],\n",
       "         [0.2549, 0.3176, 0.2667,  ..., 0.1882, 0.1882, 0.1922],\n",
       "         ...,\n",
       "         [0.8078, 0.7255, 0.3647,  ..., 0.4667, 0.6078, 0.8000],\n",
       "         [0.7490, 0.5569, 0.4706,  ..., 0.5059, 0.4941, 0.8000],\n",
       "         [0.6824, 0.5843, 0.6863,  ..., 0.6941, 0.3686, 0.7020]],\n",
       "\n",
       "        [[0.2706, 0.3020, 0.2314,  ..., 0.1843, 0.2392, 0.2157],\n",
       "         [0.2471, 0.2980, 0.2431,  ..., 0.1765, 0.1922, 0.1961],\n",
       "         [0.2235, 0.2863, 0.2431,  ..., 0.1647, 0.1608, 0.1647],\n",
       "         ...,\n",
       "         [0.6471, 0.6510, 0.3333,  ..., 0.4549, 0.5961, 0.7882],\n",
       "         [0.6745, 0.5098, 0.4431,  ..., 0.4902, 0.4863, 0.7843],\n",
       "         [0.6196, 0.5412, 0.6471,  ..., 0.6784, 0.3647, 0.6863]]])"
      ]
     },
     "execution_count": 145,
     "metadata": {},
     "output_type": "execute_result"
    }
   ],
   "source": [
    "c_i"
   ]
  },
  {
   "cell_type": "code",
   "execution_count": 158,
   "metadata": {},
   "outputs": [
    {
     "data": {
      "text/plain": [
       "tensor([[ 0.0132, -2.3195,  0.6753]], device='cuda:0',\n",
       "       grad_fn=<AddmmBackward0>)"
      ]
     },
     "execution_count": 158,
     "metadata": {},
     "output_type": "execute_result"
    }
   ],
   "source": [
    "model_0(c_i.unsqueeze(0).to(device))"
   ]
  },
  {
   "cell_type": "code",
   "execution_count": 159,
   "metadata": {},
   "outputs": [],
   "source": [
    "c_i.pred_prob = torch.softmax(model_0(c_i.unsqueeze(0).to(device)),dim=1)"
   ]
  },
  {
   "cell_type": "code",
   "execution_count": 162,
   "metadata": {},
   "outputs": [
    {
     "data": {
      "text/plain": [
       "tensor([2], device='cuda:0')"
      ]
     },
     "execution_count": 162,
     "metadata": {},
     "output_type": "execute_result"
    }
   ],
   "source": [
    "c_i_pred_label = torch.argmax(c_i.pred_prob,dim=1)\n",
    "c_i_pred_label"
   ]
  },
  {
   "cell_type": "code",
   "execution_count": 163,
   "metadata": {},
   "outputs": [
    {
     "data": {
      "text/plain": [
       "'sushi'"
      ]
     },
     "execution_count": 163,
     "metadata": {},
     "output_type": "execute_result"
    }
   ],
   "source": [
    "class_names_found[c_i_pred_label]"
   ]
  },
  {
   "cell_type": "code",
   "execution_count": 166,
   "metadata": {},
   "outputs": [],
   "source": [
    "#puting castom image functio\n",
    "def predict_image(model:torch.nn.Module,\n",
    "                class_names:list,\n",
    "                img:Image.Image,\n",
    "                transforms:torchvision.transforms.Compose):\n",
    "    model.eval()\n",
    "    img = transforms(img)\n",
    "    img = img.unsqueeze(0)\n",
    "    pred_probs = torch.softmax(model(img.to(device)),dim=1)\n",
    "    pred_label = torch.argmax(pred_probs,dim=1)\n",
    "    return class_names[pred_label],pred_probs[0][pred_label].item()"
   ]
  },
  {
   "cell_type": "code",
   "execution_count": 169,
   "metadata": {},
   "outputs": [],
   "source": [
    "castom_image = Image.open(\"Ohayo-Valley.jpg\")\n",
    "prediction=predict_image(model=model_0,\n",
    "                class_names=class_names_found,\n",
    "                img=castom_image,\n",
    "                transforms=c_i_transformed)"
   ]
  },
  {
   "cell_type": "code",
   "execution_count": 170,
   "metadata": {},
   "outputs": [
    {
     "data": {
      "text/plain": [
       "('pizza', 0.5134593844413757)"
      ]
     },
     "execution_count": 170,
     "metadata": {},
     "output_type": "execute_result"
    }
   ],
   "source": [
    "prediction"
   ]
  },
  {
   "cell_type": "code",
   "execution_count": 160,
   "metadata": {},
   "outputs": [
    {
     "data": {
      "text/plain": [
       "tensor([[0.3294, 0.0320, 0.6386]], device='cuda:0', grad_fn=<SoftmaxBackward0>)"
      ]
     },
     "execution_count": 160,
     "metadata": {},
     "output_type": "execute_result"
    }
   ],
   "source": [
    "c_i.pred_prob"
   ]
  },
  {
   "cell_type": "code",
   "execution_count": 147,
   "metadata": {},
   "outputs": [
    {
     "data": {
      "text/plain": [
       "'sushi'"
      ]
     },
     "execution_count": 147,
     "metadata": {},
     "output_type": "execute_result"
    }
   ],
   "source": [
    "class_names_found[2]"
   ]
  },
  {
   "cell_type": "code",
   "execution_count": 148,
   "metadata": {},
   "outputs": [],
   "source": [
    "#read an castom image\n",
    "import torchvision\n",
    "castom_image = torchvision.io.read_image('C:/learning/is_sushi_healthy_732x549_thumb-732x549.jpg')"
   ]
  },
  {
   "cell_type": "code",
   "execution_count": 155,
   "metadata": {},
   "outputs": [
    {
     "data": {
      "text/plain": [
       "torch.Size([3, 549, 732])"
      ]
     },
     "execution_count": 155,
     "metadata": {},
     "output_type": "execute_result"
    }
   ],
   "source": [
    "castom_image.shape"
   ]
  },
  {
   "cell_type": "code",
   "execution_count": null,
   "metadata": {},
   "outputs": [],
   "source": []
  },
  {
   "cell_type": "code",
   "execution_count": 154,
   "metadata": {},
   "outputs": [
    {
     "ename": "RuntimeError",
     "evalue": "Input type (unsigned char) and bias type (float) should be the same",
     "output_type": "error",
     "traceback": [
      "\u001b[1;31m---------------------------------------------------------------------------\u001b[0m",
      "\u001b[1;31mRuntimeError\u001b[0m                              Traceback (most recent call last)",
      "Cell \u001b[1;32mIn[154], line 1\u001b[0m\n\u001b[1;32m----> 1\u001b[0m model_0(castom_image\u001b[39m.\u001b[39;49munsqueeze(\u001b[39m0\u001b[39;49m)\u001b[39m.\u001b[39;49mto(device))\n",
      "File \u001b[1;32mc:\\Users\\rifat\\AppData\\Local\\Programs\\Python\\Python310\\lib\\site-packages\\torch\\nn\\modules\\module.py:1501\u001b[0m, in \u001b[0;36mModule._call_impl\u001b[1;34m(self, *args, **kwargs)\u001b[0m\n\u001b[0;32m   1496\u001b[0m \u001b[39m# If we don't have any hooks, we want to skip the rest of the logic in\u001b[39;00m\n\u001b[0;32m   1497\u001b[0m \u001b[39m# this function, and just call forward.\u001b[39;00m\n\u001b[0;32m   1498\u001b[0m \u001b[39mif\u001b[39;00m \u001b[39mnot\u001b[39;00m (\u001b[39mself\u001b[39m\u001b[39m.\u001b[39m_backward_hooks \u001b[39mor\u001b[39;00m \u001b[39mself\u001b[39m\u001b[39m.\u001b[39m_backward_pre_hooks \u001b[39mor\u001b[39;00m \u001b[39mself\u001b[39m\u001b[39m.\u001b[39m_forward_hooks \u001b[39mor\u001b[39;00m \u001b[39mself\u001b[39m\u001b[39m.\u001b[39m_forward_pre_hooks\n\u001b[0;32m   1499\u001b[0m         \u001b[39mor\u001b[39;00m _global_backward_pre_hooks \u001b[39mor\u001b[39;00m _global_backward_hooks\n\u001b[0;32m   1500\u001b[0m         \u001b[39mor\u001b[39;00m _global_forward_hooks \u001b[39mor\u001b[39;00m _global_forward_pre_hooks):\n\u001b[1;32m-> 1501\u001b[0m     \u001b[39mreturn\u001b[39;00m forward_call(\u001b[39m*\u001b[39margs, \u001b[39m*\u001b[39m\u001b[39m*\u001b[39mkwargs)\n\u001b[0;32m   1502\u001b[0m \u001b[39m# Do not call functions when jit is used\u001b[39;00m\n\u001b[0;32m   1503\u001b[0m full_backward_hooks, non_full_backward_hooks \u001b[39m=\u001b[39m [], []\n",
      "Cell \u001b[1;32mIn[95], line 46\u001b[0m, in \u001b[0;36mTinyVgg.forward\u001b[1;34m(self, x)\u001b[0m\n\u001b[0;32m     44\u001b[0m \u001b[39mdef\u001b[39;00m \u001b[39mforward\u001b[39m(\u001b[39mself\u001b[39m,x):    \n\u001b[0;32m     45\u001b[0m     x\u001b[39m=\u001b[39m x\u001b[39m.\u001b[39mto(device)\n\u001b[1;32m---> 46\u001b[0m     x \u001b[39m=\u001b[39m \u001b[39mself\u001b[39;49m\u001b[39m.\u001b[39;49mconv_block_1(x)\n\u001b[0;32m     47\u001b[0m     \u001b[39m# print(x.shape)\u001b[39;00m\n\u001b[0;32m     48\u001b[0m     x \u001b[39m=\u001b[39m \u001b[39mself\u001b[39m\u001b[39m.\u001b[39mconv_block_2(x)\n",
      "File \u001b[1;32mc:\\Users\\rifat\\AppData\\Local\\Programs\\Python\\Python310\\lib\\site-packages\\torch\\nn\\modules\\module.py:1501\u001b[0m, in \u001b[0;36mModule._call_impl\u001b[1;34m(self, *args, **kwargs)\u001b[0m\n\u001b[0;32m   1496\u001b[0m \u001b[39m# If we don't have any hooks, we want to skip the rest of the logic in\u001b[39;00m\n\u001b[0;32m   1497\u001b[0m \u001b[39m# this function, and just call forward.\u001b[39;00m\n\u001b[0;32m   1498\u001b[0m \u001b[39mif\u001b[39;00m \u001b[39mnot\u001b[39;00m (\u001b[39mself\u001b[39m\u001b[39m.\u001b[39m_backward_hooks \u001b[39mor\u001b[39;00m \u001b[39mself\u001b[39m\u001b[39m.\u001b[39m_backward_pre_hooks \u001b[39mor\u001b[39;00m \u001b[39mself\u001b[39m\u001b[39m.\u001b[39m_forward_hooks \u001b[39mor\u001b[39;00m \u001b[39mself\u001b[39m\u001b[39m.\u001b[39m_forward_pre_hooks\n\u001b[0;32m   1499\u001b[0m         \u001b[39mor\u001b[39;00m _global_backward_pre_hooks \u001b[39mor\u001b[39;00m _global_backward_hooks\n\u001b[0;32m   1500\u001b[0m         \u001b[39mor\u001b[39;00m _global_forward_hooks \u001b[39mor\u001b[39;00m _global_forward_pre_hooks):\n\u001b[1;32m-> 1501\u001b[0m     \u001b[39mreturn\u001b[39;00m forward_call(\u001b[39m*\u001b[39margs, \u001b[39m*\u001b[39m\u001b[39m*\u001b[39mkwargs)\n\u001b[0;32m   1502\u001b[0m \u001b[39m# Do not call functions when jit is used\u001b[39;00m\n\u001b[0;32m   1503\u001b[0m full_backward_hooks, non_full_backward_hooks \u001b[39m=\u001b[39m [], []\n",
      "File \u001b[1;32mc:\\Users\\rifat\\AppData\\Local\\Programs\\Python\\Python310\\lib\\site-packages\\torch\\nn\\modules\\container.py:217\u001b[0m, in \u001b[0;36mSequential.forward\u001b[1;34m(self, input)\u001b[0m\n\u001b[0;32m    215\u001b[0m \u001b[39mdef\u001b[39;00m \u001b[39mforward\u001b[39m(\u001b[39mself\u001b[39m, \u001b[39minput\u001b[39m):\n\u001b[0;32m    216\u001b[0m     \u001b[39mfor\u001b[39;00m module \u001b[39min\u001b[39;00m \u001b[39mself\u001b[39m:\n\u001b[1;32m--> 217\u001b[0m         \u001b[39minput\u001b[39m \u001b[39m=\u001b[39m module(\u001b[39minput\u001b[39;49m)\n\u001b[0;32m    218\u001b[0m     \u001b[39mreturn\u001b[39;00m \u001b[39minput\u001b[39m\n",
      "File \u001b[1;32mc:\\Users\\rifat\\AppData\\Local\\Programs\\Python\\Python310\\lib\\site-packages\\torch\\nn\\modules\\module.py:1501\u001b[0m, in \u001b[0;36mModule._call_impl\u001b[1;34m(self, *args, **kwargs)\u001b[0m\n\u001b[0;32m   1496\u001b[0m \u001b[39m# If we don't have any hooks, we want to skip the rest of the logic in\u001b[39;00m\n\u001b[0;32m   1497\u001b[0m \u001b[39m# this function, and just call forward.\u001b[39;00m\n\u001b[0;32m   1498\u001b[0m \u001b[39mif\u001b[39;00m \u001b[39mnot\u001b[39;00m (\u001b[39mself\u001b[39m\u001b[39m.\u001b[39m_backward_hooks \u001b[39mor\u001b[39;00m \u001b[39mself\u001b[39m\u001b[39m.\u001b[39m_backward_pre_hooks \u001b[39mor\u001b[39;00m \u001b[39mself\u001b[39m\u001b[39m.\u001b[39m_forward_hooks \u001b[39mor\u001b[39;00m \u001b[39mself\u001b[39m\u001b[39m.\u001b[39m_forward_pre_hooks\n\u001b[0;32m   1499\u001b[0m         \u001b[39mor\u001b[39;00m _global_backward_pre_hooks \u001b[39mor\u001b[39;00m _global_backward_hooks\n\u001b[0;32m   1500\u001b[0m         \u001b[39mor\u001b[39;00m _global_forward_hooks \u001b[39mor\u001b[39;00m _global_forward_pre_hooks):\n\u001b[1;32m-> 1501\u001b[0m     \u001b[39mreturn\u001b[39;00m forward_call(\u001b[39m*\u001b[39margs, \u001b[39m*\u001b[39m\u001b[39m*\u001b[39mkwargs)\n\u001b[0;32m   1502\u001b[0m \u001b[39m# Do not call functions when jit is used\u001b[39;00m\n\u001b[0;32m   1503\u001b[0m full_backward_hooks, non_full_backward_hooks \u001b[39m=\u001b[39m [], []\n",
      "File \u001b[1;32mc:\\Users\\rifat\\AppData\\Local\\Programs\\Python\\Python310\\lib\\site-packages\\torch\\nn\\modules\\conv.py:463\u001b[0m, in \u001b[0;36mConv2d.forward\u001b[1;34m(self, input)\u001b[0m\n\u001b[0;32m    462\u001b[0m \u001b[39mdef\u001b[39;00m \u001b[39mforward\u001b[39m(\u001b[39mself\u001b[39m, \u001b[39minput\u001b[39m: Tensor) \u001b[39m-\u001b[39m\u001b[39m>\u001b[39m Tensor:\n\u001b[1;32m--> 463\u001b[0m     \u001b[39mreturn\u001b[39;00m \u001b[39mself\u001b[39;49m\u001b[39m.\u001b[39;49m_conv_forward(\u001b[39minput\u001b[39;49m, \u001b[39mself\u001b[39;49m\u001b[39m.\u001b[39;49mweight, \u001b[39mself\u001b[39;49m\u001b[39m.\u001b[39;49mbias)\n",
      "File \u001b[1;32mc:\\Users\\rifat\\AppData\\Local\\Programs\\Python\\Python310\\lib\\site-packages\\torch\\nn\\modules\\conv.py:459\u001b[0m, in \u001b[0;36mConv2d._conv_forward\u001b[1;34m(self, input, weight, bias)\u001b[0m\n\u001b[0;32m    455\u001b[0m \u001b[39mif\u001b[39;00m \u001b[39mself\u001b[39m\u001b[39m.\u001b[39mpadding_mode \u001b[39m!=\u001b[39m \u001b[39m'\u001b[39m\u001b[39mzeros\u001b[39m\u001b[39m'\u001b[39m:\n\u001b[0;32m    456\u001b[0m     \u001b[39mreturn\u001b[39;00m F\u001b[39m.\u001b[39mconv2d(F\u001b[39m.\u001b[39mpad(\u001b[39minput\u001b[39m, \u001b[39mself\u001b[39m\u001b[39m.\u001b[39m_reversed_padding_repeated_twice, mode\u001b[39m=\u001b[39m\u001b[39mself\u001b[39m\u001b[39m.\u001b[39mpadding_mode),\n\u001b[0;32m    457\u001b[0m                     weight, bias, \u001b[39mself\u001b[39m\u001b[39m.\u001b[39mstride,\n\u001b[0;32m    458\u001b[0m                     _pair(\u001b[39m0\u001b[39m), \u001b[39mself\u001b[39m\u001b[39m.\u001b[39mdilation, \u001b[39mself\u001b[39m\u001b[39m.\u001b[39mgroups)\n\u001b[1;32m--> 459\u001b[0m \u001b[39mreturn\u001b[39;00m F\u001b[39m.\u001b[39;49mconv2d(\u001b[39minput\u001b[39;49m, weight, bias, \u001b[39mself\u001b[39;49m\u001b[39m.\u001b[39;49mstride,\n\u001b[0;32m    460\u001b[0m                 \u001b[39mself\u001b[39;49m\u001b[39m.\u001b[39;49mpadding, \u001b[39mself\u001b[39;49m\u001b[39m.\u001b[39;49mdilation, \u001b[39mself\u001b[39;49m\u001b[39m.\u001b[39;49mgroups)\n",
      "\u001b[1;31mRuntimeError\u001b[0m: Input type (unsigned char) and bias type (float) should be the same"
     ]
    }
   ],
   "source": [
    "model_0(castom_image.unsqueeze(0).to(device))"
   ]
  },
  {
   "cell_type": "code",
   "execution_count": 96,
   "metadata": {},
   "outputs": [
    {
     "data": {
      "text/plain": [
       "{'train_loss': [1.103209838271141,\n",
       "  1.103209838271141,\n",
       "  1.0012883245944977,\n",
       "  1.0012883245944977,\n",
       "  0.9361769482493401,\n",
       "  0.9361769482493401,\n",
       "  0.9399877414107323,\n",
       "  0.9399877414107323,\n",
       "  0.8844051882624626,\n",
       "  0.8844051882624626,\n",
       "  0.9377520382404327,\n",
       "  0.9377520382404327,\n",
       "  0.8998778015375137,\n",
       "  0.8998778015375137,\n",
       "  0.8026490835472941,\n",
       "  0.8026490835472941,\n",
       "  0.8649983182549477,\n",
       "  0.8649983182549477,\n",
       "  0.7727481313049793,\n",
       "  0.7727481313049793],\n",
       " 'train_acc': [0.125,\n",
       "  0.125,\n",
       "  0.125,\n",
       "  0.125,\n",
       "  0.125,\n",
       "  0.125,\n",
       "  0.125,\n",
       "  0.125,\n",
       "  0.0,\n",
       "  0.0,\n",
       "  0.0,\n",
       "  0.0,\n",
       "  0.125,\n",
       "  0.125,\n",
       "  0.125,\n",
       "  0.125,\n",
       "  0.125,\n",
       "  0.125,\n",
       "  0.125,\n",
       "  0.125],\n",
       " 'test_loss': [1.068641185760498,\n",
       "  1.068641185760498,\n",
       "  0.9919124096632004,\n",
       "  0.9919124096632004,\n",
       "  1.0841472670435905,\n",
       "  1.0841472670435905,\n",
       "  0.7986775636672974,\n",
       "  0.7986775636672974,\n",
       "  0.8216793313622475,\n",
       "  0.8216793313622475,\n",
       "  0.8764236196875572,\n",
       "  0.8764236196875572,\n",
       "  0.9595507308840752,\n",
       "  0.9595507308840752,\n",
       "  0.9052050039172173,\n",
       "  0.9052050039172173,\n",
       "  0.8438908606767654,\n",
       "  0.8438908606767654,\n",
       "  0.6893774978816509,\n",
       "  0.6893774978816509],\n",
       " 'test_acc': [0.4140625,\n",
       "  0.4140625,\n",
       "  0.42578125,\n",
       "  0.42578125,\n",
       "  0.4453125,\n",
       "  0.4453125,\n",
       "  0.6640625,\n",
       "  0.6640625,\n",
       "  0.703125,\n",
       "  0.703125,\n",
       "  0.515625,\n",
       "  0.515625,\n",
       "  0.57421875,\n",
       "  0.57421875,\n",
       "  0.4765625,\n",
       "  0.4765625,\n",
       "  0.57421875,\n",
       "  0.57421875,\n",
       "  0.72265625,\n",
       "  0.72265625]}"
      ]
     },
     "execution_count": 96,
     "metadata": {},
     "output_type": "execute_result"
    }
   ],
   "source": [
    "results"
   ]
  },
  {
   "cell_type": "code",
   "execution_count": null,
   "metadata": {},
   "outputs": [],
   "source": [
    "#create tinyvgg modelclass\n"
   ]
  },
  {
   "cell_type": "code",
   "execution_count": null,
   "metadata": {},
   "outputs": [],
   "source": [
    "\n",
    "\n",
    "import os\n"
   ]
  },
  {
   "cell_type": "code",
   "execution_count": null,
   "metadata": {},
   "outputs": [
    {
     "data": {
      "text/plain": [
       "32768"
      ]
     },
     "execution_count": 84,
     "metadata": {},
     "output_type": "execute_result"
    }
   ],
   "source": [
    "128*16*16"
   ]
  },
  {
   "cell_type": "code",
   "execution_count": null,
   "metadata": {},
   "outputs": [
    {
     "data": {
      "text/plain": [
       "98304"
      ]
     },
     "execution_count": 85,
     "metadata": {},
     "output_type": "execute_result"
    }
   ],
   "source": [
    "32768*3"
   ]
  }
 ],
 "metadata": {
  "kernelspec": {
   "display_name": "Python 3",
   "language": "python",
   "name": "python3"
  },
  "language_info": {
   "codemirror_mode": {
    "name": "ipython",
    "version": 3
   },
   "file_extension": ".py",
   "mimetype": "text/x-python",
   "name": "python",
   "nbconvert_exporter": "python",
   "pygments_lexer": "ipython3",
   "version": "3.10.0"
  },
  "orig_nbformat": 4
 },
 "nbformat": 4,
 "nbformat_minor": 2
}

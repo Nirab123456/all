{
 "cells": [
  {
   "cell_type": "code",
   "execution_count": null,
   "metadata": {},
   "outputs": [],
   "source": [
    "# Load the fine-tuned XLM-RoBERTa model\n",
    "from transformers import XLMRobertaTokenizer, XLMRobertaForSequenceClassification\n",
    "model = XLMRobertaForSequenceClassification.from_pretrained('C:/langchain2/roberta')\n",
    "tokenizer = XLMRobertaTokenizer.from_pretrained('xlm-roberta-large')\n",
    "import torch\n",
    "\n",
    "# Define the question to ask\n",
    "question = \"What is the cause of dengue fever?\"\n",
    "\n",
    "# Define the possible answers to the question\n",
    "answers = [\n",
    "    \"Dengue is related with fever.\",\n",
    "    \"Dengue is related with cough.\",\n",
    "    \"Dengue is related with cancer.\"\n",
    "]\n",
    "\n",
    "# Loop through the answers and make predictions\n",
    "scores = []\n",
    "for answer in answers:\n",
    "    # Convert the question and answer to input features\n",
    "    inputs = tokenizer.encode_plus(question, answer, return_tensors='pt')\n",
    "    \n",
    "    # Make the prediction\n",
    "    with torch.no_grad():\n",
    "        logits = model(**inputs)[0]\n",
    "        prediction = torch.argmax(logits, dim=1)\n",
    "        scores.append(torch.softmax(logits, dim=1).mean().item())\n",
    "\n",
    "# Print the answer with the highest score\n",
    "index = scores.index(max(scores))\n",
    "print(f\"The answer is: {answers[index]}\")\n"
   ]
  }
 ],
 "metadata": {
  "kernelspec": {
   "display_name": "Python 3",
   "language": "python",
   "name": "python3"
  },
  "language_info": {
   "codemirror_mode": {
    "name": "ipython",
    "version": 3
   },
   "file_extension": ".py",
   "mimetype": "text/x-python",
   "name": "python",
   "nbconvert_exporter": "python",
   "pygments_lexer": "ipython3",
   "version": "3.10.0"
  },
  "orig_nbformat": 4
 },
 "nbformat": 4,
 "nbformat_minor": 2
}

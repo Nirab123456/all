{
 "cells": [
  {
   "cell_type": "code",
   "execution_count": 21,
   "id": "431383f9-b506-4443-9643-3af53aae29e3",
   "metadata": {
    "tags": []
   },
   "outputs": [
    {
     "name": "stdout",
     "output_type": "stream",
     "text": [
      "GPU is available\n"
     ]
    }
   ],
   "source": [
    "import tensorflow as tf\n",
    "import PySimpleGUI as sg\n",
    "import os\n",
    "\n",
    "\n",
    "if tf.config.list_physical_devices('GPU'):\n",
    "    print('GPU is available')\n",
    "else:\n",
    "    print('GPU is not available')\n",
    "\n"
   ]
  },
  {
   "cell_type": "code",
   "execution_count": 22,
   "id": "714cea5f-b70c-4f70-8835-7be838e146f2",
   "metadata": {
    "tags": []
   },
   "outputs": [],
   "source": [
    "# # Define the PySimpleUI layout\n",
    "# layout = [\n",
    "#     [sg.Text('Select the directory containing the model checkpoint files')],\n",
    "#     [sg.Input(key='-FOLDER-'), sg.FolderBrowse()],\n",
    "#     [sg.Button('Load Model'), sg.Button('Cancel')]\n",
    "# ]\n",
    "\n",
    "\n",
    "# model = tf.keras.models.Sequential([\n",
    "#                     # ... add layers to the model here ...\n",
    "#                 ])\n",
    "\n",
    "#                 # Load the checkpoint files\n",
    "# checkpoint_dir = '/home/rifat/miniconda3/Bio_ClinicalBERT'\n",
    "# checkpoint_path = os.path.join(checkpoint_dir, 'model.ckpt-150000')\n",
    "# model_got = model.load_weights(checkpoint_path)\n"
   ]
  },
  {
   "cell_type": "code",
   "execution_count": 23,
   "id": "4c4c2a15-325b-4b8a-a93c-990fcf671f78",
   "metadata": {},
   "outputs": [
    {
     "data": {
      "text/html": [
       "<div>\n",
       "<style scoped>\n",
       "    .dataframe tbody tr th:only-of-type {\n",
       "        vertical-align: middle;\n",
       "    }\n",
       "\n",
       "    .dataframe tbody tr th {\n",
       "        vertical-align: top;\n",
       "    }\n",
       "\n",
       "    .dataframe thead th {\n",
       "        text-align: right;\n",
       "    }\n",
       "</style>\n",
       "<table border=\"1\" class=\"dataframe\">\n",
       "  <thead>\n",
       "    <tr style=\"text-align: right;\">\n",
       "      <th></th>\n",
       "      <th>habits</th>\n",
       "      <th>symptoms</th>\n",
       "      <th>probability_of_cancer</th>\n",
       "    </tr>\n",
       "  </thead>\n",
       "  <tbody>\n",
       "    <tr>\n",
       "      <th>0</th>\n",
       "      <td>non-smoker</td>\n",
       "      <td>fever, muscle aches, headache</td>\n",
       "      <td>0</td>\n",
       "    </tr>\n",
       "    <tr>\n",
       "      <th>1</th>\n",
       "      <td>non-smoker</td>\n",
       "      <td>runny nose, cough, sore throat</td>\n",
       "      <td>0</td>\n",
       "    </tr>\n",
       "    <tr>\n",
       "      <th>2</th>\n",
       "      <td>chain-smoker</td>\n",
       "      <td>weight loss, jaundice, abdominal pain, loss of...</td>\n",
       "      <td>1</td>\n",
       "    </tr>\n",
       "    <tr>\n",
       "      <th>3</th>\n",
       "      <td>chain-smoker</td>\n",
       "      <td>coughing up blood, chest pain, shortness of br...</td>\n",
       "      <td>1</td>\n",
       "    </tr>\n",
       "    <tr>\n",
       "      <th>4</th>\n",
       "      <td>non-smoker</td>\n",
       "      <td>fatigue, nausea, diarrhea</td>\n",
       "      <td>0</td>\n",
       "    </tr>\n",
       "  </tbody>\n",
       "</table>\n",
       "</div>"
      ],
      "text/plain": [
       "         habits                                           symptoms  \\\n",
       "0    non-smoker                      fever, muscle aches, headache   \n",
       "1    non-smoker                     runny nose, cough, sore throat   \n",
       "2  chain-smoker  weight loss, jaundice, abdominal pain, loss of...   \n",
       "3  chain-smoker  coughing up blood, chest pain, shortness of br...   \n",
       "4    non-smoker                          fatigue, nausea, diarrhea   \n",
       "\n",
       "   probability_of_cancer  \n",
       "0                      0  \n",
       "1                      0  \n",
       "2                      1  \n",
       "3                      1  \n",
       "4                      0  "
      ]
     },
     "execution_count": 23,
     "metadata": {},
     "output_type": "execute_result"
    }
   ],
   "source": [
    "import pandas as pd \n",
    "\n",
    "data = pd.read_csv(\"/home/rifat/miniconda3/Bio_ClinicalBERT/data_tensor.csv\")\n",
    "data.head()"
   ]
  },
  {
   "cell_type": "code",
   "execution_count": 24,
   "id": "a4488beb-8162-4d5d-b10c-8ab2feee3fdd",
   "metadata": {},
   "outputs": [
    {
     "name": "stdout",
     "output_type": "stream",
     "text": [
      "          habits                                           symptoms  \\\n",
      "8     non-smoker                     headache, dizziness, confusion   \n",
      "16    non-smoker       sudden vision loss, blurred vision, eye pain   \n",
      "0     non-smoker                      fever, muscle aches, headache   \n",
      "18    non-smoker               frequent fevers, infections, fatigue   \n",
      "11  chain-smoker  yellowing of the skin and eyes, abdominal swel...   \n",
      "9   chain-smoker     pain or pressure in the chest, nausea, fatigue   \n",
      "13  chain-smoker         fatigue, weakness, unexplained weight loss   \n",
      "1     non-smoker                     runny nose, cough, sore throat   \n",
      "21  chain-smoker  swelling or lumps in the testicles, pain or di...   \n",
      "5   chain-smoker  difficulty swallowing, hoarseness, persistent ...   \n",
      "2   chain-smoker  weight loss, jaundice, abdominal pain, loss of...   \n",
      "12    non-smoker                         itching, redness, swelling   \n",
      "15  chain-smoker               bleeding from rectum, abdominal pain   \n",
      "3   chain-smoker  coughing up blood, chest pain, shortness of br...   \n",
      "4     non-smoker                          fatigue, nausea, diarrhea   \n",
      "22    non-smoker                     bone pain, fractures, weakness   \n",
      "17  chain-smoker             abnormal vaginal bleeding, pelvic pain   \n",
      "20    non-smoker             unexplained weight loss, fatigue, pain   \n",
      "23  chain-smoker  abdominal pain, unexplained weight loss, loss ...   \n",
      "\n",
      "    probability_of_cancer  \n",
      "8                       0  \n",
      "16                      0  \n",
      "0                       0  \n",
      "18                      0  \n",
      "11                      1  \n",
      "9                       1  \n",
      "13                      1  \n",
      "1                       0  \n",
      "21                      1  \n",
      "5                       1  \n",
      "2                       1  \n",
      "12                      0  \n",
      "15                      1  \n",
      "3                       1  \n",
      "4                       0  \n",
      "22                      0  \n",
      "17                      1  \n",
      "20                      0  \n",
      "23                      1  \n"
     ]
    }
   ],
   "source": [
    "train_data = data.sample(frac=0.8, random_state=42)\n",
    "test_data = data.drop(train_data.index)\n",
    "print(train_data)"
   ]
  },
  {
   "cell_type": "code",
   "execution_count": 25,
   "id": "4e6d5106",
   "metadata": {},
   "outputs": [
    {
     "name": "stdout",
     "output_type": "stream",
     "text": [
      "{'input_ids': <tf.Tensor: shape=(19, 16), dtype=int32, numpy=\n",
      "array([[  101,  1664,   118,  5427,  1197,   102, 16320,   117,  4267,\n",
      "        15284,  1757,   117,  6406,   102,     0,     0],\n",
      "       [  101,  1664,   118,  5427,  1197,   102,  4962,  4152,  2445,\n",
      "          117, 20611,  4152,   117,  2552,  2489,   102],\n",
      "       [  101,  1664,   118,  5427,  1197,   102, 10880,   117,  6484,\n",
      "        12953,  1116,   117, 16320,   102,     0,     0],\n",
      "       [  101,  1664,   118,  5427,  1197,   102,  6539, 10880,  1116,\n",
      "          117, 16565,   117, 18418,   102,     0,     0],\n",
      "       [  101,  4129,   118,  5427,  1197,   102,  3431,  1158,  1104,\n",
      "         1103,  2241,  1105,  1257,   117, 24716,   102],\n",
      "       [  101,  4129,   118,  5427,  1197,   102,  2489,  1137,  2997,\n",
      "         1107,  1103,  2229,   117, 22882,   117,   102],\n",
      "       [  101,  4129,   118,  5427,  1197,   102, 18418,   117, 11477,\n",
      "          117, 25731,  1775, 18220,  1174,  2841,   102],\n",
      "       [  101,  1664,   118,  5427,  1197,   102,  1576,  3382,  3678,\n",
      "          117, 21810,   117, 15939,  2922,   102,     0],\n",
      "       [  101,  4129,   118,  5427,  1197,   102, 20085,  1137, 16401,\n",
      "         1116,  1107,  1103,  2774, 26407,   117,   102],\n",
      "       [  101,  4129,   118,  5427,  1197,   102,  7262, 24841,   117,\n",
      "        23523,  1757,   117, 15970, 21810,   102,     0],\n",
      "       [  101,  4129,   118,  5427,  1197,   102,  2841,  2445,   117,\n",
      "          179,  3984, 12090,  2093,   117, 24716,   102],\n",
      "       [  101,  1664,   118,  5427,  1197,   102,  1122,  7520,   117,\n",
      "         1894,  1757,   117, 20085,   102,     0,     0],\n",
      "       [  101,  4129,   118,  5427,  1197,   102,  9793,  1121,  1231,\n",
      "         5822,  1818,   117, 24716,  2489,   102,     0],\n",
      "       [  101,  4129,   118,  5427,  1197,   102, 24992,  1146,  1892,\n",
      "          117,  2229,  2489,   117,  1603,  1757,   102],\n",
      "       [  101,  1664,   118,  5427,  1197,   102, 18418,   117, 22882,\n",
      "          117,  4267,  1813,  1197, 13836,   102,     0],\n",
      "       [  101,  1664,   118,  5427,  1197,   102,  6028,  2489,   117,\n",
      "        22869,  1116,   117, 11477,   102,     0,     0],\n",
      "       [  101,  4129,   118,  5427,  1197,   102, 22832,   191, 27547,\n",
      "         7050,  9793,   117,   185,  1883, 15901,   102],\n",
      "       [  101,  1664,   118,  5427,  1197,   102, 25731,  1775, 18220,\n",
      "         1174,  2841,  2445,   117, 18418,   117,   102],\n",
      "       [  101,  4129,   118,  5427,  1197,   102, 24716,  2489,   117,\n",
      "        25731,  1775, 18220,  1174,  2841,  2445,   102]], dtype=int32)>, 'token_type_ids': <tf.Tensor: shape=(19, 16), dtype=int32, numpy=\n",
      "array([[0, 0, 0, 0, 0, 0, 1, 1, 1, 1, 1, 1, 1, 1, 0, 0],\n",
      "       [0, 0, 0, 0, 0, 0, 1, 1, 1, 1, 1, 1, 1, 1, 1, 1],\n",
      "       [0, 0, 0, 0, 0, 0, 1, 1, 1, 1, 1, 1, 1, 1, 0, 0],\n",
      "       [0, 0, 0, 0, 0, 0, 1, 1, 1, 1, 1, 1, 1, 1, 0, 0],\n",
      "       [0, 0, 0, 0, 0, 0, 1, 1, 1, 1, 1, 1, 1, 1, 1, 1],\n",
      "       [0, 0, 0, 0, 0, 0, 1, 1, 1, 1, 1, 1, 1, 1, 1, 1],\n",
      "       [0, 0, 0, 0, 0, 0, 1, 1, 1, 1, 1, 1, 1, 1, 1, 1],\n",
      "       [0, 0, 0, 0, 0, 0, 1, 1, 1, 1, 1, 1, 1, 1, 1, 0],\n",
      "       [0, 0, 0, 0, 0, 0, 1, 1, 1, 1, 1, 1, 1, 1, 1, 1],\n",
      "       [0, 0, 0, 0, 0, 0, 1, 1, 1, 1, 1, 1, 1, 1, 1, 0],\n",
      "       [0, 0, 0, 0, 0, 0, 1, 1, 1, 1, 1, 1, 1, 1, 1, 1],\n",
      "       [0, 0, 0, 0, 0, 0, 1, 1, 1, 1, 1, 1, 1, 1, 0, 0],\n",
      "       [0, 0, 0, 0, 0, 0, 1, 1, 1, 1, 1, 1, 1, 1, 1, 0],\n",
      "       [0, 0, 0, 0, 0, 0, 1, 1, 1, 1, 1, 1, 1, 1, 1, 1],\n",
      "       [0, 0, 0, 0, 0, 0, 1, 1, 1, 1, 1, 1, 1, 1, 1, 0],\n",
      "       [0, 0, 0, 0, 0, 0, 1, 1, 1, 1, 1, 1, 1, 1, 0, 0],\n",
      "       [0, 0, 0, 0, 0, 0, 1, 1, 1, 1, 1, 1, 1, 1, 1, 1],\n",
      "       [0, 0, 0, 0, 0, 0, 1, 1, 1, 1, 1, 1, 1, 1, 1, 1],\n",
      "       [0, 0, 0, 0, 0, 0, 1, 1, 1, 1, 1, 1, 1, 1, 1, 1]], dtype=int32)>, 'attention_mask': <tf.Tensor: shape=(19, 16), dtype=int32, numpy=\n",
      "array([[1, 1, 1, 1, 1, 1, 1, 1, 1, 1, 1, 1, 1, 1, 0, 0],\n",
      "       [1, 1, 1, 1, 1, 1, 1, 1, 1, 1, 1, 1, 1, 1, 1, 1],\n",
      "       [1, 1, 1, 1, 1, 1, 1, 1, 1, 1, 1, 1, 1, 1, 0, 0],\n",
      "       [1, 1, 1, 1, 1, 1, 1, 1, 1, 1, 1, 1, 1, 1, 0, 0],\n",
      "       [1, 1, 1, 1, 1, 1, 1, 1, 1, 1, 1, 1, 1, 1, 1, 1],\n",
      "       [1, 1, 1, 1, 1, 1, 1, 1, 1, 1, 1, 1, 1, 1, 1, 1],\n",
      "       [1, 1, 1, 1, 1, 1, 1, 1, 1, 1, 1, 1, 1, 1, 1, 1],\n",
      "       [1, 1, 1, 1, 1, 1, 1, 1, 1, 1, 1, 1, 1, 1, 1, 0],\n",
      "       [1, 1, 1, 1, 1, 1, 1, 1, 1, 1, 1, 1, 1, 1, 1, 1],\n",
      "       [1, 1, 1, 1, 1, 1, 1, 1, 1, 1, 1, 1, 1, 1, 1, 0],\n",
      "       [1, 1, 1, 1, 1, 1, 1, 1, 1, 1, 1, 1, 1, 1, 1, 1],\n",
      "       [1, 1, 1, 1, 1, 1, 1, 1, 1, 1, 1, 1, 1, 1, 0, 0],\n",
      "       [1, 1, 1, 1, 1, 1, 1, 1, 1, 1, 1, 1, 1, 1, 1, 0],\n",
      "       [1, 1, 1, 1, 1, 1, 1, 1, 1, 1, 1, 1, 1, 1, 1, 1],\n",
      "       [1, 1, 1, 1, 1, 1, 1, 1, 1, 1, 1, 1, 1, 1, 1, 0],\n",
      "       [1, 1, 1, 1, 1, 1, 1, 1, 1, 1, 1, 1, 1, 1, 0, 0],\n",
      "       [1, 1, 1, 1, 1, 1, 1, 1, 1, 1, 1, 1, 1, 1, 1, 1],\n",
      "       [1, 1, 1, 1, 1, 1, 1, 1, 1, 1, 1, 1, 1, 1, 1, 1],\n",
      "       [1, 1, 1, 1, 1, 1, 1, 1, 1, 1, 1, 1, 1, 1, 1, 1]], dtype=int32)>}\n"
     ]
    }
   ],
   "source": [
    "from transformers import AutoTokenizer \n",
    "checkpoint_dir = '/home/rifat/miniconda3/Bio_ClinicalBERT'\n",
    "\n",
    "file_path = checkpoint_dir\n",
    "\n",
    "if os.path.exists(file_path):\n",
    "    tokenizer = AutoTokenizer.from_pretrained(file_path)\n",
    "    # use the tokenizer object for further processing\n",
    "else:\n",
    "    print(\"Error: specified file path does not exist.\")\n",
    "\n",
    "\n",
    "train_tokens = tokenizer.batch_encode_plus(\n",
    "    train_data[['habits', 'symptoms']].values.tolist(),\n",
    "    max_length=16,\n",
    "    padding='max_length',\n",
    "    truncation=True,\n",
    "    return_token_type_ids=True,\n",
    "    return_attention_mask=True,\n",
    "    return_tensors='tf'\n",
    ")\n",
    "print(train_tokens)"
   ]
  },
  {
   "cell_type": "code",
   "execution_count": 26,
   "id": "9d922c4d",
   "metadata": {},
   "outputs": [
    {
     "name": "stdout",
     "output_type": "stream",
     "text": [
      "{'input_ids': <tf.Tensor: shape=(5, 16), dtype=int32, numpy=\n",
      "array([[  101,  1664,   118,  5427,  1197,   102,   187, 10733,   117,\n",
      "         1122,  7520,   117, 20085,   102,     0,     0],\n",
      "       [  101,  4129,   118,  5427,  1197,   102,  2489,  1137, 19614,\n",
      "         1107,  1103, 14701,   117,  2607,  1107,   102],\n",
      "       [  101,  1664,   118,  5427,  1197,   102,  6539,   190,  9324,\n",
      "         2116,   117,  7262,   190,  9324,  1916,   102],\n",
      "       [  101,  1664,   118,  5427,  1197,   102,  1171,  2489,   117,\n",
      "        18152,  1757,  1137, 11477,  1107,  2584,   102],\n",
      "       [  101,  4129,   118,  5427,  1197,   102, 20085,  1137, 16401,\n",
      "         1116,  1107,  1103,  2455,   117,  7262,   102]], dtype=int32)>, 'token_type_ids': <tf.Tensor: shape=(5, 16), dtype=int32, numpy=\n",
      "array([[0, 0, 0, 0, 0, 0, 1, 1, 1, 1, 1, 1, 1, 1, 0, 0],\n",
      "       [0, 0, 0, 0, 0, 0, 1, 1, 1, 1, 1, 1, 1, 1, 1, 1],\n",
      "       [0, 0, 0, 0, 0, 0, 1, 1, 1, 1, 1, 1, 1, 1, 1, 1],\n",
      "       [0, 0, 0, 0, 0, 0, 1, 1, 1, 1, 1, 1, 1, 1, 1, 1],\n",
      "       [0, 0, 0, 0, 0, 0, 1, 1, 1, 1, 1, 1, 1, 1, 1, 1]], dtype=int32)>, 'attention_mask': <tf.Tensor: shape=(5, 16), dtype=int32, numpy=\n",
      "array([[1, 1, 1, 1, 1, 1, 1, 1, 1, 1, 1, 1, 1, 1, 0, 0],\n",
      "       [1, 1, 1, 1, 1, 1, 1, 1, 1, 1, 1, 1, 1, 1, 1, 1],\n",
      "       [1, 1, 1, 1, 1, 1, 1, 1, 1, 1, 1, 1, 1, 1, 1, 1],\n",
      "       [1, 1, 1, 1, 1, 1, 1, 1, 1, 1, 1, 1, 1, 1, 1, 1],\n",
      "       [1, 1, 1, 1, 1, 1, 1, 1, 1, 1, 1, 1, 1, 1, 1, 1]], dtype=int32)>}\n"
     ]
    }
   ],
   "source": [
    "test_tokens = tokenizer.batch_encode_plus(\n",
    "    test_data[['habits', 'symptoms']].values.tolist(),\n",
    "    max_length=16,\n",
    "    padding='max_length',\n",
    "    truncation=True,\n",
    "    return_token_type_ids=True,\n",
    "    return_attention_mask=True,\n",
    "    return_tensors='tf'\n",
    ")\n",
    "print(test_tokens)"
   ]
  },
  {
   "cell_type": "code",
   "execution_count": 27,
   "id": "e7a3408a",
   "metadata": {},
   "outputs": [
    {
     "name": "stdout",
     "output_type": "stream",
     "text": [
      "tf.Tensor(\n",
      "[[  101  1664   118  5427  1197   102 16320   117  4267 15284  1757   117\n",
      "   6406   102     0     0]\n",
      " [  101  1664   118  5427  1197   102  4962  4152  2445   117 20611  4152\n",
      "    117  2552  2489   102]\n",
      " [  101  1664   118  5427  1197   102 10880   117  6484 12953  1116   117\n",
      "  16320   102     0     0]\n",
      " [  101  1664   118  5427  1197   102  6539 10880  1116   117 16565   117\n",
      "  18418   102     0     0]\n",
      " [  101  4129   118  5427  1197   102  3431  1158  1104  1103  2241  1105\n",
      "   1257   117 24716   102]\n",
      " [  101  4129   118  5427  1197   102  2489  1137  2997  1107  1103  2229\n",
      "    117 22882   117   102]\n",
      " [  101  4129   118  5427  1197   102 18418   117 11477   117 25731  1775\n",
      "  18220  1174  2841   102]\n",
      " [  101  1664   118  5427  1197   102  1576  3382  3678   117 21810   117\n",
      "  15939  2922   102     0]\n",
      " [  101  4129   118  5427  1197   102 20085  1137 16401  1116  1107  1103\n",
      "   2774 26407   117   102]\n",
      " [  101  4129   118  5427  1197   102  7262 24841   117 23523  1757   117\n",
      "  15970 21810   102     0]\n",
      " [  101  4129   118  5427  1197   102  2841  2445   117   179  3984 12090\n",
      "   2093   117 24716   102]\n",
      " [  101  1664   118  5427  1197   102  1122  7520   117  1894  1757   117\n",
      "  20085   102     0     0]\n",
      " [  101  4129   118  5427  1197   102  9793  1121  1231  5822  1818   117\n",
      "  24716  2489   102     0]\n",
      " [  101  4129   118  5427  1197   102 24992  1146  1892   117  2229  2489\n",
      "    117  1603  1757   102]\n",
      " [  101  1664   118  5427  1197   102 18418   117 22882   117  4267  1813\n",
      "   1197 13836   102     0]\n",
      " [  101  1664   118  5427  1197   102  6028  2489   117 22869  1116   117\n",
      "  11477   102     0     0]\n",
      " [  101  4129   118  5427  1197   102 22832   191 27547  7050  9793   117\n",
      "    185  1883 15901   102]\n",
      " [  101  1664   118  5427  1197   102 25731  1775 18220  1174  2841  2445\n",
      "    117 18418   117   102]\n",
      " [  101  4129   118  5427  1197   102 24716  2489   117 25731  1775 18220\n",
      "   1174  2841  2445   102]], shape=(19, 16), dtype=int32)\n",
      "tf.Tensor(\n",
      "[[  101  1664   118  5427  1197   102   187 10733   117  1122  7520   117\n",
      "  20085   102     0     0]\n",
      " [  101  4129   118  5427  1197   102  2489  1137 19614  1107  1103 14701\n",
      "    117  2607  1107   102]\n",
      " [  101  1664   118  5427  1197   102  6539   190  9324  2116   117  7262\n",
      "    190  9324  1916   102]\n",
      " [  101  1664   118  5427  1197   102  1171  2489   117 18152  1757  1137\n",
      "  11477  1107  2584   102]\n",
      " [  101  4129   118  5427  1197   102 20085  1137 16401  1116  1107  1103\n",
      "   2455   117  7262   102]], shape=(5, 16), dtype=int32)\n"
     ]
    }
   ],
   "source": [
    "# Convert the tokens to IDs\n",
    "train_input_ids = train_tokens['input_ids']\n",
    "test_input_ids = test_tokens['input_ids']\n",
    "\n",
    "print(train_input_ids)\n",
    "print(test_input_ids)"
   ]
  },
  {
   "cell_type": "code",
   "execution_count": 28,
   "id": "daa47c79",
   "metadata": {},
   "outputs": [
    {
     "name": "stdout",
     "output_type": "stream",
     "text": [
      "tf.Tensor(\n",
      "[[1 1 1 1 1 1 1 1 1 1 1 1 1 1 0 0]\n",
      " [1 1 1 1 1 1 1 1 1 1 1 1 1 1 1 1]\n",
      " [1 1 1 1 1 1 1 1 1 1 1 1 1 1 0 0]\n",
      " [1 1 1 1 1 1 1 1 1 1 1 1 1 1 0 0]\n",
      " [1 1 1 1 1 1 1 1 1 1 1 1 1 1 1 1]\n",
      " [1 1 1 1 1 1 1 1 1 1 1 1 1 1 1 1]\n",
      " [1 1 1 1 1 1 1 1 1 1 1 1 1 1 1 1]\n",
      " [1 1 1 1 1 1 1 1 1 1 1 1 1 1 1 0]\n",
      " [1 1 1 1 1 1 1 1 1 1 1 1 1 1 1 1]\n",
      " [1 1 1 1 1 1 1 1 1 1 1 1 1 1 1 0]\n",
      " [1 1 1 1 1 1 1 1 1 1 1 1 1 1 1 1]\n",
      " [1 1 1 1 1 1 1 1 1 1 1 1 1 1 0 0]\n",
      " [1 1 1 1 1 1 1 1 1 1 1 1 1 1 1 0]\n",
      " [1 1 1 1 1 1 1 1 1 1 1 1 1 1 1 1]\n",
      " [1 1 1 1 1 1 1 1 1 1 1 1 1 1 1 0]\n",
      " [1 1 1 1 1 1 1 1 1 1 1 1 1 1 0 0]\n",
      " [1 1 1 1 1 1 1 1 1 1 1 1 1 1 1 1]\n",
      " [1 1 1 1 1 1 1 1 1 1 1 1 1 1 1 1]\n",
      " [1 1 1 1 1 1 1 1 1 1 1 1 1 1 1 1]], shape=(19, 16), dtype=int32)\n",
      "tf.Tensor(\n",
      "[[1 1 1 1 1 1 1 1 1 1 1 1 1 1 0 0]\n",
      " [1 1 1 1 1 1 1 1 1 1 1 1 1 1 1 1]\n",
      " [1 1 1 1 1 1 1 1 1 1 1 1 1 1 1 1]\n",
      " [1 1 1 1 1 1 1 1 1 1 1 1 1 1 1 1]\n",
      " [1 1 1 1 1 1 1 1 1 1 1 1 1 1 1 1]], shape=(5, 16), dtype=int32)\n"
     ]
    }
   ],
   "source": [
    "train_attention_masks = train_tokens['attention_mask']\n",
    "test_attention_masks = test_tokens['attention_mask']\n",
    "print(train_attention_masks)\n",
    "print(test_attention_masks)"
   ]
  },
  {
   "cell_type": "code",
   "execution_count": 29,
   "id": "3db5cd36",
   "metadata": {},
   "outputs": [
    {
     "name": "stdout",
     "output_type": "stream",
     "text": [
      "tf.Tensor(\n",
      "[[0 0 0 0 0 0 1 1 1 1 1 1 1 1 0 0]\n",
      " [0 0 0 0 0 0 1 1 1 1 1 1 1 1 1 1]\n",
      " [0 0 0 0 0 0 1 1 1 1 1 1 1 1 0 0]\n",
      " [0 0 0 0 0 0 1 1 1 1 1 1 1 1 0 0]\n",
      " [0 0 0 0 0 0 1 1 1 1 1 1 1 1 1 1]\n",
      " [0 0 0 0 0 0 1 1 1 1 1 1 1 1 1 1]\n",
      " [0 0 0 0 0 0 1 1 1 1 1 1 1 1 1 1]\n",
      " [0 0 0 0 0 0 1 1 1 1 1 1 1 1 1 0]\n",
      " [0 0 0 0 0 0 1 1 1 1 1 1 1 1 1 1]\n",
      " [0 0 0 0 0 0 1 1 1 1 1 1 1 1 1 0]\n",
      " [0 0 0 0 0 0 1 1 1 1 1 1 1 1 1 1]\n",
      " [0 0 0 0 0 0 1 1 1 1 1 1 1 1 0 0]\n",
      " [0 0 0 0 0 0 1 1 1 1 1 1 1 1 1 0]\n",
      " [0 0 0 0 0 0 1 1 1 1 1 1 1 1 1 1]\n",
      " [0 0 0 0 0 0 1 1 1 1 1 1 1 1 1 0]\n",
      " [0 0 0 0 0 0 1 1 1 1 1 1 1 1 0 0]\n",
      " [0 0 0 0 0 0 1 1 1 1 1 1 1 1 1 1]\n",
      " [0 0 0 0 0 0 1 1 1 1 1 1 1 1 1 1]\n",
      " [0 0 0 0 0 0 1 1 1 1 1 1 1 1 1 1]], shape=(19, 16), dtype=int32)\n",
      "tf.Tensor(\n",
      "[[0 0 0 0 0 0 1 1 1 1 1 1 1 1 0 0]\n",
      " [0 0 0 0 0 0 1 1 1 1 1 1 1 1 1 1]\n",
      " [0 0 0 0 0 0 1 1 1 1 1 1 1 1 1 1]\n",
      " [0 0 0 0 0 0 1 1 1 1 1 1 1 1 1 1]\n",
      " [0 0 0 0 0 0 1 1 1 1 1 1 1 1 1 1]], shape=(5, 16), dtype=int32)\n"
     ]
    }
   ],
   "source": [
    "# Create segment IDs\n",
    "train_token_type_ids = train_tokens['token_type_ids']\n",
    "test_token_type_ids = test_tokens['token_type_ids']\n",
    "print(train_token_type_ids)\n",
    "print(test_token_type_ids)"
   ]
  },
  {
   "cell_type": "code",
   "execution_count": 30,
   "id": "c91681db",
   "metadata": {},
   "outputs": [
    {
     "name": "stdout",
     "output_type": "stream",
     "text": [
      "tf.Tensor([0 0 0 0 1 1 1 0 1 1 1 0 1 1 0 0 1 0 1], shape=(19,), dtype=int64)\n",
      "tf.Tensor([0 1 0 0 1], shape=(5,), dtype=int64)\n"
     ]
    }
   ],
   "source": [
    "train_labels = tf.constant(train_data['probability_of_cancer'].values)\n",
    "test_labels = tf.constant(test_data['probability_of_cancer'].values)\n",
    "print(train_labels)\n",
    "print(test_labels)\n"
   ]
  },
  {
   "cell_type": "code",
   "execution_count": 31,
   "id": "0a05fffb",
   "metadata": {},
   "outputs": [
    {
     "name": "stdout",
     "output_type": "stream",
     "text": [
      "Train input IDs shape: (19, 16)\n",
      "Train attention masks shape: (19, 16)\n",
      "Train token type IDs shape: (19, 16)\n",
      "Train labels shape: (19,)\n",
      "Test input IDs shape: (5, 16)\n",
      "Test attention masks shape: (5, 16)\n",
      "Test token type IDs shape: (5, 16)\n",
      "Test labels shape: (5,)\n"
     ]
    }
   ],
   "source": [
    "# Print the shapes of the input tensors\n",
    "print('Train input IDs shape:', train_input_ids.shape)\n",
    "print('Train attention masks shape:', train_attention_masks.shape)\n",
    "print('Train token type IDs shape:', train_token_type_ids.shape)\n",
    "print('Train labels shape:', train_labels.shape)\n",
    "\n",
    "print('Test input IDs shape:', test_input_ids.shape)\n",
    "print('Test attention masks shape:', test_attention_masks.shape)\n",
    "print('Test token type IDs shape:', test_token_type_ids.shape)\n",
    "print('Test labels shape:', test_labels.shape)"
   ]
  },
  {
   "cell_type": "code",
   "execution_count": 32,
   "id": "7eb9c471",
   "metadata": {},
   "outputs": [],
   "source": [
    "import numpy as np\n",
    "from tensorflow.python.ops.numpy_ops import np_config\n",
    "np_config.enable_numpy_behavior()\n",
    "\n",
    "\n",
    "# Convert input features to float32\n",
    "train_input_ids_train = train_input_ids.astype(np.float32)\n",
    "train_attention_masks_train = train_attention_masks.astype(np.float32)\n",
    "train_attention_type_train = train_token_type_ids.astype(np.float32)\n",
    "\n",
    "# Convert output features to float32\n",
    "test_input_ids_test = test_input_ids.astype(np.float32)\n",
    "test_attention_masks_test = test_attention_masks.astype(np.float32)\n",
    "test_token_type_ids_test = test_token_type_ids.astype(np.float32)\n"
   ]
  },
  {
   "cell_type": "code",
   "execution_count": 33,
   "id": "352fae00",
   "metadata": {},
   "outputs": [
    {
     "name": "stdout",
     "output_type": "stream",
     "text": [
      "Train input IDs shape: (19, 16)\n",
      "Train attention masks shape: (19, 16)\n",
      "Train token type IDs shape: (19, 16)\n",
      "Train labels shape: (19,)\n",
      "Test input IDs shape: (5, 16)\n",
      "Test attention masks shape: (5, 16)\n",
      "Test token type IDs shape: (5, 16)\n",
      "Test labels shape: (5,)\n"
     ]
    }
   ],
   "source": [
    "# Print the shapes of the input tensors\n",
    "print('Train input IDs shape:', train_input_ids_train.shape)\n",
    "print('Train attention masks shape:', train_attention_masks_train.shape)\n",
    "print('Train token type IDs shape:', train_attention_type_train.shape)\n",
    "print('Train labels shape:', train_labels.shape)\n",
    "\n",
    "print('Test input IDs shape:', test_input_ids_test.shape)\n",
    "print('Test attention masks shape:', test_attention_masks_test.shape)\n",
    "print('Test token type IDs shape:', test_token_type_ids_test.shape)\n",
    "print('Test labels shape:', test_labels.shape)"
   ]
  },
  {
   "cell_type": "code",
   "execution_count": 34,
   "id": "07503d33",
   "metadata": {},
   "outputs": [
    {
     "data": {
      "text/plain": [
       "<tensorflow.python.checkpoint.checkpoint.CheckpointLoadStatus at 0x7fc4009bf880>"
      ]
     },
     "execution_count": 34,
     "metadata": {},
     "output_type": "execute_result"
    }
   ],
   "source": [
    "# Define the model architecture\n",
    "model = tf.keras.models.Sequential([\n",
    "    # ... add layers to the model here ...\n",
    "])\n",
    "\n",
    "# Create a Keras optimizer\n",
    "optimizer = tf.keras.optimizers.Adam(learning_rate=2e-5, epsilon=1e-08)\n",
    "\n",
    "# Compile the model\n",
    "model.compile(\n",
    "    optimizer=optimizer,\n",
    "    loss=tf.keras.losses.SparseCategoricalCrossentropy(from_logits=True), \n",
    "    metrics=[tf.keras.metrics.SparseCategoricalAccuracy(name='accuracy')]\n",
    ")\n",
    "\n",
    "\n",
    "# Save the model weights and optimizer state\n",
    "checkpoint_dir = '/home/rifat/miniconda3/Bio_ClinicalBERT'\n",
    "checkpoint_prefix = os.path.join(checkpoint_dir, 'ckpt')\n",
    "checkpoint = tf.train.Checkpoint(model=model, optimizer=optimizer)\n",
    "checkpoint.save(checkpoint_prefix)\n",
    "\n",
    "\n",
    "\n",
    "# Load the model weights and optimizer state from the checkpoint directory\n",
    "checkpoint = tf.train.Checkpoint(model=model, optimizer=optimizer)\n",
    "checkpoint.restore(tf.train.latest_checkpoint(checkpoint_dir))\n",
    "# # Test the restored model\n",
    "# test_loss, test_acc = model.evaluate([test_input_ids_test, test_attention_masks_test, test_token_type_ids_test], test_labels)\n",
    "# print(f'Test Loss: {test_loss}, Test Accuracy: {test_acc}')\n"
   ]
  },
  {
   "cell_type": "code",
   "execution_count": 35,
   "id": "347b5c90",
   "metadata": {},
   "outputs": [
    {
     "name": "stdout",
     "output_type": "stream",
     "text": [
      "Epoch 1/100\n",
      "WARNING:tensorflow:Layers in a Sequential model should only have a single input tensor. Received: inputs=(<tf.Tensor 'IteratorGetNext:0' shape=(None, 16) dtype=float32>, <tf.Tensor 'IteratorGetNext:1' shape=(None, 16) dtype=float32>, <tf.Tensor 'IteratorGetNext:2' shape=(None, 16) dtype=float32>). Consider rewriting this model with the Functional API.\n",
      "WARNING:tensorflow:Layers in a Sequential model should only have a single input tensor. Received: inputs=(<tf.Tensor 'IteratorGetNext:0' shape=(None, 16) dtype=float32>, <tf.Tensor 'IteratorGetNext:1' shape=(None, 16) dtype=float32>, <tf.Tensor 'IteratorGetNext:2' shape=(None, 16) dtype=float32>). Consider rewriting this model with the Functional API.\n",
      "1/2 [==============>...............] - ETA: 0s - loss: 20623.6973 - output_1_loss: 20617.5000 - output_2_loss: 2.7393 - output_3_loss: 3.4579 - output_1_accuracy: 0.0000e+00 - output_2_accuracy: 0.5000 - output_3_accuracy: 0.0000e+00WARNING:tensorflow:Layers in a Sequential model should only have a single input tensor. Received: inputs=(<tf.Tensor 'IteratorGetNext:0' shape=(None, 16) dtype=float32>, <tf.Tensor 'IteratorGetNext:1' shape=(None, 16) dtype=float32>, <tf.Tensor 'IteratorGetNext:2' shape=(None, 16) dtype=float32>). Consider rewriting this model with the Functional API.\n",
      "2/2 [==============================] - 1s 213ms/step - loss: 20802.3086 - output_1_loss: 20796.1055 - output_2_loss: 2.7424 - output_3_loss: 3.4621 - output_1_accuracy: 0.0000e+00 - output_2_accuracy: 0.4737 - output_3_accuracy: 0.0000e+00 - val_loss: 15746.1748 - val_output_1_loss: 15739.9395 - val_output_2_loss: 2.7561 - val_output_3_loss: 3.4802 - val_output_1_accuracy: 0.0000e+00 - val_output_2_accuracy: 0.6000 - val_output_3_accuracy: 0.0000e+00\n",
      "Epoch 2/100\n",
      "2/2 [==============================] - 0s 49ms/step - loss: 20802.3086 - output_1_loss: 20796.1055 - output_2_loss: 2.7424 - output_3_loss: 3.4621 - output_1_accuracy: 0.0000e+00 - output_2_accuracy: 0.4737 - output_3_accuracy: 0.0000e+00 - val_loss: 15746.1748 - val_output_1_loss: 15739.9395 - val_output_2_loss: 2.7561 - val_output_3_loss: 3.4802 - val_output_1_accuracy: 0.0000e+00 - val_output_2_accuracy: 0.6000 - val_output_3_accuracy: 0.0000e+00\n",
      "Epoch 3/100\n",
      "2/2 [==============================] - 0s 52ms/step - loss: 20802.3086 - output_1_loss: 20796.1055 - output_2_loss: 2.7424 - output_3_loss: 3.4621 - output_1_accuracy: 0.0000e+00 - output_2_accuracy: 0.4737 - output_3_accuracy: 0.0000e+00 - val_loss: 15746.1748 - val_output_1_loss: 15739.9395 - val_output_2_loss: 2.7561 - val_output_3_loss: 3.4802 - val_output_1_accuracy: 0.0000e+00 - val_output_2_accuracy: 0.6000 - val_output_3_accuracy: 0.0000e+00\n",
      "Epoch 4/100\n",
      "2/2 [==============================] - 0s 44ms/step - loss: 20802.3105 - output_1_loss: 20796.1055 - output_2_loss: 2.7424 - output_3_loss: 3.4621 - output_1_accuracy: 0.0000e+00 - output_2_accuracy: 0.4737 - output_3_accuracy: 0.0000e+00 - val_loss: 15746.1748 - val_output_1_loss: 15739.9395 - val_output_2_loss: 2.7561 - val_output_3_loss: 3.4802 - val_output_1_accuracy: 0.0000e+00 - val_output_2_accuracy: 0.6000 - val_output_3_accuracy: 0.0000e+00\n",
      "Epoch 5/100\n",
      "2/2 [==============================] - 0s 43ms/step - loss: 20802.3086 - output_1_loss: 20796.1055 - output_2_loss: 2.7424 - output_3_loss: 3.4621 - output_1_accuracy: 0.0000e+00 - output_2_accuracy: 0.4737 - output_3_accuracy: 0.0000e+00 - val_loss: 15746.1748 - val_output_1_loss: 15739.9395 - val_output_2_loss: 2.7561 - val_output_3_loss: 3.4802 - val_output_1_accuracy: 0.0000e+00 - val_output_2_accuracy: 0.6000 - val_output_3_accuracy: 0.0000e+00\n",
      "Epoch 6/100\n",
      "2/2 [==============================] - 0s 54ms/step - loss: 20802.3086 - output_1_loss: 20796.1055 - output_2_loss: 2.7424 - output_3_loss: 3.4621 - output_1_accuracy: 0.0000e+00 - output_2_accuracy: 0.4737 - output_3_accuracy: 0.0000e+00 - val_loss: 15746.1748 - val_output_1_loss: 15739.9395 - val_output_2_loss: 2.7561 - val_output_3_loss: 3.4802 - val_output_1_accuracy: 0.0000e+00 - val_output_2_accuracy: 0.6000 - val_output_3_accuracy: 0.0000e+00\n",
      "Epoch 7/100\n",
      "2/2 [==============================] - 0s 41ms/step - loss: 20802.3086 - output_1_loss: 20796.1055 - output_2_loss: 2.7424 - output_3_loss: 3.4621 - output_1_accuracy: 0.0000e+00 - output_2_accuracy: 0.4737 - output_3_accuracy: 0.0000e+00 - val_loss: 15746.1748 - val_output_1_loss: 15739.9395 - val_output_2_loss: 2.7561 - val_output_3_loss: 3.4802 - val_output_1_accuracy: 0.0000e+00 - val_output_2_accuracy: 0.6000 - val_output_3_accuracy: 0.0000e+00\n",
      "Epoch 8/100\n",
      "2/2 [==============================] - 0s 47ms/step - loss: 20802.3086 - output_1_loss: 20796.1055 - output_2_loss: 2.7424 - output_3_loss: 3.4621 - output_1_accuracy: 0.0000e+00 - output_2_accuracy: 0.4737 - output_3_accuracy: 0.0000e+00 - val_loss: 15746.1748 - val_output_1_loss: 15739.9395 - val_output_2_loss: 2.7561 - val_output_3_loss: 3.4802 - val_output_1_accuracy: 0.0000e+00 - val_output_2_accuracy: 0.6000 - val_output_3_accuracy: 0.0000e+00\n",
      "Epoch 9/100\n",
      "2/2 [==============================] - 0s 55ms/step - loss: 20802.3086 - output_1_loss: 20796.1055 - output_2_loss: 2.7424 - output_3_loss: 3.4621 - output_1_accuracy: 0.0000e+00 - output_2_accuracy: 0.4737 - output_3_accuracy: 0.0000e+00 - val_loss: 15746.1748 - val_output_1_loss: 15739.9395 - val_output_2_loss: 2.7561 - val_output_3_loss: 3.4802 - val_output_1_accuracy: 0.0000e+00 - val_output_2_accuracy: 0.6000 - val_output_3_accuracy: 0.0000e+00\n",
      "Epoch 10/100\n",
      "2/2 [==============================] - 0s 53ms/step - loss: 20802.3086 - output_1_loss: 20796.1055 - output_2_loss: 2.7424 - output_3_loss: 3.4621 - output_1_accuracy: 0.0000e+00 - output_2_accuracy: 0.4737 - output_3_accuracy: 0.0000e+00 - val_loss: 15746.1748 - val_output_1_loss: 15739.9395 - val_output_2_loss: 2.7561 - val_output_3_loss: 3.4802 - val_output_1_accuracy: 0.0000e+00 - val_output_2_accuracy: 0.6000 - val_output_3_accuracy: 0.0000e+00\n",
      "Epoch 11/100\n",
      "2/2 [==============================] - 0s 44ms/step - loss: 20802.3086 - output_1_loss: 20796.1055 - output_2_loss: 2.7424 - output_3_loss: 3.4621 - output_1_accuracy: 0.0000e+00 - output_2_accuracy: 0.4737 - output_3_accuracy: 0.0000e+00 - val_loss: 15746.1748 - val_output_1_loss: 15739.9395 - val_output_2_loss: 2.7561 - val_output_3_loss: 3.4802 - val_output_1_accuracy: 0.0000e+00 - val_output_2_accuracy: 0.6000 - val_output_3_accuracy: 0.0000e+00\n",
      "Epoch 12/100\n",
      "2/2 [==============================] - 0s 50ms/step - loss: 20802.3086 - output_1_loss: 20796.1055 - output_2_loss: 2.7424 - output_3_loss: 3.4621 - output_1_accuracy: 0.0000e+00 - output_2_accuracy: 0.4737 - output_3_accuracy: 0.0000e+00 - val_loss: 15746.1748 - val_output_1_loss: 15739.9395 - val_output_2_loss: 2.7561 - val_output_3_loss: 3.4802 - val_output_1_accuracy: 0.0000e+00 - val_output_2_accuracy: 0.6000 - val_output_3_accuracy: 0.0000e+00\n",
      "Epoch 13/100\n",
      "2/2 [==============================] - 0s 53ms/step - loss: 20802.3105 - output_1_loss: 20796.1055 - output_2_loss: 2.7424 - output_3_loss: 3.4621 - output_1_accuracy: 0.0000e+00 - output_2_accuracy: 0.4737 - output_3_accuracy: 0.0000e+00 - val_loss: 15746.1748 - val_output_1_loss: 15739.9395 - val_output_2_loss: 2.7561 - val_output_3_loss: 3.4802 - val_output_1_accuracy: 0.0000e+00 - val_output_2_accuracy: 0.6000 - val_output_3_accuracy: 0.0000e+00\n",
      "Epoch 14/100\n",
      "2/2 [==============================] - 0s 48ms/step - loss: 20802.3086 - output_1_loss: 20796.1055 - output_2_loss: 2.7424 - output_3_loss: 3.4621 - output_1_accuracy: 0.0000e+00 - output_2_accuracy: 0.4737 - output_3_accuracy: 0.0000e+00 - val_loss: 15746.1748 - val_output_1_loss: 15739.9395 - val_output_2_loss: 2.7561 - val_output_3_loss: 3.4802 - val_output_1_accuracy: 0.0000e+00 - val_output_2_accuracy: 0.6000 - val_output_3_accuracy: 0.0000e+00\n",
      "Epoch 15/100\n",
      "2/2 [==============================] - 0s 49ms/step - loss: 20802.3086 - output_1_loss: 20796.1055 - output_2_loss: 2.7424 - output_3_loss: 3.4621 - output_1_accuracy: 0.0000e+00 - output_2_accuracy: 0.4737 - output_3_accuracy: 0.0000e+00 - val_loss: 15746.1748 - val_output_1_loss: 15739.9395 - val_output_2_loss: 2.7561 - val_output_3_loss: 3.4802 - val_output_1_accuracy: 0.0000e+00 - val_output_2_accuracy: 0.6000 - val_output_3_accuracy: 0.0000e+00\n",
      "Epoch 16/100\n",
      "2/2 [==============================] - 0s 50ms/step - loss: 20802.3086 - output_1_loss: 20796.1055 - output_2_loss: 2.7424 - output_3_loss: 3.4621 - output_1_accuracy: 0.0000e+00 - output_2_accuracy: 0.4737 - output_3_accuracy: 0.0000e+00 - val_loss: 15746.1748 - val_output_1_loss: 15739.9395 - val_output_2_loss: 2.7561 - val_output_3_loss: 3.4802 - val_output_1_accuracy: 0.0000e+00 - val_output_2_accuracy: 0.6000 - val_output_3_accuracy: 0.0000e+00\n",
      "Epoch 17/100\n",
      "2/2 [==============================] - 0s 51ms/step - loss: 20802.3086 - output_1_loss: 20796.1055 - output_2_loss: 2.7424 - output_3_loss: 3.4621 - output_1_accuracy: 0.0000e+00 - output_2_accuracy: 0.4737 - output_3_accuracy: 0.0000e+00 - val_loss: 15746.1748 - val_output_1_loss: 15739.9395 - val_output_2_loss: 2.7561 - val_output_3_loss: 3.4802 - val_output_1_accuracy: 0.0000e+00 - val_output_2_accuracy: 0.6000 - val_output_3_accuracy: 0.0000e+00\n",
      "Epoch 18/100\n",
      "2/2 [==============================] - 0s 50ms/step - loss: 20802.3105 - output_1_loss: 20796.1055 - output_2_loss: 2.7424 - output_3_loss: 3.4621 - output_1_accuracy: 0.0000e+00 - output_2_accuracy: 0.4737 - output_3_accuracy: 0.0000e+00 - val_loss: 15746.1748 - val_output_1_loss: 15739.9395 - val_output_2_loss: 2.7561 - val_output_3_loss: 3.4802 - val_output_1_accuracy: 0.0000e+00 - val_output_2_accuracy: 0.6000 - val_output_3_accuracy: 0.0000e+00\n",
      "Epoch 19/100\n",
      "2/2 [==============================] - 0s 49ms/step - loss: 20802.3105 - output_1_loss: 20796.1055 - output_2_loss: 2.7424 - output_3_loss: 3.4621 - output_1_accuracy: 0.0000e+00 - output_2_accuracy: 0.4737 - output_3_accuracy: 0.0000e+00 - val_loss: 15746.1748 - val_output_1_loss: 15739.9395 - val_output_2_loss: 2.7561 - val_output_3_loss: 3.4802 - val_output_1_accuracy: 0.0000e+00 - val_output_2_accuracy: 0.6000 - val_output_3_accuracy: 0.0000e+00\n",
      "Epoch 20/100\n",
      "2/2 [==============================] - 0s 51ms/step - loss: 20802.3086 - output_1_loss: 20796.1055 - output_2_loss: 2.7424 - output_3_loss: 3.4621 - output_1_accuracy: 0.0000e+00 - output_2_accuracy: 0.4737 - output_3_accuracy: 0.0000e+00 - val_loss: 15746.1748 - val_output_1_loss: 15739.9395 - val_output_2_loss: 2.7561 - val_output_3_loss: 3.4802 - val_output_1_accuracy: 0.0000e+00 - val_output_2_accuracy: 0.6000 - val_output_3_accuracy: 0.0000e+00\n",
      "Epoch 21/100\n",
      "2/2 [==============================] - 0s 49ms/step - loss: 20802.3086 - output_1_loss: 20796.1055 - output_2_loss: 2.7424 - output_3_loss: 3.4621 - output_1_accuracy: 0.0000e+00 - output_2_accuracy: 0.4737 - output_3_accuracy: 0.0000e+00 - val_loss: 15746.1748 - val_output_1_loss: 15739.9395 - val_output_2_loss: 2.7561 - val_output_3_loss: 3.4802 - val_output_1_accuracy: 0.0000e+00 - val_output_2_accuracy: 0.6000 - val_output_3_accuracy: 0.0000e+00\n",
      "Epoch 22/100\n",
      "2/2 [==============================] - 0s 51ms/step - loss: 20802.3086 - output_1_loss: 20796.1055 - output_2_loss: 2.7424 - output_3_loss: 3.4621 - output_1_accuracy: 0.0000e+00 - output_2_accuracy: 0.4737 - output_3_accuracy: 0.0000e+00 - val_loss: 15746.1748 - val_output_1_loss: 15739.9395 - val_output_2_loss: 2.7561 - val_output_3_loss: 3.4802 - val_output_1_accuracy: 0.0000e+00 - val_output_2_accuracy: 0.6000 - val_output_3_accuracy: 0.0000e+00\n",
      "Epoch 23/100\n",
      "2/2 [==============================] - 0s 51ms/step - loss: 20802.3086 - output_1_loss: 20796.1055 - output_2_loss: 2.7424 - output_3_loss: 3.4621 - output_1_accuracy: 0.0000e+00 - output_2_accuracy: 0.4737 - output_3_accuracy: 0.0000e+00 - val_loss: 15746.1748 - val_output_1_loss: 15739.9395 - val_output_2_loss: 2.7561 - val_output_3_loss: 3.4802 - val_output_1_accuracy: 0.0000e+00 - val_output_2_accuracy: 0.6000 - val_output_3_accuracy: 0.0000e+00\n",
      "Epoch 24/100\n",
      "2/2 [==============================] - 0s 51ms/step - loss: 20802.3105 - output_1_loss: 20796.1055 - output_2_loss: 2.7424 - output_3_loss: 3.4621 - output_1_accuracy: 0.0000e+00 - output_2_accuracy: 0.4737 - output_3_accuracy: 0.0000e+00 - val_loss: 15746.1748 - val_output_1_loss: 15739.9395 - val_output_2_loss: 2.7561 - val_output_3_loss: 3.4802 - val_output_1_accuracy: 0.0000e+00 - val_output_2_accuracy: 0.6000 - val_output_3_accuracy: 0.0000e+00\n",
      "Epoch 25/100\n",
      "2/2 [==============================] - 0s 47ms/step - loss: 20802.3105 - output_1_loss: 20796.1055 - output_2_loss: 2.7424 - output_3_loss: 3.4621 - output_1_accuracy: 0.0000e+00 - output_2_accuracy: 0.4737 - output_3_accuracy: 0.0000e+00 - val_loss: 15746.1748 - val_output_1_loss: 15739.9395 - val_output_2_loss: 2.7561 - val_output_3_loss: 3.4802 - val_output_1_accuracy: 0.0000e+00 - val_output_2_accuracy: 0.6000 - val_output_3_accuracy: 0.0000e+00\n",
      "Epoch 26/100\n",
      "2/2 [==============================] - 0s 51ms/step - loss: 20802.3086 - output_1_loss: 20796.1055 - output_2_loss: 2.7424 - output_3_loss: 3.4621 - output_1_accuracy: 0.0000e+00 - output_2_accuracy: 0.4737 - output_3_accuracy: 0.0000e+00 - val_loss: 15746.1748 - val_output_1_loss: 15739.9395 - val_output_2_loss: 2.7561 - val_output_3_loss: 3.4802 - val_output_1_accuracy: 0.0000e+00 - val_output_2_accuracy: 0.6000 - val_output_3_accuracy: 0.0000e+00\n",
      "Epoch 27/100\n",
      "2/2 [==============================] - 0s 60ms/step - loss: 20802.3086 - output_1_loss: 20796.1055 - output_2_loss: 2.7424 - output_3_loss: 3.4621 - output_1_accuracy: 0.0000e+00 - output_2_accuracy: 0.4737 - output_3_accuracy: 0.0000e+00 - val_loss: 15746.1748 - val_output_1_loss: 15739.9395 - val_output_2_loss: 2.7561 - val_output_3_loss: 3.4802 - val_output_1_accuracy: 0.0000e+00 - val_output_2_accuracy: 0.6000 - val_output_3_accuracy: 0.0000e+00\n",
      "Epoch 28/100\n",
      "2/2 [==============================] - 0s 60ms/step - loss: 20802.3105 - output_1_loss: 20796.1055 - output_2_loss: 2.7424 - output_3_loss: 3.4621 - output_1_accuracy: 0.0000e+00 - output_2_accuracy: 0.4737 - output_3_accuracy: 0.0000e+00 - val_loss: 15746.1748 - val_output_1_loss: 15739.9395 - val_output_2_loss: 2.7561 - val_output_3_loss: 3.4802 - val_output_1_accuracy: 0.0000e+00 - val_output_2_accuracy: 0.6000 - val_output_3_accuracy: 0.0000e+00\n",
      "Epoch 29/100\n",
      "2/2 [==============================] - 0s 49ms/step - loss: 20802.3086 - output_1_loss: 20796.1055 - output_2_loss: 2.7424 - output_3_loss: 3.4621 - output_1_accuracy: 0.0000e+00 - output_2_accuracy: 0.4737 - output_3_accuracy: 0.0000e+00 - val_loss: 15746.1748 - val_output_1_loss: 15739.9395 - val_output_2_loss: 2.7561 - val_output_3_loss: 3.4802 - val_output_1_accuracy: 0.0000e+00 - val_output_2_accuracy: 0.6000 - val_output_3_accuracy: 0.0000e+00\n",
      "Epoch 30/100\n",
      "2/2 [==============================] - 0s 48ms/step - loss: 20802.3086 - output_1_loss: 20796.1055 - output_2_loss: 2.7424 - output_3_loss: 3.4621 - output_1_accuracy: 0.0000e+00 - output_2_accuracy: 0.4737 - output_3_accuracy: 0.0000e+00 - val_loss: 15746.1748 - val_output_1_loss: 15739.9395 - val_output_2_loss: 2.7561 - val_output_3_loss: 3.4802 - val_output_1_accuracy: 0.0000e+00 - val_output_2_accuracy: 0.6000 - val_output_3_accuracy: 0.0000e+00\n",
      "Epoch 31/100\n",
      "2/2 [==============================] - 0s 50ms/step - loss: 20802.3086 - output_1_loss: 20796.1055 - output_2_loss: 2.7424 - output_3_loss: 3.4621 - output_1_accuracy: 0.0000e+00 - output_2_accuracy: 0.4737 - output_3_accuracy: 0.0000e+00 - val_loss: 15746.1748 - val_output_1_loss: 15739.9395 - val_output_2_loss: 2.7561 - val_output_3_loss: 3.4802 - val_output_1_accuracy: 0.0000e+00 - val_output_2_accuracy: 0.6000 - val_output_3_accuracy: 0.0000e+00\n",
      "Epoch 32/100\n",
      "2/2 [==============================] - 0s 51ms/step - loss: 20802.3086 - output_1_loss: 20796.1055 - output_2_loss: 2.7424 - output_3_loss: 3.4621 - output_1_accuracy: 0.0000e+00 - output_2_accuracy: 0.4737 - output_3_accuracy: 0.0000e+00 - val_loss: 15746.1748 - val_output_1_loss: 15739.9395 - val_output_2_loss: 2.7561 - val_output_3_loss: 3.4802 - val_output_1_accuracy: 0.0000e+00 - val_output_2_accuracy: 0.6000 - val_output_3_accuracy: 0.0000e+00\n",
      "Epoch 33/100\n",
      "2/2 [==============================] - 0s 46ms/step - loss: 20802.3086 - output_1_loss: 20796.1055 - output_2_loss: 2.7424 - output_3_loss: 3.4621 - output_1_accuracy: 0.0000e+00 - output_2_accuracy: 0.4737 - output_3_accuracy: 0.0000e+00 - val_loss: 15746.1748 - val_output_1_loss: 15739.9395 - val_output_2_loss: 2.7561 - val_output_3_loss: 3.4802 - val_output_1_accuracy: 0.0000e+00 - val_output_2_accuracy: 0.6000 - val_output_3_accuracy: 0.0000e+00\n",
      "Epoch 34/100\n",
      "2/2 [==============================] - 0s 46ms/step - loss: 20802.3086 - output_1_loss: 20796.1055 - output_2_loss: 2.7424 - output_3_loss: 3.4621 - output_1_accuracy: 0.0000e+00 - output_2_accuracy: 0.4737 - output_3_accuracy: 0.0000e+00 - val_loss: 15746.1748 - val_output_1_loss: 15739.9395 - val_output_2_loss: 2.7561 - val_output_3_loss: 3.4802 - val_output_1_accuracy: 0.0000e+00 - val_output_2_accuracy: 0.6000 - val_output_3_accuracy: 0.0000e+00\n",
      "Epoch 35/100\n",
      "2/2 [==============================] - 0s 49ms/step - loss: 20802.3086 - output_1_loss: 20796.1055 - output_2_loss: 2.7424 - output_3_loss: 3.4621 - output_1_accuracy: 0.0000e+00 - output_2_accuracy: 0.4737 - output_3_accuracy: 0.0000e+00 - val_loss: 15746.1748 - val_output_1_loss: 15739.9395 - val_output_2_loss: 2.7561 - val_output_3_loss: 3.4802 - val_output_1_accuracy: 0.0000e+00 - val_output_2_accuracy: 0.6000 - val_output_3_accuracy: 0.0000e+00\n",
      "Epoch 36/100\n",
      "2/2 [==============================] - 0s 49ms/step - loss: 20802.3105 - output_1_loss: 20796.1055 - output_2_loss: 2.7424 - output_3_loss: 3.4621 - output_1_accuracy: 0.0000e+00 - output_2_accuracy: 0.4737 - output_3_accuracy: 0.0000e+00 - val_loss: 15746.1748 - val_output_1_loss: 15739.9395 - val_output_2_loss: 2.7561 - val_output_3_loss: 3.4802 - val_output_1_accuracy: 0.0000e+00 - val_output_2_accuracy: 0.6000 - val_output_3_accuracy: 0.0000e+00\n",
      "Epoch 37/100\n",
      "2/2 [==============================] - 0s 48ms/step - loss: 20802.3086 - output_1_loss: 20796.1055 - output_2_loss: 2.7424 - output_3_loss: 3.4621 - output_1_accuracy: 0.0000e+00 - output_2_accuracy: 0.4737 - output_3_accuracy: 0.0000e+00 - val_loss: 15746.1748 - val_output_1_loss: 15739.9395 - val_output_2_loss: 2.7561 - val_output_3_loss: 3.4802 - val_output_1_accuracy: 0.0000e+00 - val_output_2_accuracy: 0.6000 - val_output_3_accuracy: 0.0000e+00\n",
      "Epoch 38/100\n",
      "2/2 [==============================] - 0s 49ms/step - loss: 20802.3086 - output_1_loss: 20796.1055 - output_2_loss: 2.7424 - output_3_loss: 3.4621 - output_1_accuracy: 0.0000e+00 - output_2_accuracy: 0.4737 - output_3_accuracy: 0.0000e+00 - val_loss: 15746.1748 - val_output_1_loss: 15739.9395 - val_output_2_loss: 2.7561 - val_output_3_loss: 3.4802 - val_output_1_accuracy: 0.0000e+00 - val_output_2_accuracy: 0.6000 - val_output_3_accuracy: 0.0000e+00\n",
      "Epoch 39/100\n",
      "2/2 [==============================] - 0s 49ms/step - loss: 20802.3105 - output_1_loss: 20796.1055 - output_2_loss: 2.7424 - output_3_loss: 3.4621 - output_1_accuracy: 0.0000e+00 - output_2_accuracy: 0.4737 - output_3_accuracy: 0.0000e+00 - val_loss: 15746.1748 - val_output_1_loss: 15739.9395 - val_output_2_loss: 2.7561 - val_output_3_loss: 3.4802 - val_output_1_accuracy: 0.0000e+00 - val_output_2_accuracy: 0.6000 - val_output_3_accuracy: 0.0000e+00\n",
      "Epoch 40/100\n",
      "2/2 [==============================] - 0s 49ms/step - loss: 20802.3086 - output_1_loss: 20796.1055 - output_2_loss: 2.7424 - output_3_loss: 3.4621 - output_1_accuracy: 0.0000e+00 - output_2_accuracy: 0.4737 - output_3_accuracy: 0.0000e+00 - val_loss: 15746.1748 - val_output_1_loss: 15739.9395 - val_output_2_loss: 2.7561 - val_output_3_loss: 3.4802 - val_output_1_accuracy: 0.0000e+00 - val_output_2_accuracy: 0.6000 - val_output_3_accuracy: 0.0000e+00\n",
      "Epoch 41/100\n",
      "2/2 [==============================] - 0s 48ms/step - loss: 20802.3086 - output_1_loss: 20796.1055 - output_2_loss: 2.7424 - output_3_loss: 3.4621 - output_1_accuracy: 0.0000e+00 - output_2_accuracy: 0.4737 - output_3_accuracy: 0.0000e+00 - val_loss: 15746.1748 - val_output_1_loss: 15739.9395 - val_output_2_loss: 2.7561 - val_output_3_loss: 3.4802 - val_output_1_accuracy: 0.0000e+00 - val_output_2_accuracy: 0.6000 - val_output_3_accuracy: 0.0000e+00\n",
      "Epoch 42/100\n",
      "2/2 [==============================] - 0s 51ms/step - loss: 20802.3086 - output_1_loss: 20796.1055 - output_2_loss: 2.7424 - output_3_loss: 3.4621 - output_1_accuracy: 0.0000e+00 - output_2_accuracy: 0.4737 - output_3_accuracy: 0.0000e+00 - val_loss: 15746.1748 - val_output_1_loss: 15739.9395 - val_output_2_loss: 2.7561 - val_output_3_loss: 3.4802 - val_output_1_accuracy: 0.0000e+00 - val_output_2_accuracy: 0.6000 - val_output_3_accuracy: 0.0000e+00\n",
      "Epoch 43/100\n",
      "2/2 [==============================] - 0s 48ms/step - loss: 20802.3086 - output_1_loss: 20796.1055 - output_2_loss: 2.7424 - output_3_loss: 3.4621 - output_1_accuracy: 0.0000e+00 - output_2_accuracy: 0.4737 - output_3_accuracy: 0.0000e+00 - val_loss: 15746.1748 - val_output_1_loss: 15739.9395 - val_output_2_loss: 2.7561 - val_output_3_loss: 3.4802 - val_output_1_accuracy: 0.0000e+00 - val_output_2_accuracy: 0.6000 - val_output_3_accuracy: 0.0000e+00\n",
      "Epoch 44/100\n",
      "2/2 [==============================] - 0s 49ms/step - loss: 20802.3086 - output_1_loss: 20796.1055 - output_2_loss: 2.7424 - output_3_loss: 3.4621 - output_1_accuracy: 0.0000e+00 - output_2_accuracy: 0.4737 - output_3_accuracy: 0.0000e+00 - val_loss: 15746.1748 - val_output_1_loss: 15739.9395 - val_output_2_loss: 2.7561 - val_output_3_loss: 3.4802 - val_output_1_accuracy: 0.0000e+00 - val_output_2_accuracy: 0.6000 - val_output_3_accuracy: 0.0000e+00\n",
      "Epoch 45/100\n",
      "2/2 [==============================] - 0s 48ms/step - loss: 20802.3086 - output_1_loss: 20796.1055 - output_2_loss: 2.7424 - output_3_loss: 3.4621 - output_1_accuracy: 0.0000e+00 - output_2_accuracy: 0.4737 - output_3_accuracy: 0.0000e+00 - val_loss: 15746.1748 - val_output_1_loss: 15739.9395 - val_output_2_loss: 2.7561 - val_output_3_loss: 3.4802 - val_output_1_accuracy: 0.0000e+00 - val_output_2_accuracy: 0.6000 - val_output_3_accuracy: 0.0000e+00\n",
      "Epoch 46/100\n",
      "2/2 [==============================] - 0s 47ms/step - loss: 20802.3105 - output_1_loss: 20796.1055 - output_2_loss: 2.7424 - output_3_loss: 3.4621 - output_1_accuracy: 0.0000e+00 - output_2_accuracy: 0.4737 - output_3_accuracy: 0.0000e+00 - val_loss: 15746.1748 - val_output_1_loss: 15739.9395 - val_output_2_loss: 2.7561 - val_output_3_loss: 3.4802 - val_output_1_accuracy: 0.0000e+00 - val_output_2_accuracy: 0.6000 - val_output_3_accuracy: 0.0000e+00\n",
      "Epoch 47/100\n",
      "2/2 [==============================] - 0s 49ms/step - loss: 20802.3086 - output_1_loss: 20796.1055 - output_2_loss: 2.7424 - output_3_loss: 3.4621 - output_1_accuracy: 0.0000e+00 - output_2_accuracy: 0.4737 - output_3_accuracy: 0.0000e+00 - val_loss: 15746.1748 - val_output_1_loss: 15739.9395 - val_output_2_loss: 2.7561 - val_output_3_loss: 3.4802 - val_output_1_accuracy: 0.0000e+00 - val_output_2_accuracy: 0.6000 - val_output_3_accuracy: 0.0000e+00\n",
      "Epoch 48/100\n",
      "2/2 [==============================] - 0s 63ms/step - loss: 20802.3086 - output_1_loss: 20796.1055 - output_2_loss: 2.7424 - output_3_loss: 3.4621 - output_1_accuracy: 0.0000e+00 - output_2_accuracy: 0.4737 - output_3_accuracy: 0.0000e+00 - val_loss: 15746.1748 - val_output_1_loss: 15739.9395 - val_output_2_loss: 2.7561 - val_output_3_loss: 3.4802 - val_output_1_accuracy: 0.0000e+00 - val_output_2_accuracy: 0.6000 - val_output_3_accuracy: 0.0000e+00\n",
      "Epoch 49/100\n",
      "2/2 [==============================] - 0s 47ms/step - loss: 20802.3086 - output_1_loss: 20796.1055 - output_2_loss: 2.7424 - output_3_loss: 3.4621 - output_1_accuracy: 0.0000e+00 - output_2_accuracy: 0.4737 - output_3_accuracy: 0.0000e+00 - val_loss: 15746.1748 - val_output_1_loss: 15739.9395 - val_output_2_loss: 2.7561 - val_output_3_loss: 3.4802 - val_output_1_accuracy: 0.0000e+00 - val_output_2_accuracy: 0.6000 - val_output_3_accuracy: 0.0000e+00\n",
      "Epoch 50/100\n",
      "2/2 [==============================] - 0s 49ms/step - loss: 20802.3105 - output_1_loss: 20796.1055 - output_2_loss: 2.7424 - output_3_loss: 3.4621 - output_1_accuracy: 0.0000e+00 - output_2_accuracy: 0.4737 - output_3_accuracy: 0.0000e+00 - val_loss: 15746.1748 - val_output_1_loss: 15739.9395 - val_output_2_loss: 2.7561 - val_output_3_loss: 3.4802 - val_output_1_accuracy: 0.0000e+00 - val_output_2_accuracy: 0.6000 - val_output_3_accuracy: 0.0000e+00\n",
      "Epoch 51/100\n",
      "2/2 [==============================] - 0s 45ms/step - loss: 20802.3086 - output_1_loss: 20796.1055 - output_2_loss: 2.7424 - output_3_loss: 3.4621 - output_1_accuracy: 0.0000e+00 - output_2_accuracy: 0.4737 - output_3_accuracy: 0.0000e+00 - val_loss: 15746.1748 - val_output_1_loss: 15739.9395 - val_output_2_loss: 2.7561 - val_output_3_loss: 3.4802 - val_output_1_accuracy: 0.0000e+00 - val_output_2_accuracy: 0.6000 - val_output_3_accuracy: 0.0000e+00\n",
      "Epoch 52/100\n",
      "2/2 [==============================] - 0s 64ms/step - loss: 20802.3086 - output_1_loss: 20796.1055 - output_2_loss: 2.7424 - output_3_loss: 3.4621 - output_1_accuracy: 0.0000e+00 - output_2_accuracy: 0.4737 - output_3_accuracy: 0.0000e+00 - val_loss: 15746.1748 - val_output_1_loss: 15739.9395 - val_output_2_loss: 2.7561 - val_output_3_loss: 3.4802 - val_output_1_accuracy: 0.0000e+00 - val_output_2_accuracy: 0.6000 - val_output_3_accuracy: 0.0000e+00\n",
      "Epoch 53/100\n",
      "2/2 [==============================] - 0s 53ms/step - loss: 20802.3086 - output_1_loss: 20796.1055 - output_2_loss: 2.7424 - output_3_loss: 3.4621 - output_1_accuracy: 0.0000e+00 - output_2_accuracy: 0.4737 - output_3_accuracy: 0.0000e+00 - val_loss: 15746.1748 - val_output_1_loss: 15739.9395 - val_output_2_loss: 2.7561 - val_output_3_loss: 3.4802 - val_output_1_accuracy: 0.0000e+00 - val_output_2_accuracy: 0.6000 - val_output_3_accuracy: 0.0000e+00\n",
      "Epoch 54/100\n",
      "2/2 [==============================] - 0s 50ms/step - loss: 20802.3086 - output_1_loss: 20796.1055 - output_2_loss: 2.7424 - output_3_loss: 3.4621 - output_1_accuracy: 0.0000e+00 - output_2_accuracy: 0.4737 - output_3_accuracy: 0.0000e+00 - val_loss: 15746.1748 - val_output_1_loss: 15739.9395 - val_output_2_loss: 2.7561 - val_output_3_loss: 3.4802 - val_output_1_accuracy: 0.0000e+00 - val_output_2_accuracy: 0.6000 - val_output_3_accuracy: 0.0000e+00\n",
      "Epoch 55/100\n",
      "2/2 [==============================] - 0s 50ms/step - loss: 20802.3105 - output_1_loss: 20796.1055 - output_2_loss: 2.7424 - output_3_loss: 3.4621 - output_1_accuracy: 0.0000e+00 - output_2_accuracy: 0.4737 - output_3_accuracy: 0.0000e+00 - val_loss: 15746.1748 - val_output_1_loss: 15739.9395 - val_output_2_loss: 2.7561 - val_output_3_loss: 3.4802 - val_output_1_accuracy: 0.0000e+00 - val_output_2_accuracy: 0.6000 - val_output_3_accuracy: 0.0000e+00\n",
      "Epoch 56/100\n",
      "2/2 [==============================] - 0s 52ms/step - loss: 20802.3086 - output_1_loss: 20796.1055 - output_2_loss: 2.7424 - output_3_loss: 3.4621 - output_1_accuracy: 0.0000e+00 - output_2_accuracy: 0.4737 - output_3_accuracy: 0.0000e+00 - val_loss: 15746.1748 - val_output_1_loss: 15739.9395 - val_output_2_loss: 2.7561 - val_output_3_loss: 3.4802 - val_output_1_accuracy: 0.0000e+00 - val_output_2_accuracy: 0.6000 - val_output_3_accuracy: 0.0000e+00\n",
      "Epoch 57/100\n",
      "2/2 [==============================] - 0s 75ms/step - loss: 20802.3086 - output_1_loss: 20796.1055 - output_2_loss: 2.7424 - output_3_loss: 3.4621 - output_1_accuracy: 0.0000e+00 - output_2_accuracy: 0.4737 - output_3_accuracy: 0.0000e+00 - val_loss: 15746.1748 - val_output_1_loss: 15739.9395 - val_output_2_loss: 2.7561 - val_output_3_loss: 3.4802 - val_output_1_accuracy: 0.0000e+00 - val_output_2_accuracy: 0.6000 - val_output_3_accuracy: 0.0000e+00\n",
      "Epoch 58/100\n",
      "2/2 [==============================] - 0s 67ms/step - loss: 20802.3086 - output_1_loss: 20796.1055 - output_2_loss: 2.7424 - output_3_loss: 3.4621 - output_1_accuracy: 0.0000e+00 - output_2_accuracy: 0.4737 - output_3_accuracy: 0.0000e+00 - val_loss: 15746.1748 - val_output_1_loss: 15739.9395 - val_output_2_loss: 2.7561 - val_output_3_loss: 3.4802 - val_output_1_accuracy: 0.0000e+00 - val_output_2_accuracy: 0.6000 - val_output_3_accuracy: 0.0000e+00\n",
      "Epoch 59/100\n",
      "2/2 [==============================] - 0s 60ms/step - loss: 20802.3086 - output_1_loss: 20796.1055 - output_2_loss: 2.7424 - output_3_loss: 3.4621 - output_1_accuracy: 0.0000e+00 - output_2_accuracy: 0.4737 - output_3_accuracy: 0.0000e+00 - val_loss: 15746.1748 - val_output_1_loss: 15739.9395 - val_output_2_loss: 2.7561 - val_output_3_loss: 3.4802 - val_output_1_accuracy: 0.0000e+00 - val_output_2_accuracy: 0.6000 - val_output_3_accuracy: 0.0000e+00\n",
      "Epoch 60/100\n",
      "2/2 [==============================] - 0s 60ms/step - loss: 20802.3086 - output_1_loss: 20796.1055 - output_2_loss: 2.7424 - output_3_loss: 3.4621 - output_1_accuracy: 0.0000e+00 - output_2_accuracy: 0.4737 - output_3_accuracy: 0.0000e+00 - val_loss: 15746.1748 - val_output_1_loss: 15739.9395 - val_output_2_loss: 2.7561 - val_output_3_loss: 3.4802 - val_output_1_accuracy: 0.0000e+00 - val_output_2_accuracy: 0.6000 - val_output_3_accuracy: 0.0000e+00\n",
      "Epoch 61/100\n",
      "2/2 [==============================] - 0s 51ms/step - loss: 20802.3086 - output_1_loss: 20796.1055 - output_2_loss: 2.7424 - output_3_loss: 3.4621 - output_1_accuracy: 0.0000e+00 - output_2_accuracy: 0.4737 - output_3_accuracy: 0.0000e+00 - val_loss: 15746.1748 - val_output_1_loss: 15739.9395 - val_output_2_loss: 2.7561 - val_output_3_loss: 3.4802 - val_output_1_accuracy: 0.0000e+00 - val_output_2_accuracy: 0.6000 - val_output_3_accuracy: 0.0000e+00\n",
      "Epoch 62/100\n",
      "2/2 [==============================] - 0s 61ms/step - loss: 20802.3086 - output_1_loss: 20796.1055 - output_2_loss: 2.7424 - output_3_loss: 3.4621 - output_1_accuracy: 0.0000e+00 - output_2_accuracy: 0.4737 - output_3_accuracy: 0.0000e+00 - val_loss: 15746.1748 - val_output_1_loss: 15739.9395 - val_output_2_loss: 2.7561 - val_output_3_loss: 3.4802 - val_output_1_accuracy: 0.0000e+00 - val_output_2_accuracy: 0.6000 - val_output_3_accuracy: 0.0000e+00\n",
      "Epoch 63/100\n",
      "2/2 [==============================] - 0s 68ms/step - loss: 20802.3086 - output_1_loss: 20796.1055 - output_2_loss: 2.7424 - output_3_loss: 3.4621 - output_1_accuracy: 0.0000e+00 - output_2_accuracy: 0.4737 - output_3_accuracy: 0.0000e+00 - val_loss: 15746.1748 - val_output_1_loss: 15739.9395 - val_output_2_loss: 2.7561 - val_output_3_loss: 3.4802 - val_output_1_accuracy: 0.0000e+00 - val_output_2_accuracy: 0.6000 - val_output_3_accuracy: 0.0000e+00\n",
      "Epoch 64/100\n",
      "2/2 [==============================] - 0s 62ms/step - loss: 20802.3086 - output_1_loss: 20796.1055 - output_2_loss: 2.7424 - output_3_loss: 3.4621 - output_1_accuracy: 0.0000e+00 - output_2_accuracy: 0.4737 - output_3_accuracy: 0.0000e+00 - val_loss: 15746.1748 - val_output_1_loss: 15739.9395 - val_output_2_loss: 2.7561 - val_output_3_loss: 3.4802 - val_output_1_accuracy: 0.0000e+00 - val_output_2_accuracy: 0.6000 - val_output_3_accuracy: 0.0000e+00\n",
      "Epoch 65/100\n",
      "2/2 [==============================] - 0s 54ms/step - loss: 20802.3086 - output_1_loss: 20796.1055 - output_2_loss: 2.7424 - output_3_loss: 3.4621 - output_1_accuracy: 0.0000e+00 - output_2_accuracy: 0.4737 - output_3_accuracy: 0.0000e+00 - val_loss: 15746.1748 - val_output_1_loss: 15739.9395 - val_output_2_loss: 2.7561 - val_output_3_loss: 3.4802 - val_output_1_accuracy: 0.0000e+00 - val_output_2_accuracy: 0.6000 - val_output_3_accuracy: 0.0000e+00\n",
      "Epoch 66/100\n",
      "2/2 [==============================] - 0s 49ms/step - loss: 20802.3086 - output_1_loss: 20796.1055 - output_2_loss: 2.7424 - output_3_loss: 3.4621 - output_1_accuracy: 0.0000e+00 - output_2_accuracy: 0.4737 - output_3_accuracy: 0.0000e+00 - val_loss: 15746.1748 - val_output_1_loss: 15739.9395 - val_output_2_loss: 2.7561 - val_output_3_loss: 3.4802 - val_output_1_accuracy: 0.0000e+00 - val_output_2_accuracy: 0.6000 - val_output_3_accuracy: 0.0000e+00\n",
      "Epoch 67/100\n",
      "2/2 [==============================] - 0s 47ms/step - loss: 20802.3086 - output_1_loss: 20796.1055 - output_2_loss: 2.7424 - output_3_loss: 3.4621 - output_1_accuracy: 0.0000e+00 - output_2_accuracy: 0.4737 - output_3_accuracy: 0.0000e+00 - val_loss: 15746.1748 - val_output_1_loss: 15739.9395 - val_output_2_loss: 2.7561 - val_output_3_loss: 3.4802 - val_output_1_accuracy: 0.0000e+00 - val_output_2_accuracy: 0.6000 - val_output_3_accuracy: 0.0000e+00\n",
      "Epoch 68/100\n",
      "2/2 [==============================] - 0s 48ms/step - loss: 20802.3086 - output_1_loss: 20796.1055 - output_2_loss: 2.7424 - output_3_loss: 3.4621 - output_1_accuracy: 0.0000e+00 - output_2_accuracy: 0.4737 - output_3_accuracy: 0.0000e+00 - val_loss: 15746.1748 - val_output_1_loss: 15739.9395 - val_output_2_loss: 2.7561 - val_output_3_loss: 3.4802 - val_output_1_accuracy: 0.0000e+00 - val_output_2_accuracy: 0.6000 - val_output_3_accuracy: 0.0000e+00\n",
      "Epoch 69/100\n",
      "2/2 [==============================] - 0s 48ms/step - loss: 20802.3086 - output_1_loss: 20796.1055 - output_2_loss: 2.7424 - output_3_loss: 3.4621 - output_1_accuracy: 0.0000e+00 - output_2_accuracy: 0.4737 - output_3_accuracy: 0.0000e+00 - val_loss: 15746.1748 - val_output_1_loss: 15739.9395 - val_output_2_loss: 2.7561 - val_output_3_loss: 3.4802 - val_output_1_accuracy: 0.0000e+00 - val_output_2_accuracy: 0.6000 - val_output_3_accuracy: 0.0000e+00\n",
      "Epoch 70/100\n",
      "2/2 [==============================] - 0s 51ms/step - loss: 20802.3086 - output_1_loss: 20796.1055 - output_2_loss: 2.7424 - output_3_loss: 3.4621 - output_1_accuracy: 0.0000e+00 - output_2_accuracy: 0.4737 - output_3_accuracy: 0.0000e+00 - val_loss: 15746.1748 - val_output_1_loss: 15739.9395 - val_output_2_loss: 2.7561 - val_output_3_loss: 3.4802 - val_output_1_accuracy: 0.0000e+00 - val_output_2_accuracy: 0.6000 - val_output_3_accuracy: 0.0000e+00\n",
      "Epoch 71/100\n",
      "2/2 [==============================] - 0s 46ms/step - loss: 20802.3086 - output_1_loss: 20796.1055 - output_2_loss: 2.7424 - output_3_loss: 3.4621 - output_1_accuracy: 0.0000e+00 - output_2_accuracy: 0.4737 - output_3_accuracy: 0.0000e+00 - val_loss: 15746.1748 - val_output_1_loss: 15739.9395 - val_output_2_loss: 2.7561 - val_output_3_loss: 3.4802 - val_output_1_accuracy: 0.0000e+00 - val_output_2_accuracy: 0.6000 - val_output_3_accuracy: 0.0000e+00\n",
      "Epoch 72/100\n",
      "2/2 [==============================] - 0s 49ms/step - loss: 20802.3086 - output_1_loss: 20796.1055 - output_2_loss: 2.7424 - output_3_loss: 3.4621 - output_1_accuracy: 0.0000e+00 - output_2_accuracy: 0.4737 - output_3_accuracy: 0.0000e+00 - val_loss: 15746.1748 - val_output_1_loss: 15739.9395 - val_output_2_loss: 2.7561 - val_output_3_loss: 3.4802 - val_output_1_accuracy: 0.0000e+00 - val_output_2_accuracy: 0.6000 - val_output_3_accuracy: 0.0000e+00\n",
      "Epoch 73/100\n",
      "2/2 [==============================] - 0s 50ms/step - loss: 20802.3086 - output_1_loss: 20796.1055 - output_2_loss: 2.7424 - output_3_loss: 3.4621 - output_1_accuracy: 0.0000e+00 - output_2_accuracy: 0.4737 - output_3_accuracy: 0.0000e+00 - val_loss: 15746.1748 - val_output_1_loss: 15739.9395 - val_output_2_loss: 2.7561 - val_output_3_loss: 3.4802 - val_output_1_accuracy: 0.0000e+00 - val_output_2_accuracy: 0.6000 - val_output_3_accuracy: 0.0000e+00\n",
      "Epoch 74/100\n",
      "2/2 [==============================] - 0s 57ms/step - loss: 20802.3086 - output_1_loss: 20796.1055 - output_2_loss: 2.7424 - output_3_loss: 3.4621 - output_1_accuracy: 0.0000e+00 - output_2_accuracy: 0.4737 - output_3_accuracy: 0.0000e+00 - val_loss: 15746.1748 - val_output_1_loss: 15739.9395 - val_output_2_loss: 2.7561 - val_output_3_loss: 3.4802 - val_output_1_accuracy: 0.0000e+00 - val_output_2_accuracy: 0.6000 - val_output_3_accuracy: 0.0000e+00\n",
      "Epoch 75/100\n",
      "2/2 [==============================] - 0s 48ms/step - loss: 20802.3086 - output_1_loss: 20796.1055 - output_2_loss: 2.7424 - output_3_loss: 3.4621 - output_1_accuracy: 0.0000e+00 - output_2_accuracy: 0.4737 - output_3_accuracy: 0.0000e+00 - val_loss: 15746.1748 - val_output_1_loss: 15739.9395 - val_output_2_loss: 2.7561 - val_output_3_loss: 3.4802 - val_output_1_accuracy: 0.0000e+00 - val_output_2_accuracy: 0.6000 - val_output_3_accuracy: 0.0000e+00\n",
      "Epoch 76/100\n",
      "2/2 [==============================] - 0s 50ms/step - loss: 20802.3086 - output_1_loss: 20796.1055 - output_2_loss: 2.7424 - output_3_loss: 3.4621 - output_1_accuracy: 0.0000e+00 - output_2_accuracy: 0.4737 - output_3_accuracy: 0.0000e+00 - val_loss: 15746.1748 - val_output_1_loss: 15739.9395 - val_output_2_loss: 2.7561 - val_output_3_loss: 3.4802 - val_output_1_accuracy: 0.0000e+00 - val_output_2_accuracy: 0.6000 - val_output_3_accuracy: 0.0000e+00\n",
      "Epoch 77/100\n",
      "2/2 [==============================] - 0s 48ms/step - loss: 20802.3086 - output_1_loss: 20796.1055 - output_2_loss: 2.7424 - output_3_loss: 3.4621 - output_1_accuracy: 0.0000e+00 - output_2_accuracy: 0.4737 - output_3_accuracy: 0.0000e+00 - val_loss: 15746.1748 - val_output_1_loss: 15739.9395 - val_output_2_loss: 2.7561 - val_output_3_loss: 3.4802 - val_output_1_accuracy: 0.0000e+00 - val_output_2_accuracy: 0.6000 - val_output_3_accuracy: 0.0000e+00\n",
      "Epoch 78/100\n",
      "2/2 [==============================] - 0s 58ms/step - loss: 20802.3086 - output_1_loss: 20796.1055 - output_2_loss: 2.7424 - output_3_loss: 3.4621 - output_1_accuracy: 0.0000e+00 - output_2_accuracy: 0.4737 - output_3_accuracy: 0.0000e+00 - val_loss: 15746.1748 - val_output_1_loss: 15739.9395 - val_output_2_loss: 2.7561 - val_output_3_loss: 3.4802 - val_output_1_accuracy: 0.0000e+00 - val_output_2_accuracy: 0.6000 - val_output_3_accuracy: 0.0000e+00\n",
      "Epoch 79/100\n",
      "2/2 [==============================] - 0s 45ms/step - loss: 20802.3086 - output_1_loss: 20796.1055 - output_2_loss: 2.7424 - output_3_loss: 3.4621 - output_1_accuracy: 0.0000e+00 - output_2_accuracy: 0.4737 - output_3_accuracy: 0.0000e+00 - val_loss: 15746.1748 - val_output_1_loss: 15739.9395 - val_output_2_loss: 2.7561 - val_output_3_loss: 3.4802 - val_output_1_accuracy: 0.0000e+00 - val_output_2_accuracy: 0.6000 - val_output_3_accuracy: 0.0000e+00\n",
      "Epoch 80/100\n",
      "2/2 [==============================] - 0s 50ms/step - loss: 20802.3086 - output_1_loss: 20796.1055 - output_2_loss: 2.7424 - output_3_loss: 3.4621 - output_1_accuracy: 0.0000e+00 - output_2_accuracy: 0.4737 - output_3_accuracy: 0.0000e+00 - val_loss: 15746.1748 - val_output_1_loss: 15739.9395 - val_output_2_loss: 2.7561 - val_output_3_loss: 3.4802 - val_output_1_accuracy: 0.0000e+00 - val_output_2_accuracy: 0.6000 - val_output_3_accuracy: 0.0000e+00\n",
      "Epoch 81/100\n",
      "2/2 [==============================] - 0s 50ms/step - loss: 20802.3086 - output_1_loss: 20796.1055 - output_2_loss: 2.7424 - output_3_loss: 3.4621 - output_1_accuracy: 0.0000e+00 - output_2_accuracy: 0.4737 - output_3_accuracy: 0.0000e+00 - val_loss: 15746.1748 - val_output_1_loss: 15739.9395 - val_output_2_loss: 2.7561 - val_output_3_loss: 3.4802 - val_output_1_accuracy: 0.0000e+00 - val_output_2_accuracy: 0.6000 - val_output_3_accuracy: 0.0000e+00\n",
      "Epoch 82/100\n",
      "2/2 [==============================] - 0s 47ms/step - loss: 20802.3086 - output_1_loss: 20796.1055 - output_2_loss: 2.7424 - output_3_loss: 3.4621 - output_1_accuracy: 0.0000e+00 - output_2_accuracy: 0.4737 - output_3_accuracy: 0.0000e+00 - val_loss: 15746.1748 - val_output_1_loss: 15739.9395 - val_output_2_loss: 2.7561 - val_output_3_loss: 3.4802 - val_output_1_accuracy: 0.0000e+00 - val_output_2_accuracy: 0.6000 - val_output_3_accuracy: 0.0000e+00\n",
      "Epoch 83/100\n",
      "2/2 [==============================] - 0s 57ms/step - loss: 20802.3086 - output_1_loss: 20796.1055 - output_2_loss: 2.7424 - output_3_loss: 3.4621 - output_1_accuracy: 0.0000e+00 - output_2_accuracy: 0.4737 - output_3_accuracy: 0.0000e+00 - val_loss: 15746.1748 - val_output_1_loss: 15739.9395 - val_output_2_loss: 2.7561 - val_output_3_loss: 3.4802 - val_output_1_accuracy: 0.0000e+00 - val_output_2_accuracy: 0.6000 - val_output_3_accuracy: 0.0000e+00\n",
      "Epoch 84/100\n",
      "2/2 [==============================] - 0s 47ms/step - loss: 20802.3086 - output_1_loss: 20796.1055 - output_2_loss: 2.7424 - output_3_loss: 3.4621 - output_1_accuracy: 0.0000e+00 - output_2_accuracy: 0.4737 - output_3_accuracy: 0.0000e+00 - val_loss: 15746.1748 - val_output_1_loss: 15739.9395 - val_output_2_loss: 2.7561 - val_output_3_loss: 3.4802 - val_output_1_accuracy: 0.0000e+00 - val_output_2_accuracy: 0.6000 - val_output_3_accuracy: 0.0000e+00\n",
      "Epoch 85/100\n",
      "2/2 [==============================] - 0s 54ms/step - loss: 20802.3086 - output_1_loss: 20796.1055 - output_2_loss: 2.7424 - output_3_loss: 3.4621 - output_1_accuracy: 0.0000e+00 - output_2_accuracy: 0.4737 - output_3_accuracy: 0.0000e+00 - val_loss: 15746.1748 - val_output_1_loss: 15739.9395 - val_output_2_loss: 2.7561 - val_output_3_loss: 3.4802 - val_output_1_accuracy: 0.0000e+00 - val_output_2_accuracy: 0.6000 - val_output_3_accuracy: 0.0000e+00\n",
      "Epoch 86/100\n",
      "2/2 [==============================] - 0s 50ms/step - loss: 20802.3086 - output_1_loss: 20796.1055 - output_2_loss: 2.7424 - output_3_loss: 3.4621 - output_1_accuracy: 0.0000e+00 - output_2_accuracy: 0.4737 - output_3_accuracy: 0.0000e+00 - val_loss: 15746.1748 - val_output_1_loss: 15739.9395 - val_output_2_loss: 2.7561 - val_output_3_loss: 3.4802 - val_output_1_accuracy: 0.0000e+00 - val_output_2_accuracy: 0.6000 - val_output_3_accuracy: 0.0000e+00\n",
      "Epoch 87/100\n",
      "2/2 [==============================] - 0s 49ms/step - loss: 20802.3086 - output_1_loss: 20796.1055 - output_2_loss: 2.7424 - output_3_loss: 3.4621 - output_1_accuracy: 0.0000e+00 - output_2_accuracy: 0.4737 - output_3_accuracy: 0.0000e+00 - val_loss: 15746.1748 - val_output_1_loss: 15739.9395 - val_output_2_loss: 2.7561 - val_output_3_loss: 3.4802 - val_output_1_accuracy: 0.0000e+00 - val_output_2_accuracy: 0.6000 - val_output_3_accuracy: 0.0000e+00\n",
      "Epoch 88/100\n",
      "2/2 [==============================] - 0s 57ms/step - loss: 20802.3086 - output_1_loss: 20796.1055 - output_2_loss: 2.7424 - output_3_loss: 3.4621 - output_1_accuracy: 0.0000e+00 - output_2_accuracy: 0.4737 - output_3_accuracy: 0.0000e+00 - val_loss: 15746.1748 - val_output_1_loss: 15739.9395 - val_output_2_loss: 2.7561 - val_output_3_loss: 3.4802 - val_output_1_accuracy: 0.0000e+00 - val_output_2_accuracy: 0.6000 - val_output_3_accuracy: 0.0000e+00\n",
      "Epoch 89/100\n",
      "2/2 [==============================] - 0s 51ms/step - loss: 20802.3086 - output_1_loss: 20796.1055 - output_2_loss: 2.7424 - output_3_loss: 3.4621 - output_1_accuracy: 0.0000e+00 - output_2_accuracy: 0.4737 - output_3_accuracy: 0.0000e+00 - val_loss: 15746.1748 - val_output_1_loss: 15739.9395 - val_output_2_loss: 2.7561 - val_output_3_loss: 3.4802 - val_output_1_accuracy: 0.0000e+00 - val_output_2_accuracy: 0.6000 - val_output_3_accuracy: 0.0000e+00\n",
      "Epoch 90/100\n",
      "2/2 [==============================] - 0s 48ms/step - loss: 20802.3086 - output_1_loss: 20796.1055 - output_2_loss: 2.7424 - output_3_loss: 3.4621 - output_1_accuracy: 0.0000e+00 - output_2_accuracy: 0.4737 - output_3_accuracy: 0.0000e+00 - val_loss: 15746.1748 - val_output_1_loss: 15739.9395 - val_output_2_loss: 2.7561 - val_output_3_loss: 3.4802 - val_output_1_accuracy: 0.0000e+00 - val_output_2_accuracy: 0.6000 - val_output_3_accuracy: 0.0000e+00\n",
      "Epoch 91/100\n",
      "2/2 [==============================] - 0s 47ms/step - loss: 20802.3086 - output_1_loss: 20796.1055 - output_2_loss: 2.7424 - output_3_loss: 3.4621 - output_1_accuracy: 0.0000e+00 - output_2_accuracy: 0.4737 - output_3_accuracy: 0.0000e+00 - val_loss: 15746.1748 - val_output_1_loss: 15739.9395 - val_output_2_loss: 2.7561 - val_output_3_loss: 3.4802 - val_output_1_accuracy: 0.0000e+00 - val_output_2_accuracy: 0.6000 - val_output_3_accuracy: 0.0000e+00\n",
      "Epoch 92/100\n",
      "2/2 [==============================] - 0s 52ms/step - loss: 20802.3086 - output_1_loss: 20796.1055 - output_2_loss: 2.7424 - output_3_loss: 3.4621 - output_1_accuracy: 0.0000e+00 - output_2_accuracy: 0.4737 - output_3_accuracy: 0.0000e+00 - val_loss: 15746.1748 - val_output_1_loss: 15739.9395 - val_output_2_loss: 2.7561 - val_output_3_loss: 3.4802 - val_output_1_accuracy: 0.0000e+00 - val_output_2_accuracy: 0.6000 - val_output_3_accuracy: 0.0000e+00\n",
      "Epoch 93/100\n",
      "2/2 [==============================] - 0s 47ms/step - loss: 20802.3086 - output_1_loss: 20796.1055 - output_2_loss: 2.7424 - output_3_loss: 3.4621 - output_1_accuracy: 0.0000e+00 - output_2_accuracy: 0.4737 - output_3_accuracy: 0.0000e+00 - val_loss: 15746.1748 - val_output_1_loss: 15739.9395 - val_output_2_loss: 2.7561 - val_output_3_loss: 3.4802 - val_output_1_accuracy: 0.0000e+00 - val_output_2_accuracy: 0.6000 - val_output_3_accuracy: 0.0000e+00\n",
      "Epoch 94/100\n",
      "2/2 [==============================] - 0s 50ms/step - loss: 20802.3086 - output_1_loss: 20796.1055 - output_2_loss: 2.7424 - output_3_loss: 3.4621 - output_1_accuracy: 0.0000e+00 - output_2_accuracy: 0.4737 - output_3_accuracy: 0.0000e+00 - val_loss: 15746.1748 - val_output_1_loss: 15739.9395 - val_output_2_loss: 2.7561 - val_output_3_loss: 3.4802 - val_output_1_accuracy: 0.0000e+00 - val_output_2_accuracy: 0.6000 - val_output_3_accuracy: 0.0000e+00\n",
      "Epoch 95/100\n",
      "2/2 [==============================] - 0s 47ms/step - loss: 20802.3086 - output_1_loss: 20796.1055 - output_2_loss: 2.7424 - output_3_loss: 3.4621 - output_1_accuracy: 0.0000e+00 - output_2_accuracy: 0.4737 - output_3_accuracy: 0.0000e+00 - val_loss: 15746.1748 - val_output_1_loss: 15739.9395 - val_output_2_loss: 2.7561 - val_output_3_loss: 3.4802 - val_output_1_accuracy: 0.0000e+00 - val_output_2_accuracy: 0.6000 - val_output_3_accuracy: 0.0000e+00\n",
      "Epoch 96/100\n",
      "2/2 [==============================] - 0s 49ms/step - loss: 20802.3086 - output_1_loss: 20796.1055 - output_2_loss: 2.7424 - output_3_loss: 3.4621 - output_1_accuracy: 0.0000e+00 - output_2_accuracy: 0.4737 - output_3_accuracy: 0.0000e+00 - val_loss: 15746.1748 - val_output_1_loss: 15739.9395 - val_output_2_loss: 2.7561 - val_output_3_loss: 3.4802 - val_output_1_accuracy: 0.0000e+00 - val_output_2_accuracy: 0.6000 - val_output_3_accuracy: 0.0000e+00\n",
      "Epoch 97/100\n",
      "2/2 [==============================] - 0s 46ms/step - loss: 20802.3086 - output_1_loss: 20796.1055 - output_2_loss: 2.7424 - output_3_loss: 3.4621 - output_1_accuracy: 0.0000e+00 - output_2_accuracy: 0.4737 - output_3_accuracy: 0.0000e+00 - val_loss: 15746.1748 - val_output_1_loss: 15739.9395 - val_output_2_loss: 2.7561 - val_output_3_loss: 3.4802 - val_output_1_accuracy: 0.0000e+00 - val_output_2_accuracy: 0.6000 - val_output_3_accuracy: 0.0000e+00\n",
      "Epoch 98/100\n",
      "2/2 [==============================] - 0s 55ms/step - loss: 20802.3086 - output_1_loss: 20796.1055 - output_2_loss: 2.7424 - output_3_loss: 3.4621 - output_1_accuracy: 0.0000e+00 - output_2_accuracy: 0.4737 - output_3_accuracy: 0.0000e+00 - val_loss: 15746.1748 - val_output_1_loss: 15739.9395 - val_output_2_loss: 2.7561 - val_output_3_loss: 3.4802 - val_output_1_accuracy: 0.0000e+00 - val_output_2_accuracy: 0.6000 - val_output_3_accuracy: 0.0000e+00\n",
      "Epoch 99/100\n",
      "2/2 [==============================] - 0s 46ms/step - loss: 20802.3086 - output_1_loss: 20796.1055 - output_2_loss: 2.7424 - output_3_loss: 3.4621 - output_1_accuracy: 0.0000e+00 - output_2_accuracy: 0.4737 - output_3_accuracy: 0.0000e+00 - val_loss: 15746.1748 - val_output_1_loss: 15739.9395 - val_output_2_loss: 2.7561 - val_output_3_loss: 3.4802 - val_output_1_accuracy: 0.0000e+00 - val_output_2_accuracy: 0.6000 - val_output_3_accuracy: 0.0000e+00\n",
      "Epoch 100/100\n",
      "2/2 [==============================] - 0s 47ms/step - loss: 20802.3086 - output_1_loss: 20796.1055 - output_2_loss: 2.7424 - output_3_loss: 3.4621 - output_1_accuracy: 0.0000e+00 - output_2_accuracy: 0.4737 - output_3_accuracy: 0.0000e+00 - val_loss: 15746.1748 - val_output_1_loss: 15739.9395 - val_output_2_loss: 2.7561 - val_output_3_loss: 3.4802 - val_output_1_accuracy: 0.0000e+00 - val_output_2_accuracy: 0.6000 - val_output_3_accuracy: 0.0000e+00\n"
     ]
    }
   ],
   "source": [
    "import tensorflow as tf\n",
    "\n",
    "\n",
    "\n",
    "\n",
    "\n",
    "# Train the model\n",
    "history = model.fit(\n",
    "    [train_input_ids_train, train_attention_masks_train, train_attention_type_train], \n",
    "    train_labels, \n",
    "    epochs=100, \n",
    "    batch_size=16, \n",
    "    validation_data=([test_input_ids_test, test_attention_masks_test, test_token_type_ids_test], test_labels)\n",
    ")\n",
    "\n",
    "\n",
    "\n",
    "\n",
    "\n"
   ]
  },
  {
   "cell_type": "code",
   "execution_count": 36,
   "id": "cf1fd39d",
   "metadata": {},
   "outputs": [
    {
     "name": "stdout",
     "output_type": "stream",
     "text": [
      "1/1 [==============================] - 0s 30ms/step - loss: 15746.1748 - output_1_loss: 15739.9395 - output_2_loss: 2.7561 - output_3_loss: 3.4802 - output_1_accuracy: 0.0000e+00 - output_2_accuracy: 0.6000 - output_3_accuracy: 0.0000e+00\n",
      "Test loss: 15746.1748046875\n",
      "Test accuracy: 15739.939453125\n"
     ]
    }
   ],
   "source": [
    "# Evaluate the model on the test data\n",
    "results = model.evaluate([test_input_ids_test, test_attention_masks_test, test_token_type_ids_test], test_labels)\n",
    "\n",
    "print('Test loss:', results[0])\n",
    "print('Test accuracy:', results[1])"
   ]
  },
  {
   "cell_type": "code",
   "execution_count": 37,
   "id": "8dcf3ed5",
   "metadata": {},
   "outputs": [
    {
     "data": {
      "text/html": [
       "<div>\n",
       "<style scoped>\n",
       "    .dataframe tbody tr th:only-of-type {\n",
       "        vertical-align: middle;\n",
       "    }\n",
       "\n",
       "    .dataframe tbody tr th {\n",
       "        vertical-align: top;\n",
       "    }\n",
       "\n",
       "    .dataframe thead th {\n",
       "        text-align: right;\n",
       "    }\n",
       "</style>\n",
       "<table border=\"1\" class=\"dataframe\">\n",
       "  <thead>\n",
       "    <tr style=\"text-align: right;\">\n",
       "      <th></th>\n",
       "      <th>habits</th>\n",
       "      <th>symptoms</th>\n",
       "      <th>probability_of_cancer</th>\n",
       "    </tr>\n",
       "  </thead>\n",
       "  <tbody>\n",
       "    <tr>\n",
       "      <th>6</th>\n",
       "      <td>non-smoker</td>\n",
       "      <td>rash, itching, swelling</td>\n",
       "      <td>0</td>\n",
       "    </tr>\n",
       "    <tr>\n",
       "      <th>7</th>\n",
       "      <td>chain-smoker</td>\n",
       "      <td>pain or discomfort in the abdomen, changes in ...</td>\n",
       "      <td>1</td>\n",
       "    </tr>\n",
       "    <tr>\n",
       "      <th>10</th>\n",
       "      <td>non-smoker</td>\n",
       "      <td>frequent urination, difficulty urinating, bloo...</td>\n",
       "      <td>0</td>\n",
       "    </tr>\n",
       "    <tr>\n",
       "      <th>14</th>\n",
       "      <td>non-smoker</td>\n",
       "      <td>back pain, numbness or weakness in legs</td>\n",
       "      <td>0</td>\n",
       "    </tr>\n",
       "    <tr>\n",
       "      <th>19</th>\n",
       "      <td>chain-smoker</td>\n",
       "      <td>swelling or lumps in the neck, difficulty swal...</td>\n",
       "      <td>1</td>\n",
       "    </tr>\n",
       "  </tbody>\n",
       "</table>\n",
       "</div>"
      ],
      "text/plain": [
       "          habits                                           symptoms  \\\n",
       "6     non-smoker                            rash, itching, swelling   \n",
       "7   chain-smoker  pain or discomfort in the abdomen, changes in ...   \n",
       "10    non-smoker  frequent urination, difficulty urinating, bloo...   \n",
       "14    non-smoker            back pain, numbness or weakness in legs   \n",
       "19  chain-smoker  swelling or lumps in the neck, difficulty swal...   \n",
       "\n",
       "    probability_of_cancer  \n",
       "6                       0  \n",
       "7                       1  \n",
       "10                      0  \n",
       "14                      0  \n",
       "19                      1  "
      ]
     },
     "execution_count": 37,
     "metadata": {},
     "output_type": "execute_result"
    }
   ],
   "source": [
    "test_data\n"
   ]
  },
  {
   "cell_type": "code",
   "execution_count": 38,
   "id": "17d91543",
   "metadata": {},
   "outputs": [
    {
     "name": "stdout",
     "output_type": "stream",
     "text": [
      "WARNING:tensorflow:Layers in a Sequential model should only have a single input tensor. Received: inputs=(<tf.Tensor 'IteratorGetNext:0' shape=(None, 16) dtype=int32>, <tf.Tensor 'IteratorGetNext:1' shape=(None, 16) dtype=int32>, <tf.Tensor 'IteratorGetNext:2' shape=(None, 16) dtype=int32>). Consider rewriting this model with the Functional API.\n",
      "1/1 [==============================] - 0s 50ms/step\n"
     ]
    },
    {
     "data": {
      "text/plain": [
       "(array([[  101,  1664,   118,  5427,  1197,   102,   187, 10733,   117,\n",
       "          1122,  7520,   117, 20085,   102,     0,     0],\n",
       "        [  101,  4129,   118,  5427,  1197,   102,  2489,  1137, 19614,\n",
       "          1107,  1103, 14701,   117,  2607,  1107,   102],\n",
       "        [  101,  1664,   118,  5427,  1197,   102,  6539,   190,  9324,\n",
       "          2116,   117,  7262,   190,  9324,  1916,   102],\n",
       "        [  101,  1664,   118,  5427,  1197,   102,  1171,  2489,   117,\n",
       "         18152,  1757,  1137, 11477,  1107,  2584,   102],\n",
       "        [  101,  4129,   118,  5427,  1197,   102, 20085,  1137, 16401,\n",
       "          1116,  1107,  1103,  2455,   117,  7262,   102]], dtype=int32),\n",
       " array([[1, 1, 1, 1, 1, 1, 1, 1, 1, 1, 1, 1, 1, 1, 0, 0],\n",
       "        [1, 1, 1, 1, 1, 1, 1, 1, 1, 1, 1, 1, 1, 1, 1, 1],\n",
       "        [1, 1, 1, 1, 1, 1, 1, 1, 1, 1, 1, 1, 1, 1, 1, 1],\n",
       "        [1, 1, 1, 1, 1, 1, 1, 1, 1, 1, 1, 1, 1, 1, 1, 1],\n",
       "        [1, 1, 1, 1, 1, 1, 1, 1, 1, 1, 1, 1, 1, 1, 1, 1]], dtype=int32),\n",
       " array([[0, 0, 0, 0, 0, 0, 1, 1, 1, 1, 1, 1, 1, 1, 0, 0],\n",
       "        [0, 0, 0, 0, 0, 0, 1, 1, 1, 1, 1, 1, 1, 1, 1, 1],\n",
       "        [0, 0, 0, 0, 0, 0, 1, 1, 1, 1, 1, 1, 1, 1, 1, 1],\n",
       "        [0, 0, 0, 0, 0, 0, 1, 1, 1, 1, 1, 1, 1, 1, 1, 1],\n",
       "        [0, 0, 0, 0, 0, 0, 1, 1, 1, 1, 1, 1, 1, 1, 1, 1]], dtype=int32))"
      ]
     },
     "execution_count": 38,
     "metadata": {},
     "output_type": "execute_result"
    }
   ],
   "source": [
    "model.predict([test_input_ids, test_attention_masks, test_token_type_ids])"
   ]
  },
  {
   "cell_type": "code",
   "execution_count": 39,
   "id": "79b3eba2",
   "metadata": {},
   "outputs": [
    {
     "name": "stdout",
     "output_type": "stream",
     "text": [
      "tf.Tensor(\n",
      "[[0.  0.  0.  0.  0.  0.  0.  0.  0.  0.  0.  0.  1.  0.  0.  0. ]\n",
      " [0.  0.  0.  0.  0.  0.  0.  0.  1.  0.  0.  0.  0.  0.  0.  0. ]\n",
      " [0.  0.  0.  0.  0.  0.  0.  0.  0.5 0.  0.  0.  0.  0.5 0.  0. ]\n",
      " [0.  0.  0.  0.  0.  0.  0.  0.  0.  1.  0.  0.  0.  0.  0.  0. ]\n",
      " [0.  0.  0.  0.  0.  0.  1.  0.  0.  0.  0.  0.  0.  0.  0.  0. ]], shape=(5, 16), dtype=float32)\n"
     ]
    }
   ],
   "source": [
    "logits = tf.constant([[  101,  1664,   118,  5427,  1197,   102,   187, 10733,   117,\n",
    "          1122,  7520,   117, 20085,   102,     0,     0],\n",
    "        [  101,  4129,   118,  5427,  1197,   102,  2489,  1137, 19614,\n",
    "          1107,  1103, 14701,   117,  2607,  1107,   102],\n",
    "        [  101,  1664,   118,  5427,  1197,   102,  6539,   190,  9324,\n",
    "          2116,   117,  7262,   190,  9324,  1916,   102],\n",
    "        [  101,  1664,   118,  5427,  1197,   102,  1171,  2489,   117,\n",
    "         18152,  1757,  1137, 11477,  1107,   2584, 102],\n",
    "        [  101,  4129,   118,  5427,  1197,   102, 20085,  1137, 16401,\n",
    "          1116,  1107,  1103,  2455,   117,  7262,   102]])\n",
    "\n",
    "# Cast logits to float32\n",
    "logits_float = tf.cast(logits, tf.float32)\n",
    "\n",
    "probabilities = tf.nn.softmax(logits_float, axis=1)\n",
    "\n",
    "print(probabilities)\n"
   ]
  },
  {
   "cell_type": "code",
   "execution_count": 40,
   "id": "0fd757cc",
   "metadata": {},
   "outputs": [
    {
     "name": "stdout",
     "output_type": "stream",
     "text": [
      "Probability for class 0: tf.Tensor(0.0, shape=(), dtype=float32)\n",
      "Probability for class 1: tf.Tensor(0.0, shape=(), dtype=float32)\n",
      "Probability for class 2: tf.Tensor(0.0, shape=(), dtype=float32)\n",
      "Probability for class 3: tf.Tensor(0.0, shape=(), dtype=float32)\n",
      "Probability for class 4: tf.Tensor(0.0, shape=(), dtype=float32)\n"
     ]
    }
   ],
   "source": [
    "probs = tf.constant([\n",
    "    [0., 0., 0., 0., 0., 0., 0., 0., 0., 0., 0., 0., 1., 0., 0., 0.],\n",
    "    [0., 0., 0., 0., 0., 0., 0., 0., 1., 0., 0., 0., 0., 0., 0., 0.],\n",
    "    [0., 0., 0., 0., 0., 0., 0., 0., 0.5, 0., 0., 0., 0., 0.5, 0., 0.],\n",
    "    [0., 0., 0., 0., 0., 0., 0., 0., 0., 1., 0., 0., 0., 0., 0., 0.],\n",
    "    [0., 0., 0., 0., 0., 0., 1., 0., 0., 0., 0., 0., 0., 0., 0., 0.]\n",
    "], dtype=tf.float32)\n",
    "\n",
    "# Probabilities for the first input sample\n",
    "class_0_prob = probs[0][0]\n",
    "class_1_prob = probs[0][1]\n",
    "class_2_prob = probs[0][2]\n",
    "class_3_prob = probs[0][3]\n",
    "class_4_prob = probs[0][4]\n",
    "\n",
    "print('Probability for class 0:', class_0_prob)\n",
    "print('Probability for class 1:', class_1_prob)\n",
    "print('Probability for class 2:', class_2_prob)\n",
    "print('Probability for class 3:', class_3_prob)\n",
    "print('Probability for class 4:', class_4_prob)\n"
   ]
  },
  {
   "cell_type": "code",
   "execution_count": 41,
   "id": "d237029d",
   "metadata": {},
   "outputs": [
    {
     "name": "stdout",
     "output_type": "stream",
     "text": [
      "WARNING:tensorflow:Layers in a Sequential model should only have a single input tensor. Received: inputs=(<tf.Tensor 'input_1:0' shape=(None, 16) dtype=float32>, <tf.Tensor 'input_2:0' shape=(None, 16) dtype=float32>, <tf.Tensor 'input_3:0' shape=(None, 16) dtype=float32>). Consider rewriting this model with the Functional API.\n",
      "WARNING:tensorflow:Layers in a Sequential model should only have a single input tensor. Received: inputs=(<tf.Tensor 'input_1:0' shape=(None, 16) dtype=float32>, <tf.Tensor 'input_2:0' shape=(None, 16) dtype=float32>, <tf.Tensor 'input_3:0' shape=(None, 16) dtype=float32>). Consider rewriting this model with the Functional API.\n",
      "WARNING:tensorflow:Layers in a Sequential model should only have a single input tensor. Received: inputs=(<tf.Tensor 'input_1:0' shape=(None, 16) dtype=float32>, <tf.Tensor 'input_2:0' shape=(None, 16) dtype=float32>, <tf.Tensor 'input_3:0' shape=(None, 16) dtype=float32>). Consider rewriting this model with the Functional API.\n",
      "WARNING:tensorflow:Layers in a Sequential model should only have a single input tensor. Received: inputs=(<tf.Tensor 'inputs:0' shape=(None, 16) dtype=float32>, <tf.Tensor 'inputs_1:0' shape=(None, 16) dtype=float32>, <tf.Tensor 'inputs_2:0' shape=(None, 16) dtype=float32>). Consider rewriting this model with the Functional API.\n",
      "WARNING:tensorflow:Layers in a Sequential model should only have a single input tensor. Received: inputs=(<tf.Tensor 'inputs:0' shape=(None, 16) dtype=float32>, <tf.Tensor 'inputs_1:0' shape=(None, 16) dtype=float32>, <tf.Tensor 'inputs_2:0' shape=(None, 16) dtype=float32>). Consider rewriting this model with the Functional API.\n",
      "WARNING:tensorflow:Layers in a Sequential model should only have a single input tensor. Received: inputs=(<tf.Tensor 'inputs_0:0' shape=(None, 16) dtype=float32>, <tf.Tensor 'inputs_1:0' shape=(None, 16) dtype=float32>, <tf.Tensor 'inputs_2:0' shape=(None, 16) dtype=float32>). Consider rewriting this model with the Functional API.\n",
      "WARNING:tensorflow:Layers in a Sequential model should only have a single input tensor. Received: inputs=(<tf.Tensor 'inputs_0:0' shape=(None, 16) dtype=float32>, <tf.Tensor 'inputs_1:0' shape=(None, 16) dtype=float32>, <tf.Tensor 'inputs_2:0' shape=(None, 16) dtype=float32>). Consider rewriting this model with the Functional API.\n"
     ]
    },
    {
     "name": "stderr",
     "output_type": "stream",
     "text": [
      "WARNING:absl:Found untraced functions such as _update_step_xla while saving (showing 1 of 1). These functions will not be directly callable after loading.\n"
     ]
    },
    {
     "name": "stdout",
     "output_type": "stream",
     "text": [
      "INFO:tensorflow:Assets written to: /home/rifat/miniconda3/Bio_ClinicalBERT/cance_gpu/assets\n"
     ]
    },
    {
     "name": "stderr",
     "output_type": "stream",
     "text": [
      "INFO:tensorflow:Assets written to: /home/rifat/miniconda3/Bio_ClinicalBERT/cance_gpu/assets\n"
     ]
    },
    {
     "name": "stdout",
     "output_type": "stream",
     "text": [
      "WARNING:tensorflow:Layers in a Sequential model should only have a single input tensor. Received: inputs=(<tf.Tensor 'input_1:0' shape=(None, 16) dtype=float32>, <tf.Tensor 'input_2:0' shape=(None, 16) dtype=float32>, <tf.Tensor 'input_3:0' shape=(None, 16) dtype=float32>). Consider rewriting this model with the Functional API.\n"
     ]
    },
    {
     "name": "stderr",
     "output_type": "stream",
     "text": [
      "WARNING:tensorflow:Layers in a Sequential model should only have a single input tensor. Received: inputs=(<tf.Tensor 'input_1:0' shape=(None, 16) dtype=float32>, <tf.Tensor 'input_2:0' shape=(None, 16) dtype=float32>, <tf.Tensor 'input_3:0' shape=(None, 16) dtype=float32>). Consider rewriting this model with the Functional API.\n"
     ]
    },
    {
     "name": "stdout",
     "output_type": "stream",
     "text": [
      "WARNING:tensorflow:Layers in a Sequential model should only have a single input tensor. Received: inputs=(<tf.Tensor 'input_1:0' shape=(None, 16) dtype=float32>, <tf.Tensor 'input_2:0' shape=(None, 16) dtype=float32>, <tf.Tensor 'input_3:0' shape=(None, 16) dtype=float32>). Consider rewriting this model with the Functional API.\n"
     ]
    },
    {
     "name": "stderr",
     "output_type": "stream",
     "text": [
      "WARNING:tensorflow:Layers in a Sequential model should only have a single input tensor. Received: inputs=(<tf.Tensor 'input_1:0' shape=(None, 16) dtype=float32>, <tf.Tensor 'input_2:0' shape=(None, 16) dtype=float32>, <tf.Tensor 'input_3:0' shape=(None, 16) dtype=float32>). Consider rewriting this model with the Functional API.\n"
     ]
    },
    {
     "name": "stdout",
     "output_type": "stream",
     "text": [
      "WARNING:tensorflow:Layers in a Sequential model should only have a single input tensor. Received: inputs=(<tf.Tensor 'input_1:0' shape=(None, 16) dtype=float32>, <tf.Tensor 'input_2:0' shape=(None, 16) dtype=float32>, <tf.Tensor 'input_3:0' shape=(None, 16) dtype=float32>). Consider rewriting this model with the Functional API.\n"
     ]
    },
    {
     "name": "stderr",
     "output_type": "stream",
     "text": [
      "WARNING:tensorflow:Layers in a Sequential model should only have a single input tensor. Received: inputs=(<tf.Tensor 'input_1:0' shape=(None, 16) dtype=float32>, <tf.Tensor 'input_2:0' shape=(None, 16) dtype=float32>, <tf.Tensor 'input_3:0' shape=(None, 16) dtype=float32>). Consider rewriting this model with the Functional API.\n"
     ]
    },
    {
     "name": "stdout",
     "output_type": "stream",
     "text": [
      "WARNING:tensorflow:Layers in a Sequential model should only have a single input tensor. Received: inputs=(<tf.Tensor 'inputs:0' shape=(None, 16) dtype=float32>, <tf.Tensor 'inputs_1:0' shape=(None, 16) dtype=float32>, <tf.Tensor 'inputs_2:0' shape=(None, 16) dtype=float32>). Consider rewriting this model with the Functional API.\n"
     ]
    },
    {
     "name": "stderr",
     "output_type": "stream",
     "text": [
      "WARNING:tensorflow:Layers in a Sequential model should only have a single input tensor. Received: inputs=(<tf.Tensor 'inputs:0' shape=(None, 16) dtype=float32>, <tf.Tensor 'inputs_1:0' shape=(None, 16) dtype=float32>, <tf.Tensor 'inputs_2:0' shape=(None, 16) dtype=float32>). Consider rewriting this model with the Functional API.\n"
     ]
    },
    {
     "name": "stdout",
     "output_type": "stream",
     "text": [
      "WARNING:tensorflow:Layers in a Sequential model should only have a single input tensor. Received: inputs=(<tf.Tensor 'inputs:0' shape=(None, 16) dtype=float32>, <tf.Tensor 'inputs_1:0' shape=(None, 16) dtype=float32>, <tf.Tensor 'inputs_2:0' shape=(None, 16) dtype=float32>). Consider rewriting this model with the Functional API.\n"
     ]
    },
    {
     "name": "stderr",
     "output_type": "stream",
     "text": [
      "WARNING:tensorflow:Layers in a Sequential model should only have a single input tensor. Received: inputs=(<tf.Tensor 'inputs:0' shape=(None, 16) dtype=float32>, <tf.Tensor 'inputs_1:0' shape=(None, 16) dtype=float32>, <tf.Tensor 'inputs_2:0' shape=(None, 16) dtype=float32>). Consider rewriting this model with the Functional API.\n"
     ]
    },
    {
     "name": "stdout",
     "output_type": "stream",
     "text": [
      "WARNING:tensorflow:Layers in a Sequential model should only have a single input tensor. Received: inputs=(<tf.Tensor 'inputs_0:0' shape=(None, 16) dtype=float32>, <tf.Tensor 'inputs_1:0' shape=(None, 16) dtype=float32>, <tf.Tensor 'inputs_2:0' shape=(None, 16) dtype=float32>). Consider rewriting this model with the Functional API.\n"
     ]
    },
    {
     "name": "stderr",
     "output_type": "stream",
     "text": [
      "WARNING:tensorflow:Layers in a Sequential model should only have a single input tensor. Received: inputs=(<tf.Tensor 'inputs_0:0' shape=(None, 16) dtype=float32>, <tf.Tensor 'inputs_1:0' shape=(None, 16) dtype=float32>, <tf.Tensor 'inputs_2:0' shape=(None, 16) dtype=float32>). Consider rewriting this model with the Functional API.\n"
     ]
    },
    {
     "name": "stdout",
     "output_type": "stream",
     "text": [
      "WARNING:tensorflow:Layers in a Sequential model should only have a single input tensor. Received: inputs=(<tf.Tensor 'inputs_0:0' shape=(None, 16) dtype=float32>, <tf.Tensor 'inputs_1:0' shape=(None, 16) dtype=float32>, <tf.Tensor 'inputs_2:0' shape=(None, 16) dtype=float32>). Consider rewriting this model with the Functional API.\n"
     ]
    },
    {
     "name": "stderr",
     "output_type": "stream",
     "text": [
      "WARNING:tensorflow:Layers in a Sequential model should only have a single input tensor. Received: inputs=(<tf.Tensor 'inputs_0:0' shape=(None, 16) dtype=float32>, <tf.Tensor 'inputs_1:0' shape=(None, 16) dtype=float32>, <tf.Tensor 'inputs_2:0' shape=(None, 16) dtype=float32>). Consider rewriting this model with the Functional API.\n",
      "WARNING:absl:Found untraced functions such as _update_step_xla while saving (showing 1 of 1). These functions will not be directly callable after loading.\n"
     ]
    },
    {
     "name": "stdout",
     "output_type": "stream",
     "text": [
      "INFO:tensorflow:Assets written to: /home/rifat/miniconda3/Bio_ClinicalBERT/assets\n"
     ]
    },
    {
     "name": "stderr",
     "output_type": "stream",
     "text": [
      "INFO:tensorflow:Assets written to: /home/rifat/miniconda3/Bio_ClinicalBERT/assets\n"
     ]
    }
   ],
   "source": [
    "# Save the model to a directory\n",
    "model.save('/home/rifat/miniconda3/Bio_ClinicalBERT/cance_gpu')\n",
    "model.save('/home/rifat/miniconda3/Bio_ClinicalBERT')"
   ]
  }
 ],
 "metadata": {
  "kernelspec": {
   "display_name": "Python 3 (ipykernel)",
   "language": "python",
   "name": "python3"
  },
  "language_info": {
   "codemirror_mode": {
    "name": "ipython",
    "version": 3
   },
   "file_extension": ".py",
   "mimetype": "text/x-python",
   "name": "python",
   "nbconvert_exporter": "python",
   "pygments_lexer": "ipython3",
   "version": "3.9.16"
  }
 },
 "nbformat": 4,
 "nbformat_minor": 5
}
